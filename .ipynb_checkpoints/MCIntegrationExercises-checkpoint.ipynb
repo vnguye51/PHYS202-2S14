{
 "metadata": {
  "name": "",
  "signature": "sha256:764fd77f4c67c27d2ae739fca26c8c9e16ca476ab5647268d90c8dc23730e55e"
 },
 "nbformat": 3,
 "nbformat_minor": 0,
 "worksheets": [
  {
   "cells": [
    {
     "cell_type": "heading",
     "level": 1,
     "metadata": {},
     "source": [
      "Monte Carlo Integration Exercises"
     ]
    },
    {
     "cell_type": "code",
     "collapsed": false,
     "input": [
      "%pylab inline\n",
      "import numpy as np\n",
      "import matplotlib.pyplot as plt\n",
      "from IPython.html.widgets import interact, interactive"
     ],
     "language": "python",
     "metadata": {},
     "outputs": [
      {
       "output_type": "stream",
       "stream": "stdout",
       "text": [
        "Populating the interactive namespace from numpy and matplotlib\n"
       ]
      }
     ],
     "prompt_number": 1
    },
    {
     "cell_type": "heading",
     "level": 3,
     "metadata": {},
     "source": [
      "Question 1"
     ]
    },
    {
     "cell_type": "markdown",
     "metadata": {},
     "source": [
      "\n",
      "\n",
      "Let\u2019s compute the electric potential from a plane of charge as shown in the figure using Monte Carlo integration.\n",
      "\n",
      "The integral comes from summing all the potentials from the chunks of \u201cpoint\u201d charges. Just as we summed two charges for a dipole, now we\u2019ll sum many charges. The important part is to understand how dQ, modeled as a point charge, is related to \u03c3dA, where \u03c3 is the surface charge density = charge/area (\u03c3=Q/A ) Review your notes from PHYS 133 if you need a refresher.\n",
      "\n",
      "We want to use our previously defined pointPotential() function from Electrostatics.py, so we have to import it.\n"
     ]
    },
    {
     "cell_type": "code",
     "collapsed": false,
     "input": [
      "#import our point potential function\n",
      "from Electrostatics import *"
     ],
     "language": "python",
     "metadata": {},
     "outputs": [],
     "prompt_number": 2
    },
    {
     "cell_type": "markdown",
     "metadata": {},
     "source": [
      "(a) Use the sample mean method to compute the potential at point P(2,3) due to the disk of charge for different numbers of samples $N=(10^1,10^2,10^3,10^4,10^5,10^6)$. Report the value and its statistical uncertainty for each sample size. How does the result depend on N?"
     ]
    },
    {
     "cell_type": "code",
     "collapsed": false,
     "input": [
      "help(pointPotential)"
     ],
     "language": "python",
     "metadata": {},
     "outputs": [
      {
       "output_type": "stream",
       "stream": "stdout",
       "text": [
        "Help on function pointPotential in module Electrostatics:\n",
        "\n",
        "pointPotential(x, y, q, Xc, Yc)\n",
        "    Return the electric potential for a \n",
        "    point charge q at (Xc,Yc)\n",
        "    \n",
        "    Units returend are [Volts] if input\n",
        "    units are [meters] and [Coulombs]\n",
        "\n"
       ]
      }
     ],
     "prompt_number": 3
    },
    {
     "cell_type": "code",
     "collapsed": false,
     "input": [
      "#\n",
      "#The potential at point P(2,3) is the sum of all \"point\" charges within\n",
      "#the plane of charge with corners (-1,0),(1,0),(1,1),(-1,1)\n",
      "#and charge density sigma = 1 microCoulomb/m^2\n",
      "#\n",
      "#dQ = sigma(dA)\n",
      "#\n",
      "#The Electric potential due to a point charge is:\n",
      "#V = kQ/r\n",
      "#dV = kdQ/r\n",
      "#r = (x^2+y^2)^(1/2)\n",
      "print 1.e-4"
     ],
     "language": "python",
     "metadata": {},
     "outputs": [
      {
       "output_type": "stream",
       "stream": "stdout",
       "text": [
        "0.0001\n"
       ]
      }
     ],
     "prompt_number": 4
    },
    {
     "cell_type": "code",
     "collapsed": false,
     "input": [
      "k = 9.e9\n",
      "sigma = 1.e-6\n",
      "def sampleMean(N,xmin=-1.,xmax=1.,ymin=0.,ymax=2.):\n",
      "    f = lambda x,y: ((k*sigma)/(((2.-x)**2.+(3.-y)**2.)**(1./2.)))\n",
      "    x = (xmax-xmin)*np.random.random_sample(N)\n",
      "    y = (ymax-ymin)*np.random.random_sample(N)\n",
      "    \n",
      "    approx = f(x,y)\n",
      "    I = (xmax-xmin)*(ymax-ymin)*approx.mean()\n",
      "    Iunc = (xmax-xmin)*(ymax-ymin)*np.sqrt(((approx**2).mean()-(approx.mean())**2)/N)\n",
      "    return I, Iunc"
     ],
     "language": "python",
     "metadata": {},
     "outputs": [],
     "prompt_number": 15
    },
    {
     "cell_type": "code",
     "collapsed": false,
     "input": [
      "for i in range (1,7,1):\n",
      "    print \"Number of Samples: %s\" % 10**i\n",
      "    print \"Electric Potential: %s V, Uncertainty: +/- %s\" % (sampleMean(10**i))\n",
      "    print\n",
      "                                                             "
     ],
     "language": "python",
     "metadata": {},
     "outputs": [
      {
       "output_type": "stream",
       "stream": "stdout",
       "text": [
        "Number of Samples: 10\n",
        "Electric Potential: 18136.6020841 V, Uncertainty: +/- 1531.59072526\n",
        "\n",
        "Number of Samples: 100\n",
        "Electric Potential: 15924.4685077 V, Uncertainty: +/- 465.095018899\n",
        "\n",
        "Number of Samples: 1000\n",
        "Electric Potential: 16649.3442352 V, Uncertainty: +/- 153.287873884\n",
        "\n",
        "Number of Samples: 10000\n",
        "Electric Potential: 16823.8277479 V, Uncertainty: +/- 49.2358774009\n",
        "\n",
        "Number of Samples: 100000\n",
        "Electric Potential: 16741.9486839 V, Uncertainty: +/- 15.5097440994\n",
        "\n",
        "Number of Samples: 1000000\n",
        "Electric Potential: 16731.6488541 V, Uncertainty: +/- 4.8964663797"
       ]
      },
      {
       "output_type": "stream",
       "stream": "stdout",
       "text": [
        "\n",
        "\n"
       ]
      }
     ],
     "prompt_number": 26
    },
    {
     "cell_type": "heading",
     "level": 3,
     "metadata": {},
     "source": [
      "Question 2"
     ]
    },
    {
     "cell_type": "code",
     "collapsed": false,
     "input": [
      "print 5./3."
     ],
     "language": "python",
     "metadata": {},
     "outputs": [
      {
       "output_type": "stream",
       "stream": "stdout",
       "text": [
        "1.66666666667\n"
       ]
      }
     ],
     "prompt_number": 10
    },
    {
     "cell_type": "code",
     "collapsed": false,
     "input": [],
     "language": "python",
     "metadata": {},
     "outputs": [],
     "prompt_number": 19
    },
    {
     "cell_type": "code",
     "collapsed": false,
     "input": [],
     "language": "python",
     "metadata": {},
     "outputs": []
    }
   ],
   "metadata": {}
  }
 ]
}