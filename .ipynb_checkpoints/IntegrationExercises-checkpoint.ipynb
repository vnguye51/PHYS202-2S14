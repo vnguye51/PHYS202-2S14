{
 "metadata": {
  "name": "",
  "signature": "sha256:2ded625a75b65180ae5952137ac62a55e3c95103128b67c0cdbffd5b757cdae7"
 },
 "nbformat": 3,
 "nbformat_minor": 0,
 "worksheets": [
  {
   "cells": [
    {
     "cell_type": "heading",
     "level": 1,
     "metadata": {},
     "source": [
      "Integration Exercises"
     ]
    },
    {
     "cell_type": "code",
     "collapsed": false,
     "input": [
      "%pylab inline\n",
      "import numpy as np\n",
      "import matplotlib.pyplot as plt\n",
      "import scipy.integrate as integrate\n",
      "from scipy.integrate import dblquad\n",
      "from scipy.integrate import tplquad"
     ],
     "language": "python",
     "metadata": {},
     "outputs": [
      {
       "output_type": "stream",
       "stream": "stdout",
       "text": [
        "Populating the interactive namespace from numpy and matplotlib\n"
       ]
      }
     ],
     "prompt_number": 173
    },
    {
     "cell_type": "heading",
     "level": 3,
     "metadata": {},
     "source": [
      "Question 1"
     ]
    },
    {
     "cell_type": "markdown",
     "metadata": {},
     "source": [
      "(a) Write two functions trapz(func,x) and simps(func,x) to compute the integral of the function func over the variable x using the trapezoidal rule and Simpson's rule to a file called Integrators.py. Do not use the scipy.integrate built-in functions. Include docstrings with each function that describe what they do. Then import the module and use the functions to answer the following questions."
     ]
    },
    {
     "cell_type": "code",
     "collapsed": false,
     "input": [
      "%%file Integrators.py\n",
      "import numpy as np\n",
      "def trapz(func,x, N):\n",
      "    a = 0.0\n",
      "    b = x\n",
      "    h = (b-a)/N\n",
      "    \n",
      "    k = np.arange(1,N)\n",
      "    I = h*(0.5*func(a) + 0.5*func(b) + func(a+k*h).sum())\n",
      "    return I\n",
      "\n",
      "def simps(func,x, N):\n",
      "    a = 0.0\n",
      "    b = x\n",
      "    h = (b-a)/N\n",
      "    \n",
      "    k1 = np.arange(1,N/2+1)\n",
      "    k2 = np.arange(1,N/2)\n",
      "    I = (1./3.)*h*(func(a) + func(b) + 4.*func(a+(2*k1-1)*h).sum() + 2.*func(a+2*k2*h).sum())\n",
      "    return I"
     ],
     "language": "python",
     "metadata": {},
     "outputs": [
      {
       "output_type": "stream",
       "stream": "stdout",
       "text": [
        "Overwriting Integrators.py\n"
       ]
      }
     ],
     "prompt_number": 174
    },
    {
     "cell_type": "code",
     "collapsed": false,
     "input": [
      "import Integrators as myint"
     ],
     "language": "python",
     "metadata": {},
     "outputs": [],
     "prompt_number": 175
    },
    {
     "cell_type": "markdown",
     "metadata": {},
     "source": [
      "(b) Use your trapz and simps functions from part (a) to calculate the integral of x$^4$\u22122x+1 from x = 0 to x = 2 with N = 10, N = 100, and N = 1000. Then compare your result to the known correct value of 4.4. What is the percent error in each case?\n"
     ]
    },
    {
     "cell_type": "code",
     "collapsed": false,
     "input": [
      "function = lambda x: x**4 - 2*x + 1\n",
      "\n",
      "print \"Trapezoidal Integration:\"\n",
      "print \"N = 10   \", myint.trapz(function,2,10), \"       %Error:\", abs((4.4 - myint.trapz(function,2,10))/4.)\n",
      "print 'N = 100  ',myint.trapz(function,2,100), \"   %Error:\", abs((4.4 - myint.trapz(function,2,100))/4.)\n",
      "print 'N = 1000 ',myint.trapz(function,2,1000),\" %Error:\", abs((4.4 - myint.trapz(function,2,1000))/4.)\n",
      "print\n",
      "print 'Simpson\\'s Integration'\n",
      "print 'N = 10   ',myint.simps(function,2,10), \" %Error:\", abs((4.4 - myint.simps(function,2,10))/4.)\n",
      "print 'N = 100  ',myint.simps(function,2,100), \" %Error:\", abs((4.4 - myint.simps(function,2,100))/4.)\n",
      "print 'N = 1000 ',myint.simps(function,2,1000), \"           %Error:\", abs((4.4 - myint.simps(function,2,1000))/4.)\n",
      "    \n",
      "    "
     ],
     "language": "python",
     "metadata": {},
     "outputs": [
      {
       "output_type": "stream",
       "stream": "stdout",
       "text": [
        "Trapezoidal Integration:\n",
        "N = 10    4.50656        %Error: 0.02664\n",
        "N = 100   4.401066656    %Error: 0.000266664\n",
        "N = 1000  4.40001066667  %Error: 2.66666639992e-06\n",
        "\n",
        "Simpson's Integration\n",
        "N = 10    4.40042666667  %Error: 0.000106666666667\n",
        "N = 100   4.40000004267  %Error: 1.06666666611e-08\n",
        "N = 1000  4.4            %Error: 1.06670228206e-12\n"
       ]
      }
     ],
     "prompt_number": 176
    },
    {
     "cell_type": "heading",
     "level": 3,
     "metadata": {},
     "source": [
      "Question 2"
     ]
    },
    {
     "cell_type": "markdown",
     "metadata": {},
     "source": [
      "Consider the integral\n",
      "\n",
      "$$ E(x) = \\int_{0}^{x} e^{-t^2}dt$$\n",
      "\n",
      "This is the error function, commonly seen in probability and statistics. There is no known way to perform this particular integral analytically, although the integrand can be expanded in a Taylor series and terms computed to arbitrary order. For most applications, numerical approaches are the only way forward.\n"
     ]
    },
    {
     "cell_type": "markdown",
     "metadata": {},
     "source": [
      "(a) Use scipy.integrate.cumtrapz to calculate $E(x)$ for values of $x$ from 0 to 3 in steps of 0.1. Print the result.\n"
     ]
    },
    {
     "cell_type": "code",
     "collapsed": false,
     "input": [
      "def func(x):\n",
      "    return np.exp(-x**2)\n",
      "\n",
      "x = arange(0.,3.1,0.1)\n",
      "y = func(x)\n",
      "\n",
      "I = integrate.cumtrapz(y, x, initial=0)\n",
      "\n",
      "print I\n"
     ],
     "language": "python",
     "metadata": {},
     "outputs": [
      {
       "output_type": "stream",
       "stream": "stdout",
       "text": [
        "[ 0.          0.09950249  0.19704446  0.29078049  0.37908424  0.46063146\n",
        "  0.53445532  0.59997046  0.6569664   0.70557392  0.7462108   0.77951463\n",
        "  0.80627088  0.82734325  0.84361215  0.85592503  0.86506023  0.87170427\n",
        "  0.87644128  0.87975207  0.88202044  0.88354398  0.88454709  0.88519453\n",
        "  0.88560418  0.88585826  0.88601274  0.88610482  0.88615862  0.88618943\n",
        "  0.88620673]\n"
       ]
      }
     ],
     "prompt_number": 177
    },
    {
     "cell_type": "markdown",
     "metadata": {},
     "source": [
      "\n",
      "(b) Plot the integrand as a function of $t$ and $E(x)$ as a function of $x$ (both ranging from 0 to 3) on the same graph."
     ]
    },
    {
     "cell_type": "code",
     "collapsed": false,
     "input": [
      "plt.plot(x,y, label = 'function')\n",
      "plt.plot(x,I, label = 'Cumulative Trapz')\n",
      "plt.legend(loc='upper left', fontsize = 10)"
     ],
     "language": "python",
     "metadata": {},
     "outputs": [
      {
       "metadata": {},
       "output_type": "pyout",
       "prompt_number": 178,
       "text": [
        "<matplotlib.legend.Legend at 0x1068c3890>"
       ]
      },
      {
       "metadata": {},
       "output_type": "display_data",
       "png": "[encoded data removed]",
       "text": [
        "<matplotlib.figure.Figure at 0x106916f10>"
       ]
      }
     ],
     "prompt_number": 178
    },
    {
     "cell_type": "heading",
     "level": 3,
     "metadata": {},
     "source": [
      "Question 3"
     ]
    },
    {
     "cell_type": "markdown",
     "metadata": {},
     "source": [
      "Consider a particle in a one-dimensional box of width L. The probability of finding the particle between a and b is given by\n",
      "$$P(a,b)=\u222bba|\u03c8(x)|2dx$$\n",
      "where\n",
      "$$\u03c8(x)=2L\u221asin(n\u03c0xL)$$\n",
      "is the wavefunction."
     ]
    },
    {
     "cell_type": "markdown",
     "metadata": {},
     "source": [
      "(a) What is the probability of finding the particle between $L/3$ and $L/2$ for the ground state (n = 1) and for the first excited state $(n = 2)$? Let $L$ = 1. Perform the integral using both scipy.integrate.trapz and scipy.integrate.quad with an accuracy of 6 sig figs. How many slices did you need to use for scipy.integrate.trapz?"
     ]
    },
    {
     "cell_type": "code",
     "collapsed": false,
     "input": [
      "x = arange(1/3.,1/2.,.1/39)\n",
      "y = 2**(1/2)*np.sin(np.pi*x)\n",
      "Pt = integrate.trapz(y,x)\n",
      "print \"For the n = 1 state:\"\n",
      "print \"Using Trapz:\",Pt\n",
      "\n",
      "func = lambda x1: 2**(1/2)*np.sin(np.pi*x1)\n",
      "Pq = integrate.quad(func,1/3.,1/2.)\n",
      "\n",
      "print \"Using Quad::\",Pq\n",
      "print \"I used 129 slices to get an accuracy of 6 sig figs\"\n",
      "\n",
      "print \n",
      "print \"for the n = 2 state:\"\n",
      "x3 = arange(1/3.,1/2.,.1/630.)\n",
      "y = 2**(1/2)*np.sin(2*np.pi*x3)\n",
      "func2 = lambda x4: 2**(1/2)*np.sin(2*np.pi*x4)\n",
      "Pt2 = integrate.trapz(y,x3)\n",
      "Pq2 = integrate.quad(func2,1/3.,1/2.)\n",
      "print \"Using Trapz:\", Pt2\n",
      "print \"Using Quad:\", Pq2\n",
      "print \"I used %s slices to get an accuracy of 6 sig figs\" % ((1/2. - 1/3.)/(.1/630.) + 1.)"
     ],
     "language": "python",
     "metadata": {},
     "outputs": [
      {
       "output_type": "stream",
       "stream": "stdout",
       "text": [
        "For the n = 1 state:\n",
        "Using Trapz: 0.159154082475\n",
        "Using Quad:: (0.15915494309189535, 1.7669748230352872e-15)\n",
        "I used 129 slices to get an accuracy of 6 sig figs\n",
        "\n",
        "for the n = 2 state:\n",
        "Using Trapz: 0.0795774649498\n",
        "Using Quad: (0.07957747154594771, 8.83487411517644e-16)\n",
        "I used 1051.0 slices to get an accuracy of 6 sig figs\n"
       ]
      }
     ],
     "prompt_number": 179
    },
    {
     "cell_type": "heading",
     "level": 3,
     "metadata": {},
     "source": [
      "Question 4"
     ]
    },
    {
     "cell_type": "markdown",
     "metadata": {},
     "source": [
      "Integrals of mass density lead to three interesting quantities:\n",
      "\n",
      "$M=\u222b\u03c1dV$\n",
      "\n",
      "$r\u20d7 _{cm}=(x_{cm},y_{cm},z_{cm})=1/M\u222br\u20d7 \u03c1dV$\n",
      "\n",
      "$Icm=\u222b(r\u2212r_{cm})^2\u03c1dV$\n",
      "\n",
      "where M is the total mass (a scalar), r\u20d7 cm is the center of mass position (a vector of 3 components), Icm are the moments of inertia about the center of mass (diagonals of a 3x3 matrix), and the mass density, \u03c1, may be a function of the spatial variables.\n",
      "\n",
      "Consider a rectangular box: length (in x) = 0.2 m, width (in y) = 0.2 m, and height (in z) = 1.0 m centered on the origin, (0,0,0) and with a mass density, $\u03c1(x,y,z) = (100 kg/m^4)(y + 0.1) + (100 kg/m^5)z^2$ for x, y, and z in meters."
     ]
    },
    {
     "cell_type": "markdown",
     "metadata": {},
     "source": [
      "\n",
      "\n",
      "(a) Use numerical integration to find M, r\u20d7 cm, and Icm. Note that you need M to compute r\u20d7 cm and r\u20d7 cm to compute Icm. The moments of inertia Icm are Ixx, Iyy, and Izz, where e.g. $Ixx=\u222b((y\u2212ycm)2+(z\u2212zcm)2)\u03c1dV$, etc.\n"
     ]
    },
    {
     "cell_type": "code",
     "collapsed": false,
     "input": [
      "#Mass density\n",
      "p = lambda z,y,x: (100.)*(y+0.1) + (100.)*z**2.\n",
      "xmin = -.1\n",
      "xmax = .1\n",
      "\n",
      "ymin = lambda x: -.1\n",
      "ymax = lambda x:.1\n",
      "\n",
      "zmin = lambda x,y:-0.5\n",
      "zmax = lambda x,y:0.5\n",
      "\n",
      "M, err = tplquad(p, xmin, xmax, ymin, ymax, zmin, zmax)\n",
      "print \"Mass =\", M, \"kg\"\n",
      "\n",
      "#Finding Center of Mass\n",
      "rx = lambda z,y,x: x*((100.)*(y+0.1) + (100.)*z**2.)\n",
      "ans, err = tplquad(rx, xmin, xmax, ymin, ymax, zmin, zmax)\n",
      "Xcm = (1/M)*ans\n",
      "\n",
      "ry = lambda z,y,x: y*((100.)*(y+0.1) + (100.)*z**2.)\n",
      "ans, err = tplquad(ry, xmin, xmax, ymin, ymax, zmin, zmax)\n",
      "Ycm = (1/M)*ans\n",
      "\n",
      "rz = lambda z,y,x: z*((100.)*(y+0.1) + (100.)*z**2.)\n",
      "ans, err = tplquad(rz, xmin, xmax, ymin, ymax, zmin, zmax)\n",
      "Zcm = (1/M)*ans\n",
      "\n",
      "print \"Center of Mass at (%s,%s,%s)\" % (Xcm,Ycm,Zcm)\n",
      "\n",
      "#Finding the Moments of Inertia\n",
      "Intx = lambda x,y,z: ((y-Ycm)**2 + (z-Zcm)**2)*((100.)*(y+0.1) + (100.)*z**2.)\n",
      "Ixx, err = tplquad(Intx, xmin, xmax, ymin, ymax, zmin, zmax)\n",
      "Inty = lambda x,y,z: ((x-Xcm)**2 + (z-Zcm)**2)*((100.)*(y+0.1) + (100.)*z**2.)\n",
      "Iyy, err = tplquad(Inty, xmin, xmax, ymin, ymax, zmin, zmax)\n",
      "Intz = lambda x,y,z: ((x-Xcm)**2 + (y-Ycm)**2)*((100.)*(y+0.1) + (100.)*z**2.)\n",
      "Izz, err = tplquad(Intz, xmin, xmax, ymin, ymax, zmin, zmax)\n",
      "\n",
      "print \"Moments of Inertia = (%s,%s,%s)\" % (Ixx,Iyy,Izz)\n"
     ],
     "language": "python",
     "metadata": {},
     "outputs": [
      {
       "output_type": "stream",
       "stream": "stdout",
       "text": [
        "Mass = 0.733333333333 kg\n",
        "Center of Mass at (0.0,0.0181818181818,0.0)\n",
        "Moments of Inertia = (0.00244290174472,0.0358577777778,0.0354740128558)"
       ]
      },
      {
       "output_type": "stream",
       "stream": "stdout",
       "text": [
        "\n"
       ]
      }
     ],
     "prompt_number": 180
    },
    {
     "cell_type": "markdown",
     "metadata": {},
     "source": [
      "(b) The mass, center of mass, and moments of inertia can be easily computed analytically for a rectangular box of uniform density. (Compute them yourself or look them up). Verify your algorithm from part (a) works by having it compute the result for this test case. How accurate (how many sig figs?) is the numerical result?"
     ]
    },
    {
     "cell_type": "code",
     "collapsed": false,
     "input": [
      "#Calculating the moments of inertia for a box centered at the origin with\n",
      "#length = 2m, width = 2m, z = 4m, and uniform mass density, p = 1\n",
      "\n",
      "p = lambda z,y,x: 1\n",
      "\n",
      "xmin = -1.\n",
      "xmax = 1.\n",
      "\n",
      "ymin = lambda x: -1.\n",
      "ymax = lambda x: 1.\n",
      "\n",
      "zmin = lambda x,y: -2.\n",
      "zmax = lambda x,y: 2.\n",
      "\n",
      "M, err = tplquad(p, xmin, xmax, ymin, ymax, zmin, zmax)\n",
      "print \"Numerical Results:\"\n",
      "print \"Mass =\", M, \"kg\"\n",
      "\n",
      "#Finding Center of Mass\n",
      "rx = lambda z,y,x: x\n",
      "ans, err = tplquad(rx, xmin, xmax, ymin, ymax, zmin, zmax)\n",
      "Xcm = (1/M)*ans\n",
      "\n",
      "ry = lambda z,y,x: y\n",
      "ans, err = tplquad(ry, xmin, xmax, ymin, ymax, zmin, zmax)\n",
      "Ycm = (1/M)*ans\n",
      "\n",
      "rz = lambda z,y,x: z\n",
      "ans, err = tplquad(rz, xmin, xmax, ymin, ymax, zmin, zmax)\n",
      "Zcm = (1/M)*ans\n",
      "\n",
      "print \"Center of Mass at (%s,%s,%s)\" % (Xcm,Ycm,Zcm)\n",
      "\n",
      "#Finding the Moments of Inertia\n",
      "Intx = lambda z,y,x: ((y)**2. + (z)**2.)\n",
      "Ixx, err = tplquad(Intx, xmin, xmax, ymin, ymax, zmin, zmax)\n",
      "Inty = lambda z,y,x: ((x)**2. + (z)**2.)\n",
      "Iyy, err = tplquad(Inty, xmin, xmax, ymin, ymax, zmin, zmax)\n",
      "Intz = lambda z,y,x: ((x)**2. + (y)**2.)\n",
      "Izz, err = tplquad(Intz, xmin, xmax, ymin, ymax, zmin, zmax)\n",
      "\n",
      "print Ixx\n",
      "print \"Moments of Inertia = (%s,%s,%s)\" % (Ixx,Iyy,Izz)"
     ],
     "language": "python",
     "metadata": {},
     "outputs": [
      {
       "output_type": "stream",
       "stream": "stdout",
       "text": [
        "Numerical Results:\n",
        "Mass = 16.0 kg\n",
        "Center of Mass at (0.0,0.0,0.0)\n",
        "26.6666666667"
       ]
      },
      {
       "output_type": "stream",
       "stream": "stdout",
       "text": [
        "\n",
        "Moments of Inertia = (26.6666666667,26.6666666667,10.6666666667)\n"
       ]
      }
     ],
     "prompt_number": 200
    },
    {
     "cell_type": "code",
     "collapsed": false,
     "input": [
      "#The analytic results are\n",
      "\n",
      "#Mass = length*width*height*mass density\n",
      "Mass = 2*2*4\n",
      "#Center of Mass = (0,0,0), the object is centered at the origin and has a uniform density\n",
      "CenterofMass = \"(0,0,0)\"\n",
      "#Looking up equations for Moments of Inertia \n",
      "Ixx = (1./12.)*16.*(2.**2. + 4.**2.)\n",
      "Iyy = (1./12.)*16.*(2.**2. + 4.**2.)\n",
      "Izz = (1./12.)*16.*(2.**2. + 2.**2.)\n",
      "\n",
      "print \"Analytic Results:\"\n",
      "print \"Mass = %s kg\" % Mass\n",
      "print \"Center of Mass at %s\" % (CenterofMass)\n",
      "print \"Moments of Inertia = (%s,%s,%s)\" % (Ixx,Iyy,Izz)\n",
      "print\n",
      "print \"The Numerical and Analytic Results are exactly similar up to \"\n",
      "print \"An accuracy of 12 sig figs.\""
     ],
     "language": "python",
     "metadata": {},
     "outputs": [
      {
       "output_type": "stream",
       "stream": "stdout",
       "text": [
        "Analytic Results:\n",
        "Mass = 16 kg\n",
        "Center of Mass at (0,0,0)\n",
        "Moments of Inertia = (26.6666666667,26.6666666667,10.6666666667)\n",
        "\n",
        "The Numerical and Analytic Results are exactly similar up to \n",
        "An accuracy of 12 sig figs.\n"
       ]
      }
     ],
     "prompt_number": 202
    },
    {
     "cell_type": "markdown",
     "metadata": {},
     "source": [
      "\n",
      "\n",
      "(c) Finally, change the density function to something of your choosing (different from that used in parts (a) and (b)) and recompute M, r\u20d7 cm and Icm for that case.\n"
     ]
    },
    {
     "cell_type": "code",
     "collapsed": false,
     "input": [
      "#New Mass density p = 5x + 12y^2 + z^(1/2)\n",
      "p = lambda z,y,x: 5*x + 12*y**2 + z**(1/2)\n",
      "xmin = -.1\n",
      "xmax = .1\n",
      "\n",
      "ymin = lambda x: -.1\n",
      "ymax = lambda x:.1\n",
      "\n",
      "zmin = lambda x,y:-0.5\n",
      "zmax = lambda x,y:0.5\n",
      "\n",
      "M, err = tplquad(p, xmin, xmax, ymin, ymax, zmin, zmax)\n",
      "\n",
      "print \"For mass density p = 5x + 12y^2 + z^(1/2)\"\n",
      "print \"Mass =\", M, \"kg\"\n",
      "\n",
      "#Finding Center of Mass\n",
      "rx = lambda z,y,x: x*(5*x + 12*y**2 + z**(1/2))\n",
      "ans, err = tplquad(rx, xmin, xmax, ymin, ymax, zmin, zmax)\n",
      "Xcm = (1/M)*ans\n",
      "\n",
      "ry = lambda z,y,x: y*(5*x + 12*y**2 + z**(1/2))\n",
      "ans, err = tplquad(ry, xmin, xmax, ymin, ymax, zmin, zmax)\n",
      "Ycm = (1/M)*ans\n",
      "\n",
      "rz = lambda z,y,x: z*(5*x + 12*y**2 + z**(1/2))\n",
      "ans, err = tplquad(rz, xmin, xmax, ymin, ymax, zmin, zmax)\n",
      "Zcm = (1/M)*ans\n",
      "\n",
      "print \"Center of Mass at (%s,%s,%s)\" % (Xcm,Ycm,Zcm)\n",
      "\n",
      "#Finding the Moments of Inertia\n",
      "Intx = lambda x,y,z: ((y-Ycm)**2 + (z-Zcm)**2)*(5*x + 12*y**2 + z**(1/2))\n",
      "Ixx, err = tplquad(Intx, xmin, xmax, ymin, ymax, zmin, zmax)\n",
      "Inty = lambda x,y,z: ((x-Xcm)**2 + (z-Zcm)**2)*(5*x + 12*y**2 + z**(1/2))\n",
      "Iyy, err = tplquad(Inty, xmin, xmax, ymin, ymax, zmin, zmax)\n",
      "Intz = lambda x,y,z: ((x-Xcm)**2 + (y-Ycm)**2)*(5*x + 12*y**2 + z**(1/2))\n",
      "Izz, err = tplquad(Intz, xmin, xmax, ymin, ymax, zmin, zmax)\n",
      "\n",
      "print \"Moments of Inertia = (%s,%s,%s)\" % (Ixx,Iyy,Izz)"
     ],
     "language": "python",
     "metadata": {},
     "outputs": [
      {
       "output_type": "stream",
       "stream": "stdout",
       "text": [
        "For mass density p = 5x + 12y^2 + z^(1/2)\n",
        "Mass = 0.0416 kg\n",
        "Center of Mass at (0.0160256410256,0.0,0.0)"
       ]
      },
      {
       "output_type": "stream",
       "stream": "stdout",
       "text": [
        "\n",
        "Moments of Inertia = (0.0002816,0.00308182905983,0.0030860957265)\n"
       ]
      }
     ],
     "prompt_number": 204
    },
    {
     "cell_type": "code",
     "collapsed": false,
     "input": [],
     "language": "python",
     "metadata": {},
     "outputs": []
    }
   ],
   "metadata": {}
  }
 ]
}