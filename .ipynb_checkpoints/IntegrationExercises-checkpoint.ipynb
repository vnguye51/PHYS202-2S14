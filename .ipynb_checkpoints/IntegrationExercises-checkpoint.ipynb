{
 "metadata": {
  "name": "",
  "signature": "sha256:9dc0e15d6d6bc0aee9596b1c86c37ed2ebb2a0b17b81eadbc5aebecd4adafc35"
 },
 "nbformat": 3,
 "nbformat_minor": 0,
 "worksheets": [
  {
   "cells": [
    {
     "cell_type": "heading",
     "level": 1,
     "metadata": {},
     "source": [
      "Integration Exercises"
     ]
    },
    {
     "cell_type": "code",
     "collapsed": false,
     "input": [
      "%pylab inline\n",
      "import numpy as np\n",
      "import matplotlib.pyplot as plt\n",
      "import scipy.integrate as integrate\n",
      "from scipy.integrate import dblquad\n",
      "from scipy.integrate import tplquad"
     ],
     "language": "python",
     "metadata": {},
     "outputs": [
      {
       "output_type": "stream",
       "stream": "stdout",
       "text": [
        "Populating the interactive namespace from numpy and matplotlib\n"
       ]
      }
     ],
     "prompt_number": 1
    },
    {
     "cell_type": "heading",
     "level": 3,
     "metadata": {},
     "source": [
      "Question 1"
     ]
    },
    {
     "cell_type": "markdown",
     "metadata": {},
     "source": [
      "(a) Write two functions trapz(func,x) and simps(func,x) to compute the integral of the function func over the variable x using the trapezoidal rule and Simpson's rule to a file called Integrators.py. Do not use the scipy.integrate built-in functions. Include docstrings with each function that describe what they do. Then import the module and use the functions to answer the following questions."
     ]
    },
    {
     "cell_type": "code",
     "collapsed": false,
     "input": [
      "%%file Integrators.py\n",
      "import numpy as np\n",
      "def trapz(func,x, N):\n",
      "    a = 0.0\n",
      "    b = x\n",
      "    h = (b-a)/N\n",
      "    \n",
      "    k = np.arange(1,N)\n",
      "    I = h*(0.5*func(a) + 0.5*func(b) + func(a+k*h).sum())\n",
      "    return I\n",
      "\n",
      "def simps(func,x, N):\n",
      "    a = 0.0\n",
      "    b = x\n",
      "    h = (b-a)/N\n",
      "    \n",
      "    k1 = np.arange(1,N/2+1)\n",
      "    k2 = np.arange(1,N/2)\n",
      "    I = (1./3.)*h*(func(a) + func(b) + 4.*func(a+(2*k1-1)*h).sum() + 2.*func(a+2*k2*h).sum())\n",
      "    return I"
     ],
     "language": "python",
     "metadata": {},
     "outputs": [
      {
       "output_type": "stream",
       "stream": "stdout",
       "text": [
        "Overwriting Integrators.py\n"
       ]
      }
     ],
     "prompt_number": 2
    },
    {
     "cell_type": "code",
     "collapsed": false,
     "input": [
      "import Integrators as myint"
     ],
     "language": "python",
     "metadata": {},
     "outputs": [],
     "prompt_number": 3
    },
    {
     "cell_type": "markdown",
     "metadata": {},
     "source": [
      "(b) Use your trapz and simps functions from part (a) to calculate the integral of x$^4$\u22122x+1 from x = 0 to x = 2 with N = 10, N = 100, and N = 1000. Then compare your result to the known correct value of 4.4. What is the percent error in each case?\n"
     ]
    },
    {
     "cell_type": "code",
     "collapsed": false,
     "input": [
      "function = lambda x: x**4 - 2*x + 1\n",
      "\n",
      "print \"Trapezoidal Integration:\"\n",
      "print \"N = 10   \", myint.trapz(function,2,10), \"       %Error:\", abs((4.4 - myint.trapz(function,2,10))/4.)\n",
      "print 'N = 100  ',myint.trapz(function,2,100), \"   %Error:\", abs((4.4 - myint.trapz(function,2,100))/4.)\n",
      "print 'N = 1000 ',myint.trapz(function,2,1000),\" %Error:\", abs((4.4 - myint.trapz(function,2,1000))/4.)\n",
      "print\n",
      "print 'Simpson\\'s Integration'\n",
      "print 'N = 10   ',myint.simps(function,2,10), \" %Error:\", abs((4.4 - myint.simps(function,2,10))/4.)\n",
      "print 'N = 100  ',myint.simps(function,2,100), \" %Error:\", abs((4.4 - myint.simps(function,2,100))/4.)\n",
      "print 'N = 1000 ',myint.simps(function,2,1000), \"           %Error:\", abs((4.4 - myint.simps(function,2,1000))/4.)\n",
      "    \n",
      "    "
     ],
     "language": "python",
     "metadata": {},
     "outputs": [
      {
       "output_type": "stream",
       "stream": "stdout",
       "text": [
        "Trapezoidal Integration:\n",
        "N = 10    4.50656        %Error: 0.02664\n",
        "N = 100   4.401066656    %Error: 0.000266664\n",
        "N = 1000  4.40001066667  %Error: 2.66666639992e-06\n",
        "\n",
        "Simpson's Integration\n",
        "N = 10    4.40042666667  %Error: 0.000106666666667\n",
        "N = 100   4.40000004267  %Error: 1.06666666611e-08\n",
        "N = 1000  4.4            %Error: 1.06670228206e-12\n"
       ]
      }
     ],
     "prompt_number": 27
    },
    {
     "cell_type": "heading",
     "level": 3,
     "metadata": {},
     "source": [
      "Question 2"
     ]
    },
    {
     "cell_type": "markdown",
     "metadata": {},
     "source": [
      "Consider the integral\n",
      "\n",
      "$$ E(x) = \\int_{0}^{x} e^{-t^2}dt$$\n",
      "\n",
      "This is the error function, commonly seen in probability and statistics. There is no known way to perform this particular integral analytically, although the integrand can be expanded in a Taylor series and terms computed to arbitrary order. For most applications, numerical approaches are the only way forward.\n"
     ]
    },
    {
     "cell_type": "markdown",
     "metadata": {},
     "source": [
      "(a) Use scipy.integrate.cumtrapz to calculate $E(x)$ for values of $x$ from 0 to 3 in steps of 0.1. Print the result.\n"
     ]
    },
    {
     "cell_type": "code",
     "collapsed": false,
     "input": [
      "def func(x):\n",
      "    return np.exp(-x**2)\n",
      "\n",
      "x = arange(0.,3.1,0.1)\n",
      "y = func(x)\n",
      "\n",
      "I = integrate.cumtrapz(y, x, initial=0)\n",
      "\n",
      "print I\n"
     ],
     "language": "python",
     "metadata": {},
     "outputs": [
      {
       "output_type": "stream",
       "stream": "stdout",
       "text": [
        "[ 0.          0.09950249  0.19704446  0.29078049  0.37908424  0.46063146\n",
        "  0.53445532  0.59997046  0.6569664   0.70557392  0.7462108   0.77951463\n",
        "  0.80627088  0.82734325  0.84361215  0.85592503  0.86506023  0.87170427\n",
        "  0.87644128  0.87975207  0.88202044  0.88354398  0.88454709  0.88519453\n",
        "  0.88560418  0.88585826  0.88601274  0.88610482  0.88615862  0.88618943\n",
        "  0.88620673]\n"
       ]
      }
     ],
     "prompt_number": 51
    },
    {
     "cell_type": "markdown",
     "metadata": {},
     "source": [
      "\n",
      "(b) Plot the integrand as a function of $t$ and $E(x)$ as a function of $x$ (both ranging from 0 to 3) on the same graph."
     ]
    },
    {
     "cell_type": "code",
     "collapsed": false,
     "input": [
      "plt.plot(x,y, label = 'function')\n",
      "plt.plot(x,I, label = 'Cumulative Trapz')\n",
      "plt.legend(loc='upper left', fontsize = 10)"
     ],
     "language": "python",
     "metadata": {},
     "outputs": [
      {
       "metadata": {},
       "output_type": "pyout",
       "prompt_number": 57,
       "text": [
        "<matplotlib.legend.Legend at 0x106bbd610>"
       ]
      },
      {
       "metadata": {},
       "output_type": "display_data",
       "png": "[encoded data removed]",
       "text": [
        "<matplotlib.figure.Figure at 0x106b95950>"
       ]
      }
     ],
     "prompt_number": 57
    },
    {
     "cell_type": "heading",
     "level": 3,
     "metadata": {},
     "source": [
      "Question 3"
     ]
    },
    {
     "cell_type": "markdown",
     "metadata": {},
     "source": [
      "Consider a particle in a one-dimensional box of width L. The probability of finding the particle between a and b is given by\n",
      "$$P(a,b)=\u222bba|\u03c8(x)|2dx$$\n",
      "where\n",
      "$$\u03c8(x)=2L\u221asin(n\u03c0xL)$$\n",
      "is the wavefunction."
     ]
    },
    {
     "cell_type": "markdown",
     "metadata": {},
     "source": [
      "(a) What is the probability of finding the particle between $L/3$ and $L/2$ for the ground state (n = 1) and for the first excited state $(n = 2)$? Let $L$ = 1. Perform the integral using both scipy.integrate.trapz and scipy.integrate.quad with an accuracy of 6 sig figs. How many slices did you need to use for scipy.integrate.trapz?"
     ]
    },
    {
     "cell_type": "code",
     "collapsed": false,
     "input": [
      "func = lambda x: 2**(1/2)*np.sin(np.pi*x)\n",
      ".), 0.000000000001)\n",
      "y = 2**(1/2)*np.sin(np.pi*x)\n",
      "Pt = integrate.trapz(x,y)\n",
      "print Ptx = arange(1./3.,(1./2\n",
      "Pq = integrate.quad(func,1/3.,1/2.)\n",
      "print Pq"
     ],
     "language": "python",
     "metadata": {},
     "outputs": []
    },
    {
     "cell_type": "code",
     "collapsed": false,
     "input": [
      "help(integrate.quad)"
     ],
     "language": "python",
     "metadata": {},
     "outputs": [
      {
       "output_type": "stream",
       "stream": "stdout",
       "text": [
        "Help on function quad in module scipy.integrate.quadpack:\n",
        "\n",
        "quad(func, a, b, args=(), full_output=0, epsabs=1.49e-08, epsrel=1.49e-08, limit=50, points=None, weight=None, wvar=None, wopts=None, maxp1=50, limlst=50)\n",
        "    Compute a definite integral.\n",
        "    \n",
        "    Integrate func from `a` to `b` (possibly infinite interval) using a\n",
        "    technique from the Fortran library QUADPACK.\n",
        "    \n",
        "    Run scipy.integrate.quad_explain() for more information on the\n",
        "    more esoteric inputs and outputs.\n",
        "    \n",
        "    Parameters\n",
        "    ----------\n",
        "    func : function\n",
        "        A Python function or method to integrate.  If `func` takes many\n",
        "        arguments, it is integrated along the axis corresponding to the\n",
        "        first argument.\n",
        "    a : float\n",
        "        Lower limit of integration (use -numpy.inf for -infinity).\n",
        "    b : float\n",
        "        Upper limit of integration (use numpy.inf for +infinity).\n",
        "    args : tuple, optional\n",
        "        Extra arguments to pass to `func`.\n",
        "    full_output : int, optional\n",
        "        Non-zero to return a dictionary of integration information.\n",
        "        If non-zero, warning messages are also suppressed and the\n",
        "        message is appended to the output tuple.\n",
        "    \n",
        "    Returns\n",
        "    -------\n",
        "    y : float\n",
        "        The integral of func from `a` to `b`.\n",
        "    abserr : float\n",
        "        An estimate of the absolute error in the result.\n",
        "    infodict : dict\n",
        "        A dictionary containing additional information.\n",
        "        Run scipy.integrate.quad_explain() for more information.\n",
        "    message :\n",
        "        A convergence message.\n",
        "    explain :\n",
        "        Appended only with 'cos' or 'sin' weighting and infinite\n",
        "        integration limits, it contains an explanation of the codes in\n",
        "        infodict['ierlst']\n",
        "    \n",
        "    Other Parameters\n",
        "    ----------------\n",
        "    epsabs : float or int, optional\n",
        "        Absolute error tolerance.\n",
        "    epsrel : float or int, optional\n",
        "        Relative error tolerance.\n",
        "    limit : float or int, optional\n",
        "        An upper bound on the number of subintervals used in the adaptive\n",
        "        algorithm.\n",
        "    points : (sequence of floats,ints), optional\n",
        "        A sequence of break points in the bounded integration interval\n",
        "        where local difficulties of the integrand may occur (e.g.,\n",
        "        singularities, discontinuities). The sequence does not have\n",
        "        to be sorted.\n",
        "    weight : float or int, optional\n",
        "        String indicating weighting function.\n",
        "    wvar : optional\n",
        "        Variables for use with weighting functions.\n",
        "    wopts : optional\n",
        "        Optional input for reusing Chebyshev moments.\n",
        "    maxp1 : float or int, optional\n",
        "        An upper bound on the number of Chebyshev moments.\n",
        "    limlst : int, optional\n",
        "        Upper bound on the number of cylces (>=3) for use with a sinusoidal\n",
        "        weighting and an infinite end-point.\n",
        "    \n",
        "    See Also\n",
        "    --------\n",
        "    dblquad : double integral\n",
        "    tplquad : triple integral\n",
        "    nquad : n-dimensional integrals (uses `quad` recursively)\n",
        "    fixed_quad : fixed-order Gaussian quadrature\n",
        "    quadrature : adaptive Gaussian quadrature\n",
        "    odeint : ODE integrator\n",
        "    ode : ODE integrator\n",
        "    simps : integrator for sampled data\n",
        "    romb : integrator for sampled data\n",
        "    scipy.special : for coefficients and roots of orthogonal polynomials\n",
        "    \n",
        "    Examples\n",
        "    --------\n",
        "    Calculate :math:`\\int^4_0 x^2 dx` and compare with an analytic result\n",
        "    \n",
        "    >>> from scipy import integrate\n",
        "    >>> x2 = lambda x: x**2\n",
        "    >>> integrate.quad(x2, 0, 4)\n",
        "    (21.333333333333332, 2.3684757858670003e-13)\n",
        "    >>> print(4**3 / 3.)  # analytical result\n",
        "    21.3333333333\n",
        "    \n",
        "    Calculate :math:`\\int^\\infty_0 e^{-x} dx`\n",
        "    \n",
        "    >>> invexp = lambda x: np.exp(-x)\n",
        "    >>> integrate.quad(invexp, 0, np.inf)\n",
        "    (1.0, 5.842605999138044e-11)\n",
        "    \n",
        "    >>> f = lambda x,a : a*x\n",
        "    >>> y, err = integrate.quad(f, 0, 1, args=(1,))\n",
        "    >>> y\n",
        "    0.5\n",
        "    >>> y, err = integrate.quad(f, 0, 1, args=(3,))\n",
        "    >>> y\n",
        "    1.5\n",
        "\n"
       ]
      }
     ],
     "prompt_number": 70
    },
    {
     "cell_type": "code",
     "collapsed": false,
     "input": [],
     "language": "python",
     "metadata": {},
     "outputs": []
    }
   ],
   "metadata": {}
  }
 ]
}