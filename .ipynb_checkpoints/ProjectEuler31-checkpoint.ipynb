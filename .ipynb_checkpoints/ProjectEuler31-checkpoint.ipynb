{
 "metadata": {
  "name": "",
  "signature": "sha256:fc759b4594e772a6d7a3f618a29197b23f675c3b3d54604cbc774e015f415211"
 },
 "nbformat": 3,
 "nbformat_minor": 0,
 "worksheets": [
  {
   "cells": [
    {
     "cell_type": "heading",
     "level": 1,
     "metadata": {},
     "source": [
      "Problem 31: Coin Sums"
     ]
    },
    {
     "cell_type": "markdown",
     "metadata": {},
     "source": [
      "In England the currency is made up of pound, \u00a3, and pence, p, and there are eight coins in general circulation:\n",
      "\n",
      "1p, 2p, 5p, 10p, 20p, 50p, \u00a31 (100p) and \u00a32 (200p).\n",
      "It is possible to make \u00a32 in the following way:\n",
      "\n",
      "1\u00d7\u00a31 + 1\u00d750p + 2\u00d720p + 1\u00d75p + 1\u00d72p + 3\u00d71p\n",
      "How many different ways can \u00a32 be made using any number of coins?"
     ]
    },
    {
     "cell_type": "code",
     "collapsed": false,
     "input": [
      "a = 1\n",
      "b = 2\n",
      "c = 5\n",
      "d = 10\n",
      "e = 20\n",
      "f = 50\n",
      "g = 100\n",
      "h = 200\n",
      "\n",
      "money = [a,b,c,d,e,f,g,h]\n",
      "coins = []\n",
      "n = 0\n",
      "\n",
      "def Addition(x):\n",
      "    for coin in money:\n",
      "        while Sum != 200:\n",
      "            coins.append(coin)\n",
      "            Sum = sum(coins)\n",
      "            n += 1\n",
      "            if (200 - sum(coins)) > coin:\n",
      "                \n",
      "            \n",
      "       \n",
      "            \n",
      "            \n",
      "        "
     ],
     "language": "python",
     "metadata": {},
     "outputs": [],
     "prompt_number": 1
    },
    {
     "cell_type": "code",
     "collapsed": false,
     "input": [],
     "language": "python",
     "metadata": {},
     "outputs": []
    }
   ],
   "metadata": {}
  }
 ]
}