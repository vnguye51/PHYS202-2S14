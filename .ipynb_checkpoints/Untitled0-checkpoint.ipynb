{
 "metadata": {
  "name": "",
  "signature": "sha256:157c8a6c42ede4053263b44fd94c2afc3c1511ea2b99a365f089540813e105bc"
 },
 "nbformat": 3,
 "nbformat_minor": 0,
 "worksheets": []
}