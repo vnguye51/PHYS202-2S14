{
 "metadata": {
  "name": "",
  "signature": "sha256:56daacbf8a99ec1bb90e79f2028c2ffd739543046c699d4af4e38a9f69887c40"
 },
 "nbformat": 3,
 "nbformat_minor": 0,
 "worksheets": [
  {
   "cells": [
    {
     "cell_type": "heading",
     "level": 1,
     "metadata": {},
     "source": [
      "Largest palindrome product"
     ]
    },
    {
     "cell_type": "heading",
     "level": 1,
     "metadata": {},
     "source": [
      "Problem 4"
     ]
    },
    {
     "cell_type": "markdown",
     "metadata": {},
     "source": [
      "\n",
      "\n",
      "A palindromic number reads the same both ways. The largest palindrome made from the product of two 2-digit numbers is 9009 = 91 \u00d7 99.\n",
      "\n",
      "Find the largest palindrome made from the product of two 3-digit numbers.\n",
      "\n",
      "\n"
     ]
    },
    {
     "cell_type": "code",
     "collapsed": false,
     "input": [
      "def LargestPalindrome(N):\n",
      "    \"\"\"This function returns the largest palindrome made from the product\n",
      "    of two N-digit numbers\"\"\"\n",
      "    \n",
      "    Numbers = []\n",
      "    Palindromes = []\n",
      "    #Creating all possible products\n",
      "    for x in range(1,10**N):\n",
      "        for y in range(1,10**N):\n",
      "            n = x*y\n",
      "            Numbers.append(n)\n",
      "    \n",
      "    #Looping through possible numbers until it hits a palindrome\n",
      "    for n in Numbers[::-1]:\n",
      "        if str(n)[::-1] == str(n)[::]:\n",
      "            Palindromes.append(n)\n",
      "    return max(Palindromes)\n",
      "            "
     ],
     "language": "python",
     "metadata": {},
     "outputs": [],
     "prompt_number": 4
    },
    {
     "cell_type": "code",
     "collapsed": false,
     "input": [
      "#Test Case\n",
      "print LargestPalindrome(2)"
     ],
     "language": "python",
     "metadata": {},
     "outputs": [
      {
       "output_type": "stream",
       "stream": "stdout",
       "text": [
        "9009\n"
       ]
      }
     ],
     "prompt_number": 7
    },
    {
     "cell_type": "code",
     "collapsed": false,
     "input": [
      "#Solution\n",
      "print LargestPalindrome(3)"
     ],
     "language": "python",
     "metadata": {},
     "outputs": [
      {
       "output_type": "stream",
       "stream": "stdout",
       "text": [
        "906609\n"
       ]
      }
     ],
     "prompt_number": 8
    },
    {
     "cell_type": "code",
     "collapsed": false,
     "input": [],
     "language": "python",
     "metadata": {},
     "outputs": []
    }
   ],
   "metadata": {}
  }
 ]
}