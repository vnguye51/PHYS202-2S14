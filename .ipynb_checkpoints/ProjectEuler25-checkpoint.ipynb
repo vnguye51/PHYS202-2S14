{
 "metadata": {
  "name": "",
  "signature": "sha256:3721d0e193078871feb4077b8c3155d1e007e833b549fb240050eda0228029c7"
 },
 "nbformat": 3,
 "nbformat_minor": 0,
 "worksheets": [
  {
   "cells": [
    {
     "cell_type": "heading",
     "level": 1,
     "metadata": {},
     "source": [
      "1000-digit Fibonacci number"
     ]
    },
    {
     "cell_type": "heading",
     "level": 3,
     "metadata": {},
     "source": [
      "Problem 25"
     ]
    },
    {
     "cell_type": "code",
     "collapsed": false,
     "input": [
      "def Fibonacci(Highestnumber):\n",
      "    #Modified function from Euler 2\n",
      "    sequence = [1,1]\n",
      "    x = 1\n",
      "    y = 1\n",
      "    z = 2\n",
      "    while y <= Highestnumber:\n",
      "        sequence.append(x+y)\n",
      "        z = x + y\n",
      "        x = y\n",
      "        y = z\n",
      "        #Returns the (index + 1) because the Fibonacci Sequence begins on term 1 not term 0\n",
      "    return (sequence.index(sequence[-1])) + 1\n",
      "\n"
     ],
     "language": "python",
     "metadata": {},
     "outputs": [],
     "prompt_number": 28
    },
    {
     "cell_type": "code",
     "collapsed": false,
     "input": [
      "print \"The first term to contain 1000 digits is\", Fibonacci(100)"
     ],
     "language": "python",
     "metadata": {},
     "outputs": [
      {
       "output_type": "stream",
       "stream": "stdout",
       "text": [
        "The first term to contain 1000 digits is 12\n"
       ]
      }
     ],
     "prompt_number": 26
    },
    {
     "cell_type": "code",
     "collapsed": false,
     "input": [
      "print \"The first term to contain three digits is\", Fibonacci(10**999)"
     ],
     "language": "python",
     "metadata": {},
     "outputs": [
      {
       "output_type": "stream",
       "stream": "stdout",
       "text": [
        "The first term to contain three digits is 4782\n"
       ]
      }
     ],
     "prompt_number": 29
    },
    {
     "cell_type": "code",
     "collapsed": false,
     "input": [],
     "language": "python",
     "metadata": {},
     "outputs": []
    }
   ],
   "metadata": {}
  }
 ]
}