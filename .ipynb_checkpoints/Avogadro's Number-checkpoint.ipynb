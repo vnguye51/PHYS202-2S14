{
 "metadata": {
  "name": "",
  "signature": "sha256:cabc92d2322d1ddd945a3547f52fea5dbadc227f5f16817e7469b13404db73e9"
 },
 "nbformat": 3,
 "nbformat_minor": 0,
 "worksheets": [
  {
   "cells": [
    {
     "cell_type": "heading",
     "level": 1,
     "metadata": {},
     "source": [
      "\n",
      "Brownian Motion and Avogadro's Number\n"
     ]
    },
    {
     "cell_type": "code",
     "collapsed": false,
     "input": [
      "%pylab inline\n",
      "import numpy as np\n",
      "import matplotlib.pyplot as plt"
     ],
     "language": "python",
     "metadata": {},
     "outputs": [
      {
       "output_type": "stream",
       "stream": "stdout",
       "text": [
        "Populating the interactive namespace from numpy and matplotlib\n"
       ]
      },
      {
       "output_type": "stream",
       "stream": "stderr",
       "text": [
        "WARNING: pylab import has clobbered these variables: ['fill']\n",
        "`%matplotlib` prevents importing * from pylab and numpy\n"
       ]
      }
     ],
     "prompt_number": 145
    },
    {
     "cell_type": "code",
     "collapsed": false,
     "input": [
      "from PIL import Image\n",
      "import requests\n",
      "from StringIO import StringIO"
     ],
     "language": "python",
     "metadata": {},
     "outputs": [],
     "prompt_number": 146
    },
    {
     "cell_type": "markdown",
     "metadata": {},
     "source": [
      "The goal of this experiment is to find Avogadro's Number by running through a set of images that display Brownian Motion"
     ]
    },
    {
     "cell_type": "heading",
     "level": 3,
     "metadata": {},
     "source": [
      "\n",
      "Particle identification.\n"
     ]
    },
    {
     "cell_type": "markdown",
     "metadata": {},
     "source": [
      "First, we need to create functions that iterate through the images and return us the data necessary. We need a way to identify the beads, and a way to find their mass, center of mass and displacement between images."
     ]
    },
    {
     "cell_type": "markdown",
     "metadata": {},
     "source": [
      "Our first function should identify what is and isn't a blob. We do this by making the image black and white\n",
      "based on a luminance value, tau. Tau will change based on what substance is being tracked."
     ]
    },
    {
     "cell_type": "code",
     "collapsed": false,
     "input": [
      "def BlobFinder(picture, tau):\n",
      "    '''find all blobs in picture using the luminance threshold tau'''\n",
      "    #Reusing the monochrome function from CountingStars to find blobs\n",
      "    #This function marks the blobs\n",
      "    black = (0, 0, 0)\n",
      "    white = (255, 255, 255)\n",
      "    xsize, ysize = picture.size\n",
      "    temp = picture.load()\n",
      "    for x in range(xsize):\n",
      "        for y in range(ysize):\n",
      "            r,g,b = temp[x,y]\n",
      "            #For milk changes this to <=, for test data set this as >=\n",
      "            if r+g+b >= tau: \n",
      "                temp[x,y] = black\n",
      "            else:\n",
      "                temp[x,y] = white\n",
      "    \n",
      "            \n"
     ],
     "language": "python",
     "metadata": {},
     "outputs": [],
     "prompt_number": 147
    },
    {
     "cell_type": "markdown",
     "metadata": {},
     "source": [
      "Our next two functions will count how many blobs there are and then determine whether or not it is a bead\n",
      "and return its mass and center of mass."
     ]
    },
    {
     "cell_type": "code",
     "collapsed": false,
     "input": [
      "def fill(picture, xsize, ysize, xstart, ystart):\n",
      "    \"\"\"This function takes a picture, and some initial values,\n",
      "    xsize, ysize, xstart, and ystart\n",
      "    Modifying the fill function from CountingStars\"\"\"\n",
      "    \n",
      "    #Appends the xpixels and ypixels before coloring them red.\n",
      "    #This function marks the beads and returns the blob's mass \n",
      "    #after filling the blob and returns its center of mass by \n",
      "    #Averaging the x and y coordinates of the filled pixels\n",
      "    \n",
      "    \"\"\"keep a list of pixels that need to be looked at, \n",
      "    but haven't yet been filled in - a list of the (x,y) \n",
      "    coordinates of pixels that are neighbors of ones we have \n",
      "    already examined.  Keep looping until there's nothing \n",
      "    left in this list\"\"\"\n",
      "    BLACK = (0,0,0)\n",
      "    RED = (255,0,0)\n",
      "    queue = [(xstart,ystart)]\n",
      "    xpixels = []\n",
      "    ypixels = []\n",
      "    while queue:\n",
      "        x,y,queue = queue[0][0], queue[0][1], queue[1:]\n",
      "        if picture[x,y] == BLACK:\n",
      "            picture[x,y] = RED\n",
      "            xpixels.append(x)\n",
      "            ypixels.append(y)\n",
      "            if x > 0:\n",
      "                queue.append((x-1,y))\n",
      "            if x < (xsize-1):\n",
      "                queue.append((x+1,y))\n",
      "            if y > 0:\n",
      "                queue.append((x, y-1))\n",
      "            if y < (ysize-1):\n",
      "                queue.append((x, y+1)) \n",
      "            mass = size(xpixels)\n",
      "            MassCenter = (sum(xpixels)/mass),(sum(ypixels)/mass)\n",
      "    return mass, MassCenter\n",
      "\n",
      "\n",
      "def countBeads(picture,P):\n",
      "    \"\"\"Reusing the count function from CountingStars to find the number of beads.\n",
      "    This function takes a picture and a minimum pixel-mass P to define beads. This function\n",
      "    will be used inside getBeads\"\"\"\n",
      "    \n",
      "    #Counts the number of beads and after filling each pixel decides \n",
      "    #whether or not the pixel is a bead and appends its mass and center of mass to the appropriate list\n",
      "    \n",
      "    \"\"\"scan the image top to bottom and left to right using a nested loop.\n",
      "    when black pixel is found, increment the count, then call the fill\n",
      "    function to fill in all the pixels connected to that one. Then add the masses and center of masses to\n",
      "    their respective lists.\"\"\"\n",
      "    BLACK = (0,0,0)\n",
      "    xsize, ysize = picture.size\n",
      "    temp = picture.load()\n",
      "    BeadMasses = []\n",
      "    BeadMassCenters = []\n",
      "    BlobMasses = []\n",
      "    BlobMassCenters = []\n",
      "    for x in range(xsize):\n",
      "        for y in range(ysize):\n",
      "            if temp[x,y] == BLACK:\n",
      "                mass, MassCenter = fill(temp,xsize,ysize,x,y)\n",
      "                BlobMasses.append(mass)\n",
      "                BlobMassCenters.append(MassCenter)\n",
      "                if mass >= P:\n",
      "                    BeadMasses.append(mass)\n",
      "                    BeadMassCenters.append(MassCenter)\n",
      "    return size(BeadMasses),BlobMasses,BlobMassCenters,BeadMasses,BeadMassCenters\n",
      "\n"
     ],
     "language": "python",
     "metadata": {},
     "outputs": [],
     "prompt_number": 148
    },
    {
     "cell_type": "markdown",
     "metadata": {},
     "source": [
      "Now that we have our functions we just need to put it together."
     ]
    },
    {
     "cell_type": "code",
     "collapsed": false,
     "input": [
      "\n",
      "def getBeads(picture,P,tau):\n",
      "    '''return the data of all beads with >= P pixels'''\n",
      "    BLACK = (0,0,0)\n",
      "    RED = (255,0,0)\n",
      "    xstart = 0\n",
      "    ystart = 0\n",
      "    BlobFinder(picture, tau)\n",
      "    count,BlobMasses,BlobMassCenters,BeadMasses,BeadMassCenters = countBeads(picture,P)\n",
      "    return count,BlobMasses,BlobMassCenters,BeadMasses,BeadMassCenters\n",
      "    "
     ],
     "language": "python",
     "metadata": {},
     "outputs": [],
     "prompt_number": 149
    },
    {
     "cell_type": "heading",
     "level": 3,
     "metadata": {},
     "source": [
      "\n",
      "Particle tracking\n"
     ]
    },
    {
     "cell_type": "markdown",
     "metadata": {},
     "source": [
      "We have the functions that return the data we need form each image. Now we need to create a function that \n",
      "compares the data between two images. Then we need to loop through all the images to find the displacements and\n",
      "output it to a .dat file"
     ]
    },
    {
     "cell_type": "markdown",
     "metadata": {},
     "source": [
      "First, we need to create a sequence of pictures for our functions to track particles through"
     ]
    },
    {
     "cell_type": "code",
     "collapsed": false,
     "input": [
      "#Test Data\n",
      "picturesequence = []\n",
      "for n in range (0,200):\n",
      "    if n < 10:\n",
      "        picturesequence.append(\"frame0000%s.jpg\" % n)\n",
      "    if n < 100 and n >= 10:\n",
      "        picturesequence.append(\"frame000%s.jpg\" % n)\n",
      "    if n >= 100:\n",
      "        picturesequence.append(\"frame00%s.jpg\" % n)\n",
      "\n",
      "#Experimental Data\n",
      "picturesequence2 = []\n",
      "for n in range(1,200):\n",
      "    if n < 10:\n",
      "        picturesequence2.append(\"Nguyen_T000%s.jpg\" % n)\n",
      "    if n < 100 and n >= 10:\n",
      "        picturesequence2.append(\"Nguyen_T00%s.jpg\" % n)\n",
      "    if n >= 100:\n",
      "        picturesequence2.append(\"Nguyen_T0%s.jpg\" % n)\n",
      "\n"
     ],
     "language": "python",
     "metadata": {},
     "outputs": [],
     "prompt_number": 150
    },
    {
     "cell_type": "markdown",
     "metadata": {},
     "source": [
      "Next, we need to create a function that finds the displacement between two beads\n",
      "and then create a function that finds the displacement through the entire set of images"
     ]
    },
    {
     "cell_type": "code",
     "collapsed": false,
     "input": [
      "#Defining functions to track particles with\n",
      "def NearestBead(P,tau,dp,picture1,picture2):\n",
      "    \"\"\"Takes two pictures and returns the displacements between beads, will be used inside Tracking function\"\"\"\n",
      "    a,b,c,d,centers1 = getBeads(picture1,P,tau)\n",
      "    a,b,c,d,centers2 = getBeads(picture2,P,tau)\n",
      "    displacement = []\n",
      "    for beads1 in centers1:\n",
      "        r = []\n",
      "        x1,y1 = beads1\n",
      "        x1 = float(x1)\n",
      "        y1 = float(y1)\n",
      "        for beads2 in centers2:\n",
      "            x2,y2 = beads2\n",
      "            x2 = float(x2)\n",
      "            y2 = float(y2)\n",
      "            r.append(((x2-x1)**2. + (y2-y1)**2.)**(1./2.))\n",
      "        if min(r) <= dp:\n",
      "            displacement.append(min(r))\n",
      "    return displacement\n",
      "\n",
      "def Tracking(P,tau,dp,picturesequence,n):\n",
      "    #Takes around five mins to run, added counts to see progress\n",
      "    #Saves the data as 'output[n].dat'\n",
      "    \"\"\"Takes an integer P, a floating point value \u03c4, a floating point value \u0394p, and a sequence of images\n",
      "    and writes the displacements of the beads to a file\n",
      "    P is the mass(pixel) threshold, \u03c4 is the luminance threshold, \u0394p is the max distance a bead can move before being \n",
      "    considered a new bead\"\"\"\n",
      "    Displacements = []\n",
      "    for x in range(0,len(picturesequence) - 1,1):\n",
      "        if x%5 == 0:\n",
      "            print x\n",
      "        picture2 = Image.open(picturesequence[x+1])\n",
      "        picture1 = Image.open(picturesequence[x])\n",
      "        Displacements = Displacements + (NearestBead(P,tau,dp,picture1,picture2))\n",
      "    Displacements = np.reshape(Displacements,(size(Displacements),1))\n",
      "    savetxt('output%s.dat' % n, Displacements,'%5.4f')\n"
     ],
     "language": "python",
     "metadata": {},
     "outputs": [],
     "prompt_number": 151
    },
    {
     "cell_type": "code",
     "collapsed": false,
     "input": [
      "#Writing data to a .dat file\n",
      "#Use tau = 180 for test data, tau = 335 for milk\n",
      "Displacements = Tracking(25,180,15,picturesequence,1)"
     ],
     "language": "python",
     "metadata": {},
     "outputs": [
      {
       "output_type": "stream",
       "stream": "stdout",
       "text": [
        "0\n",
        "5"
       ]
      },
      {
       "output_type": "stream",
       "stream": "stdout",
       "text": [
        "\n",
        "10"
       ]
      },
      {
       "output_type": "stream",
       "stream": "stdout",
       "text": [
        "\n",
        "15"
       ]
      },
      {
       "output_type": "stream",
       "stream": "stdout",
       "text": [
        "\n",
        "20"
       ]
      },
      {
       "output_type": "stream",
       "stream": "stdout",
       "text": [
        "\n",
        "25"
       ]
      }
     ]
    },
    {
     "cell_type": "code",
     "collapsed": false,
     "input": [
      "#I need to redefine Blobfinder to make everything below a threshold black rather than above due\n",
      "#to the milk globules being darker than the surroundings\n",
      "def BlobFinder(picture, tau):\n",
      "    '''find all blobs in the picture using the luminance threshold tau'''\n",
      "    #Reusing the monochrome function from CountingStars to find blobs\n",
      "    #This function marks the blobs\n",
      "    black = (0, 0, 0)\n",
      "    white = (255, 255, 255)\n",
      "    xsize, ysize = picture.size\n",
      "    temp = picture.load()\n",
      "    for x in range(xsize):\n",
      "        for y in range(ysize):\n",
      "            r,g,b = temp[x,y]\n",
      "            #For milk changes this to <=, for test data set this as >=\n",
      "            if r+g+b <= tau: \n",
      "                temp[x,y] = black\n",
      "            else:\n",
      "                temp[x,y] = white"
     ],
     "language": "python",
     "metadata": {},
     "outputs": [],
     "prompt_number": 115
    },
    {
     "cell_type": "code",
     "collapsed": false,
     "input": [
      "DisplacementsExperimental = Tracking(25,335,15,picturesequence2,2)"
     ],
     "language": "python",
     "metadata": {},
     "outputs": [
      {
       "output_type": "stream",
       "stream": "stdout",
       "text": [
        "0\n",
        "5"
       ]
      },
      {
       "output_type": "stream",
       "stream": "stdout",
       "text": [
        "\n",
        "10"
       ]
      },
      {
       "output_type": "stream",
       "stream": "stdout",
       "text": [
        "\n",
        "15"
       ]
      },
      {
       "output_type": "stream",
       "stream": "stdout",
       "text": [
        "\n",
        "20"
       ]
      },
      {
       "output_type": "stream",
       "stream": "stdout",
       "text": [
        "\n",
        "25"
       ]
      },
      {
       "output_type": "stream",
       "stream": "stdout",
       "text": [
        "\n",
        "30"
       ]
      },
      {
       "output_type": "stream",
       "stream": "stdout",
       "text": [
        "\n",
        "35"
       ]
      },
      {
       "output_type": "stream",
       "stream": "stdout",
       "text": [
        "\n",
        "40"
       ]
      },
      {
       "output_type": "stream",
       "stream": "stdout",
       "text": [
        "\n",
        "45"
       ]
      },
      {
       "output_type": "stream",
       "stream": "stdout",
       "text": [
        "\n",
        "50"
       ]
      },
      {
       "output_type": "stream",
       "stream": "stdout",
       "text": [
        "\n",
        "55"
       ]
      },
      {
       "output_type": "stream",
       "stream": "stdout",
       "text": [
        "\n",
        "60"
       ]
      },
      {
       "output_type": "stream",
       "stream": "stdout",
       "text": [
        "\n",
        "65"
       ]
      },
      {
       "output_type": "stream",
       "stream": "stdout",
       "text": [
        "\n",
        "70"
       ]
      },
      {
       "output_type": "stream",
       "stream": "stdout",
       "text": [
        "\n",
        "75"
       ]
      },
      {
       "output_type": "stream",
       "stream": "stdout",
       "text": [
        "\n",
        "80"
       ]
      },
      {
       "output_type": "stream",
       "stream": "stdout",
       "text": [
        "\n",
        "85"
       ]
      },
      {
       "output_type": "stream",
       "stream": "stdout",
       "text": [
        "\n",
        "90"
       ]
      },
      {
       "output_type": "stream",
       "stream": "stdout",
       "text": [
        "\n",
        "95"
       ]
      },
      {
       "output_type": "stream",
       "stream": "stdout",
       "text": [
        "\n",
        "100"
       ]
      },
      {
       "output_type": "stream",
       "stream": "stdout",
       "text": [
        "\n",
        "105"
       ]
      },
      {
       "output_type": "stream",
       "stream": "stdout",
       "text": [
        "\n",
        "110"
       ]
      },
      {
       "output_type": "stream",
       "stream": "stdout",
       "text": [
        "\n",
        "115"
       ]
      },
      {
       "output_type": "stream",
       "stream": "stdout",
       "text": [
        "\n",
        "120"
       ]
      },
      {
       "output_type": "stream",
       "stream": "stdout",
       "text": [
        "\n",
        "125"
       ]
      },
      {
       "output_type": "stream",
       "stream": "stdout",
       "text": [
        "\n",
        "130"
       ]
      },
      {
       "output_type": "stream",
       "stream": "stdout",
       "text": [
        "\n",
        "135"
       ]
      },
      {
       "output_type": "stream",
       "stream": "stdout",
       "text": [
        "\n",
        "140"
       ]
      },
      {
       "output_type": "stream",
       "stream": "stdout",
       "text": [
        "\n",
        "145"
       ]
      },
      {
       "output_type": "stream",
       "stream": "stdout",
       "text": [
        "\n",
        "150"
       ]
      },
      {
       "output_type": "stream",
       "stream": "stdout",
       "text": [
        "\n",
        "155"
       ]
      },
      {
       "output_type": "stream",
       "stream": "stdout",
       "text": [
        "\n",
        "160"
       ]
      },
      {
       "output_type": "stream",
       "stream": "stdout",
       "text": [
        "\n",
        "165"
       ]
      },
      {
       "output_type": "stream",
       "stream": "stdout",
       "text": [
        "\n",
        "170"
       ]
      },
      {
       "output_type": "stream",
       "stream": "stdout",
       "text": [
        "\n",
        "175"
       ]
      },
      {
       "output_type": "stream",
       "stream": "stdout",
       "text": [
        "\n",
        "180"
       ]
      },
      {
       "output_type": "stream",
       "stream": "stdout",
       "text": [
        "\n",
        "185"
       ]
      },
      {
       "output_type": "stream",
       "stream": "stdout",
       "text": [
        "\n",
        "190"
       ]
      },
      {
       "output_type": "stream",
       "stream": "stdout",
       "text": [
        "\n",
        "195"
       ]
      },
      {
       "output_type": "stream",
       "stream": "stdout",
       "text": [
        "\n"
       ]
      }
     ],
     "prompt_number": 126
    },
    {
     "cell_type": "heading",
     "level": 2,
     "metadata": {},
     "source": [
      "\n",
      "Data analysis."
     ]
    },
    {
     "cell_type": "heading",
     "level": 3,
     "metadata": {},
     "source": [
      "Estimating the self-diffusion constant."
     ]
    },
    {
     "cell_type": "markdown",
     "metadata": {},
     "source": [
      "We have all the data necessary. All that's left is to read a file of displacements and crunch through\n",
      "some numbers to find their variance, diffusion constant, boltzmann constant, and finally Avogadro's number."
     ]
    },
    {
     "cell_type": "code",
     "collapsed": false,
     "input": [
      "#finding the variance sigma2\n",
      "def variance(File):\n",
      "    \"\"\"Reads a file of displacements and returns their variance\"\"\"\n",
      "    Data = np.loadtxt(File)\n",
      "    r = Data*0.175e-6\n",
      "    r2 = r**2.\n",
      "    n = size(Data)\n",
      "    sigma2 = sum(r2) / (2.*n)\n",
      "    return sigma2"
     ],
     "language": "python",
     "metadata": {},
     "outputs": [],
     "prompt_number": 140
    },
    {
     "cell_type": "code",
     "collapsed": false,
     "input": [
      "#finding the self-diffusion constant, D\n",
      "#sigma2 = 2D(dt)\n",
      "#D = sigma2/2dt\n",
      "\n",
      "Dtest = variance('output1.dat')/(2.*0.5)\n",
      "Dexperimental = variance('output2.dat')/(2.*0.100)\n",
      "print \"Test Data:\"\n",
      "print(\"%.4e\" % Dtest)\n",
      "print\n",
      "print \"Experimental Data:\"\n",
      "print(\"%.4e\" % Dexperimental)"
     ],
     "language": "python",
     "metadata": {},
     "outputs": [
      {
       "output_type": "stream",
       "stream": "stdout",
       "text": [
        "Test Data:\n",
        "5.6676e-13\n",
        "\n",
        "Experimental Data:\n",
        "5.7758e-13\n"
       ]
      }
     ],
     "prompt_number": 141
    },
    {
     "cell_type": "heading",
     "level": 3,
     "metadata": {},
     "source": [
      "Estimating the Boltzmann constant."
     ]
    },
    {
     "cell_type": "code",
     "collapsed": false,
     "input": [
      "#finding the Boltzmann constant, K\n",
      "#D = kT/(6pi*n*p)\n",
      "#k = (6pi*n*p*D)/T\n",
      "n = 9.135e-4\n",
      "T = 297.\n",
      "p = 0.5e-6\n",
      "ktest = 6.*pi*n*p*Dtest/T\n",
      "kexperimental = 6.*pi*n*0.4e-6*Dexperimental/T\n",
      "\n",
      "print \"Test Result:\"\n",
      "print 'Boltzmann Constant:', (\"%.4e\" % ktest)\n",
      "print 'Relative Error:', (\"%.4f\" % ((k - 1.3806488e-23)/1.3806488e-23))\n",
      "print \n",
      "print \"Experimental Result:\"\n",
      "print 'Boltzmann Constant:', (\"%.4e\" % kexperimental)\n",
      "print 'Relative Error:', (\"%.4f\" % ((kexperimental - 1.3806488e-23)/1.3806488e-23))"
     ],
     "language": "python",
     "metadata": {},
     "outputs": [
      {
       "output_type": "stream",
       "stream": "stdout",
       "text": [
        "Test Result:\n",
        "Boltzmann Constant: 1.6429e-23\n",
        "Relative Error: -0.5772\n",
        "\n",
        "Experimental Result:\n",
        "Boltzmann Constant: 1.3394e-23\n",
        "Relative Error: -0.0298\n"
       ]
      }
     ],
     "prompt_number": 142
    },
    {
     "cell_type": "heading",
     "level": 3,
     "metadata": {},
     "source": [
      "Estimating Avogadro's number."
     ]
    },
    {
     "cell_type": "code",
     "collapsed": false,
     "input": [
      "#Finding Avogadro's number\n",
      "#k = R/N_a\n",
      "#N_a = R/k\n",
      "R = 8.31457\n",
      "Avogadrotest = R/ktest\n",
      "Avogadroexperimental = R/kexperimental\n",
      "print \"Test Result:\"\n",
      "print 'Avogadro\\'s Number:',(\"%.4e\" % Avogadrotest)\n",
      "print 'Relative Error:', \"%.4f\" % ((Avogadrotest - 6.0221413e23)/6.0221413e23)\n",
      "print \n",
      "print \"Experimental Result:\"\n",
      "print 'Avogadro\\'s Number:',(\"%.4e\" % Avogadroexperimental)\n",
      "print 'Relative Error:', \"%.4f\" % ((Avogadroexperimental - 6.0221413e23)/6.0221413e23)"
     ],
     "language": "python",
     "metadata": {},
     "outputs": [
      {
       "output_type": "stream",
       "stream": "stdout",
       "text": [
        "Test Result:\n",
        "Avogadro's Number: 5.0608e+23\n",
        "Relative Error: -0.1596\n",
        "\n",
        "Experimental Result:\n",
        "Avogadro's Number: 6.2075e+23\n",
        "Relative Error: 0.0308\n"
       ]
      }
     ],
     "prompt_number": 143
    },
    {
     "cell_type": "markdown",
     "metadata": {},
     "source": [
      "Our numbers are fairly accurate. There may be some error due to using an incorrect minimum distance between pixels\n",
      "or possibly due to  the images may not be moving randomly. For the experimental data there seemed to be a slight upward trend between for all the milk globules. Moreover, not every milk globule is the same size. Overall, with enough data this seems to be a fairly good way to find Avogadro's Number."
     ]
    },
    {
     "cell_type": "code",
     "collapsed": false,
     "input": [],
     "language": "python",
     "metadata": {},
     "outputs": [],
     "prompt_number": 10
    },
    {
     "cell_type": "code",
     "collapsed": false,
     "input": [],
     "language": "python",
     "metadata": {},
     "outputs": [],
     "prompt_number": 10
    }
   ],
   "metadata": {}
  }
 ]
}