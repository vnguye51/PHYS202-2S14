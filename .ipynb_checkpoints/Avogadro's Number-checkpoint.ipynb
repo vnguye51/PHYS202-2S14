{
 "metadata": {
  "name": "",
  "signature": "sha256:a947e1b8459522c862f1bfda44ec9004c90df488ee6083fbce67c5a6d916de07"
 },
 "nbformat": 3,
 "nbformat_minor": 0,
 "worksheets": [
  {
   "cells": [
    {
     "cell_type": "heading",
     "level": 1,
     "metadata": {},
     "source": [
      "\n",
      "Brownian Motion and Avogadro's Number\n"
     ]
    },
    {
     "cell_type": "code",
     "collapsed": false,
     "input": [
      "%pylab inline\n",
      "import numpy as np\n",
      "import matplotlib.pyplot as plt"
     ],
     "language": "python",
     "metadata": {},
     "outputs": [
      {
       "output_type": "stream",
       "stream": "stdout",
       "text": [
        "Populating the interactive namespace from numpy and matplotlib\n"
       ]
      },
      {
       "output_type": "stream",
       "stream": "stderr",
       "text": [
        "WARNING: pylab import has clobbered these variables: ['fill']\n",
        "`%matplotlib` prevents importing * from pylab and numpy\n"
       ]
      }
     ],
     "prompt_number": 102
    },
    {
     "cell_type": "code",
     "collapsed": false,
     "input": [
      "from PIL import Image\n",
      "import requests\n",
      "from StringIO import StringIO"
     ],
     "language": "python",
     "metadata": {},
     "outputs": [],
     "prompt_number": 108
    },
    {
     "cell_type": "heading",
     "level": 3,
     "metadata": {},
     "source": [
      "\n",
      "Particle identification.\n"
     ]
    },
    {
     "cell_type": "code",
     "collapsed": false,
     "input": [
      "#Defining functions used to identify bead masses and positions\n",
      "\n",
      "def BlobFinder(picture, tau):\n",
      "    '''find all blobs in the picture using the luminance threshold tau'''\n",
      "    #Reusing the monochrome function from CountingStars to find blobs\n",
      "    #This function marks the blobs\n",
      "    black = (0, 0, 0)\n",
      "    white = (255, 255, 255)\n",
      "    xsize, ysize = picture.size\n",
      "    temp = picture.load()\n",
      "    for x in range(xsize):\n",
      "        for y in range(ysize):\n",
      "            r,g,b = temp[x,y]\n",
      "            #For milk changes this to <=, for test data set this as >=\n",
      "            if r+g+b >= tau: \n",
      "                temp[x,y] = black\n",
      "            else:\n",
      "                temp[x,y] = white\n",
      "    \n",
      "\n",
      "def fill(picture, xsize, ysize, xstart, ystart):\n",
      "    #Modifying the fill function from CountingStars\n",
      "    #Appends the xpixels and ypixels before coloring them red.\n",
      "    #This function marks the beads and returns the blob's mass and its center of mass\n",
      "    \"\"\"keep a list of pixels that need to be looked at, \n",
      "    but haven't yet been filled in - a list of the (x,y) \n",
      "    coordinates of pixels that are neighbors of ones we have \n",
      "    already examined.  Keep looping until there's nothing \n",
      "    left in this list\"\"\"\n",
      "    BLACK = (0,0,0)\n",
      "    RED = (255,0,0)\n",
      "    queue = [(xstart,ystart)]\n",
      "    xpixels = []\n",
      "    ypixels = []\n",
      "    while queue:\n",
      "        x,y,queue = queue[0][0], queue[0][1], queue[1:]\n",
      "        if picture[x,y] == BLACK:\n",
      "            picture[x,y] = RED\n",
      "            xpixels.append(x)\n",
      "            ypixels.append(y)\n",
      "            if x > 0:\n",
      "                queue.append((x-1,y))\n",
      "            if x < (xsize-1):\n",
      "                queue.append((x+1,y))\n",
      "            if y > 0:\n",
      "                queue.append((x, y-1))\n",
      "            if y < (ysize-1):\n",
      "                queue.append((x, y+1)) \n",
      "            mass = size(xpixels)\n",
      "            MassCenter = (sum(xpixels)/mass),(sum(ypixels)/mass)\n",
      "    return mass, MassCenter\n",
      "            \n",
      "def countBeads(picture,P):\n",
      "    #Reusing the count function from CountingStars to find the number of beads.\n",
      "    #This function counts the number of beads and return each bead's center of mass, and mass.\n",
      "    \"\"\"scan the image top to bottom and left to right using a nested loop.\n",
      "    when black pixel is found, increment the count, then call the fill\n",
      "    function to fill in all the pixels connected to that one.\"\"\"\n",
      "    BLACK = (0,0,0)\n",
      "    xsize, ysize = picture.size\n",
      "    temp = picture.load()\n",
      "    BeadMasses = []\n",
      "    BeadMassCenters = []\n",
      "    BlobMasses = []\n",
      "    BlobMassCenters = []\n",
      "    for x in range(xsize):\n",
      "        for y in range(ysize):\n",
      "            if temp[x,y] == BLACK:\n",
      "                mass, MassCenter = fill(temp,xsize,ysize,x,y)\n",
      "                BlobMasses.append(mass)\n",
      "                BlobMassCenters.append(MassCenter)\n",
      "                if mass >= P:\n",
      "                    BeadMasses.append(mass)\n",
      "                    BeadMassCenters.append(MassCenter)\n",
      "    return size(BeadMasses),BlobMasses,BlobMassCenters,BeadMasses,BeadMassCenters\n",
      "\n",
      "def getBeads(picture,P,tau):\n",
      "    '''return all beads with >= P pixels'''\n",
      "    BLACK = (0,0,0)\n",
      "    RED = (255,0,0)\n",
      "    xstart = 0\n",
      "    ystart = 0\n",
      "    BlobFinder(picture, tau)\n",
      "    count,BlobMasses,BlobMassCenters,BeadMasses,BeadMassCenters = countBeads(picture,P)\n",
      "    return count,BlobMasses,BlobMassCenters,BeadMasses,BeadMassCenters\n",
      "    "
     ],
     "language": "python",
     "metadata": {},
     "outputs": [],
     "prompt_number": 109
    },
    {
     "cell_type": "heading",
     "level": 3,
     "metadata": {},
     "source": [
      "\n",
      "Particle tracking\n"
     ]
    },
    {
     "cell_type": "code",
     "collapsed": false,
     "input": [
      "#Create a sequence of pictures to track particles through\n",
      "\n",
      "#Test Data\n",
      "picturesequence = []\n",
      "for n in range (0,200):\n",
      "    if n < 10:\n",
      "        picturesequence.append(\"frame0000%s.jpg\" % n)\n",
      "    if n < 100 and n >= 10:\n",
      "        picturesequence.append(\"frame000%s.jpg\" % n)\n",
      "    if n >= 100:\n",
      "        picturesequence.append(\"frame00%s.jpg\" % n)\n",
      "\n",
      "#Experimental Data\n",
      "picturesequence2 = []\n",
      "for n in range(1,200):\n",
      "    if n < 10:\n",
      "        picturesequence2.append(\"Nguyen_T000%s.jpg\" % n)\n",
      "    if n < 100 and n >= 10:\n",
      "        picturesequence2.append(\"Nguyen_T00%s.jpg\" % n)\n",
      "    if n >= 100:\n",
      "        picturesequence2.append(\"Nguyen_T0%s.jpg\" % n)\n",
      "\n"
     ],
     "language": "python",
     "metadata": {},
     "outputs": [],
     "prompt_number": 110
    },
    {
     "cell_type": "code",
     "collapsed": false,
     "input": [
      "#Defining functions to track particles with\n",
      "def NearestBead(P,tau,dp,picture1,picture2):\n",
      "    \"\"\"Takes two pictures and returns the displacements between beads\"\"\"\n",
      "    a,b,c,d,centers1 = getBeads(picture1,P,tau)\n",
      "    a,b,c,d,centers2 = getBeads(picture2,P,tau)\n",
      "    displacement = []\n",
      "    for beads1 in centers1:\n",
      "        r = []\n",
      "        x1,y1 = beads1\n",
      "        x1 = float(x1)\n",
      "        y1 = float(y1)\n",
      "        for beads2 in centers2:\n",
      "            x2,y2 = beads2\n",
      "            x2 = float(x2)\n",
      "            y2 = float(y2)\n",
      "            r.append(((x2-x1)**2. + (y2-y1)**2.)**(1./2.))\n",
      "        if min(r) <= dp:\n",
      "            displacement.append(min(r))\n",
      "    return displacement\n",
      "\n",
      "def Tracking(P,tau,dp,picturesequence,n):\n",
      "    #Takes around five mins to run, added counts to see progress\n",
      "    #Saves the data as 'output[n].dat'\n",
      "    \"\"\"Takes an integer P, a floating point value \u03c4, a floating point value \u0394p, and a sequence of images\n",
      "    and writes the displacements of the beads to a file\n",
      "    P is the mass(pixel) threshold, \u03c4 is the luminance threshold, \u0394p is the max distance a bead can move\"\"\"\n",
      "    Displacements = []\n",
      "    for x in range(0,len(picturesequence) - 1,1):\n",
      "        if x%5 == 0:\n",
      "            print x\n",
      "        picture2 = Image.open(picturesequence[x+1])\n",
      "        picture1 = Image.open(picturesequence[x])\n",
      "        Displacements = Displacements + (NearestBead(P,tau,dp,picture1,picture2))\n",
      "    Displacements = np.reshape(Displacements,(size(Displacements),1))\n",
      "    savetxt('output%s.dat' % n, Displacements,'%5.4f')\n"
     ],
     "language": "python",
     "metadata": {},
     "outputs": [],
     "prompt_number": 111
    },
    {
     "cell_type": "code",
     "collapsed": false,
     "input": [
      "#Writing data to a .dat file\n",
      "#Use tau = 180 for test data, tau = 335 for milk\n",
      "Displacements = Tracking(25,180,20,picturesequence,1)"
     ],
     "language": "python",
     "metadata": {},
     "outputs": [
      {
       "output_type": "stream",
       "stream": "stdout",
       "text": [
        "0\n",
        "5"
       ]
      },
      {
       "output_type": "stream",
       "stream": "stdout",
       "text": [
        "\n",
        "10"
       ]
      },
      {
       "output_type": "stream",
       "stream": "stdout",
       "text": [
        "\n",
        "15"
       ]
      },
      {
       "output_type": "stream",
       "stream": "stdout",
       "text": [
        "\n",
        "20"
       ]
      },
      {
       "output_type": "stream",
       "stream": "stdout",
       "text": [
        "\n",
        "25"
       ]
      },
      {
       "output_type": "stream",
       "stream": "stdout",
       "text": [
        "\n",
        "30"
       ]
      },
      {
       "output_type": "stream",
       "stream": "stdout",
       "text": [
        "\n",
        "35"
       ]
      },
      {
       "output_type": "stream",
       "stream": "stdout",
       "text": [
        "\n",
        "40"
       ]
      },
      {
       "output_type": "stream",
       "stream": "stdout",
       "text": [
        "\n",
        "45"
       ]
      },
      {
       "output_type": "stream",
       "stream": "stdout",
       "text": [
        "\n",
        "50"
       ]
      },
      {
       "output_type": "stream",
       "stream": "stdout",
       "text": [
        "\n",
        "55"
       ]
      },
      {
       "output_type": "stream",
       "stream": "stdout",
       "text": [
        "\n",
        "60"
       ]
      },
      {
       "output_type": "stream",
       "stream": "stdout",
       "text": [
        "\n",
        "65"
       ]
      },
      {
       "output_type": "stream",
       "stream": "stdout",
       "text": [
        "\n",
        "70"
       ]
      },
      {
       "output_type": "stream",
       "stream": "stdout",
       "text": [
        "\n",
        "75"
       ]
      },
      {
       "output_type": "stream",
       "stream": "stdout",
       "text": [
        "\n",
        "80"
       ]
      },
      {
       "output_type": "stream",
       "stream": "stdout",
       "text": [
        "\n",
        "85"
       ]
      },
      {
       "output_type": "stream",
       "stream": "stdout",
       "text": [
        "\n",
        "90"
       ]
      },
      {
       "output_type": "stream",
       "stream": "stdout",
       "text": [
        "\n",
        "95"
       ]
      },
      {
       "output_type": "stream",
       "stream": "stdout",
       "text": [
        "\n",
        "100"
       ]
      },
      {
       "output_type": "stream",
       "stream": "stdout",
       "text": [
        "\n",
        "105"
       ]
      },
      {
       "output_type": "stream",
       "stream": "stdout",
       "text": [
        "\n",
        "110"
       ]
      },
      {
       "output_type": "stream",
       "stream": "stdout",
       "text": [
        "\n",
        "115"
       ]
      },
      {
       "output_type": "stream",
       "stream": "stdout",
       "text": [
        "\n",
        "120"
       ]
      },
      {
       "output_type": "stream",
       "stream": "stdout",
       "text": [
        "\n",
        "125"
       ]
      },
      {
       "output_type": "stream",
       "stream": "stdout",
       "text": [
        "\n",
        "130"
       ]
      },
      {
       "output_type": "stream",
       "stream": "stdout",
       "text": [
        "\n",
        "135"
       ]
      },
      {
       "output_type": "stream",
       "stream": "stdout",
       "text": [
        "\n",
        "140"
       ]
      },
      {
       "output_type": "stream",
       "stream": "stdout",
       "text": [
        "\n",
        "145"
       ]
      },
      {
       "output_type": "stream",
       "stream": "stdout",
       "text": [
        "\n",
        "150"
       ]
      },
      {
       "output_type": "stream",
       "stream": "stdout",
       "text": [
        "\n",
        "155"
       ]
      },
      {
       "output_type": "stream",
       "stream": "stdout",
       "text": [
        "\n",
        "160"
       ]
      },
      {
       "output_type": "stream",
       "stream": "stdout",
       "text": [
        "\n",
        "165"
       ]
      },
      {
       "output_type": "stream",
       "stream": "stdout",
       "text": [
        "\n",
        "170"
       ]
      },
      {
       "output_type": "stream",
       "stream": "stdout",
       "text": [
        "\n",
        "175"
       ]
      },
      {
       "output_type": "stream",
       "stream": "stdout",
       "text": [
        "\n",
        "180"
       ]
      },
      {
       "output_type": "stream",
       "stream": "stdout",
       "text": [
        "\n",
        "185"
       ]
      },
      {
       "output_type": "stream",
       "stream": "stdout",
       "text": [
        "\n",
        "190"
       ]
      },
      {
       "output_type": "stream",
       "stream": "stdout",
       "text": [
        "\n",
        "195"
       ]
      },
      {
       "output_type": "stream",
       "stream": "stdout",
       "text": [
        "\n"
       ]
      }
     ],
     "prompt_number": 112
    },
    {
     "cell_type": "code",
     "collapsed": false,
     "input": [
      "def BlobFinder(picture, tau):\n",
      "    '''find all blobs in the picture using the luminance threshold tau'''\n",
      "    #Reusing the monochrome function from CountingStars to find blobs\n",
      "    #This function marks the blobs\n",
      "    black = (0, 0, 0)\n",
      "    white = (255, 255, 255)\n",
      "    xsize, ysize = picture.size\n",
      "    temp = picture.load()\n",
      "    for x in range(xsize):\n",
      "        for y in range(ysize):\n",
      "            r,g,b = temp[x,y]\n",
      "            #For milk changes this to <=, for test data set this as >=\n",
      "            if r+g+b <= tau: \n",
      "                temp[x,y] = black\n",
      "            else:\n",
      "                temp[x,y] = white"
     ],
     "language": "python",
     "metadata": {},
     "outputs": [],
     "prompt_number": 115
    },
    {
     "cell_type": "code",
     "collapsed": false,
     "input": [
      "DisplacementsExperimental = Tracking(25,335,20,picturesequence2,2)"
     ],
     "language": "python",
     "metadata": {},
     "outputs": [
      {
       "output_type": "stream",
       "stream": "stdout",
       "text": [
        "0\n",
        "5"
       ]
      },
      {
       "output_type": "stream",
       "stream": "stdout",
       "text": [
        "\n",
        "10"
       ]
      },
      {
       "output_type": "stream",
       "stream": "stdout",
       "text": [
        "\n",
        "15"
       ]
      },
      {
       "output_type": "stream",
       "stream": "stdout",
       "text": [
        "\n",
        "20"
       ]
      },
      {
       "output_type": "stream",
       "stream": "stdout",
       "text": [
        "\n",
        "25"
       ]
      },
      {
       "output_type": "stream",
       "stream": "stdout",
       "text": [
        "\n",
        "30"
       ]
      },
      {
       "output_type": "stream",
       "stream": "stdout",
       "text": [
        "\n",
        "35"
       ]
      },
      {
       "output_type": "stream",
       "stream": "stdout",
       "text": [
        "\n",
        "40"
       ]
      },
      {
       "output_type": "stream",
       "stream": "stdout",
       "text": [
        "\n",
        "45"
       ]
      },
      {
       "output_type": "stream",
       "stream": "stdout",
       "text": [
        "\n",
        "50"
       ]
      },
      {
       "output_type": "stream",
       "stream": "stdout",
       "text": [
        "\n",
        "55"
       ]
      },
      {
       "output_type": "stream",
       "stream": "stdout",
       "text": [
        "\n",
        "60"
       ]
      },
      {
       "output_type": "stream",
       "stream": "stdout",
       "text": [
        "\n",
        "65"
       ]
      },
      {
       "output_type": "stream",
       "stream": "stdout",
       "text": [
        "\n",
        "70"
       ]
      },
      {
       "output_type": "stream",
       "stream": "stdout",
       "text": [
        "\n",
        "75"
       ]
      },
      {
       "output_type": "stream",
       "stream": "stdout",
       "text": [
        "\n",
        "80"
       ]
      },
      {
       "output_type": "stream",
       "stream": "stdout",
       "text": [
        "\n",
        "85"
       ]
      },
      {
       "output_type": "stream",
       "stream": "stdout",
       "text": [
        "\n",
        "90"
       ]
      },
      {
       "output_type": "stream",
       "stream": "stdout",
       "text": [
        "\n",
        "95"
       ]
      },
      {
       "output_type": "stream",
       "stream": "stdout",
       "text": [
        "\n",
        "100"
       ]
      },
      {
       "output_type": "stream",
       "stream": "stdout",
       "text": [
        "\n",
        "105"
       ]
      },
      {
       "output_type": "stream",
       "stream": "stdout",
       "text": [
        "\n",
        "110"
       ]
      },
      {
       "output_type": "stream",
       "stream": "stdout",
       "text": [
        "\n",
        "115"
       ]
      },
      {
       "output_type": "stream",
       "stream": "stdout",
       "text": [
        "\n",
        "120"
       ]
      },
      {
       "output_type": "stream",
       "stream": "stdout",
       "text": [
        "\n",
        "125"
       ]
      },
      {
       "output_type": "stream",
       "stream": "stdout",
       "text": [
        "\n",
        "130"
       ]
      },
      {
       "output_type": "stream",
       "stream": "stdout",
       "text": [
        "\n",
        "135"
       ]
      },
      {
       "output_type": "stream",
       "stream": "stdout",
       "text": [
        "\n",
        "140"
       ]
      },
      {
       "output_type": "stream",
       "stream": "stdout",
       "text": [
        "\n",
        "145"
       ]
      },
      {
       "output_type": "stream",
       "stream": "stdout",
       "text": [
        "\n",
        "150"
       ]
      },
      {
       "output_type": "stream",
       "stream": "stdout",
       "text": [
        "\n",
        "155"
       ]
      },
      {
       "output_type": "stream",
       "stream": "stdout",
       "text": [
        "\n",
        "160"
       ]
      },
      {
       "output_type": "stream",
       "stream": "stdout",
       "text": [
        "\n",
        "165"
       ]
      },
      {
       "output_type": "stream",
       "stream": "stdout",
       "text": [
        "\n",
        "170"
       ]
      },
      {
       "output_type": "stream",
       "stream": "stdout",
       "text": [
        "\n",
        "175"
       ]
      },
      {
       "output_type": "stream",
       "stream": "stdout",
       "text": [
        "\n",
        "180"
       ]
      },
      {
       "output_type": "stream",
       "stream": "stdout",
       "text": [
        "\n",
        "185"
       ]
      },
      {
       "output_type": "stream",
       "stream": "stdout",
       "text": [
        "\n",
        "190"
       ]
      },
      {
       "output_type": "stream",
       "stream": "stdout",
       "text": [
        "\n",
        "195"
       ]
      },
      {
       "output_type": "stream",
       "stream": "stdout",
       "text": [
        "\n"
       ]
      }
     ],
     "prompt_number": 117
    },
    {
     "cell_type": "heading",
     "level": 2,
     "metadata": {},
     "source": [
      "\n",
      "Data analysis."
     ]
    },
    {
     "cell_type": "heading",
     "level": 3,
     "metadata": {},
     "source": [
      "Estimating the self-diffusion constant."
     ]
    },
    {
     "cell_type": "code",
     "collapsed": false,
     "input": [
      "#finding the variance sigma2\n",
      "def variance(File):\n",
      "    \"\"\"Reads a file of displacements and returns their variance\"\"\"\n",
      "    Data = np.loadtxt(File)\n",
      "    r = Data*0.175e-6\n",
      "    r2 = r**2.\n",
      "    n = size(Data)\n",
      "    sigma2 = sum(r2) / (2.*n)\n",
      "    return sigma2"
     ],
     "language": "python",
     "metadata": {},
     "outputs": [],
     "prompt_number": 118
    },
    {
     "cell_type": "code",
     "collapsed": false,
     "input": [
      "#finding the self-diffusion constant, D\n",
      "#sigma2 = 2D(dt)\n",
      "#D = sigma2/2dt\n",
      "\n",
      "Dtest = variance('output1.dat')/(2.*0.5)\n",
      "Dexperimental = variance('output2.dat')/(2.*0.100)\n",
      "print \"Test Data:\"\n",
      "print(\"%.4e\" % Dtest)\n",
      "print\n",
      "print \"Experimental Data:\"\n",
      "print(\"%.4e\" % Dexperimental)"
     ],
     "language": "python",
     "metadata": {},
     "outputs": [
      {
       "output_type": "stream",
       "stream": "stdout",
       "text": [
        "Test Data:\n",
        "6.9360e-13\n",
        "\n",
        "Experimental Data:\n",
        "1.0068e-12\n"
       ]
      }
     ],
     "prompt_number": 119
    },
    {
     "cell_type": "heading",
     "level": 3,
     "metadata": {},
     "source": [
      "Estimating the Boltzmann constant."
     ]
    },
    {
     "cell_type": "code",
     "collapsed": false,
     "input": [
      "#finding the Boltzmann constant, K\n",
      "#D = kT/(6pi*n*p)\n",
      "#k = (6pi*n*p*D)/T\n",
      "n = 9.135e-4\n",
      "T = 297.\n",
      "p = 0.5e-6\n",
      "ktest = 6.*pi*n*p*Dtest/T\n",
      "kexperimental = 6.*pi*n*0.4e-6*Dexperimental/T\n",
      "\n",
      "print \"Test Result:\"\n",
      "print 'Boltzmann Constant:', (\"%.4e\" % ktest)\n",
      "print 'Relative Error:', (\"%.4f\" % ((k - 1.3806488e-23)/1.3806488e-23))\n",
      "print \n",
      "print \"Experimental Result:\"\n",
      "print 'Boltzmann Constant:', (\"%.4e\" % kexperimental)\n",
      "print 'Relative Error:', (\"%.4f\" % ((k - 1.3806488e-23)/1.3806488e-23))"
     ],
     "language": "python",
     "metadata": {},
     "outputs": [
      {
       "output_type": "stream",
       "stream": "stdout",
       "text": [
        "Test Result:\n",
        "Boltzmann Constant: 2.0106e-23\n",
        "Relative Error: -0.5772\n",
        "\n",
        "Experimental Result:\n",
        "Boltzmann Constant: 2.3348e-23\n",
        "Relative Error: -0.5772\n"
       ]
      }
     ],
     "prompt_number": 120
    },
    {
     "cell_type": "heading",
     "level": 3,
     "metadata": {},
     "source": [
      "Estimating Avogadro's number."
     ]
    },
    {
     "cell_type": "code",
     "collapsed": false,
     "input": [
      "#Finding Avogadro's number\n",
      "#k = R/N_a\n",
      "#N_a = R/k\n",
      "R = 8.31457\n",
      "Avogadrotest = R/ktest\n",
      "Avogadroexperimental = R/kexperimental\n",
      "print \"Test Result:\"\n",
      "print 'Avogadro\\'s Number:',(\"%.4e\" % Avogadrotest)\n",
      "print 'Relative Error:', \"%.4f\" % ((Avogadrotest - 6.0221413e23)/6.0221413e23)\n",
      "print \n",
      "print \"Experimental Result:\"\n",
      "print 'Avogadro\\'s Number:',(\"%.4e\" % Avogadroexperimental)\n",
      "print 'Relative Error:', \"%.4f\" % ((Avogadroexperimental - 6.0221413e23)/6.0221413e23)"
     ],
     "language": "python",
     "metadata": {},
     "outputs": [
      {
       "output_type": "stream",
       "stream": "stdout",
       "text": [
        " Test Result:\n",
        "Avogadro's Number: 4.1353e+23\n",
        "Relative Error: -0.3133\n",
        "\n",
        "Experimental Result:\n",
        "Avogadro's Number: 3.5611e+23\n",
        "Relative Error: -0.4087\n"
       ]
      }
     ],
     "prompt_number": 125
    },
    {
     "cell_type": "code",
     "collapsed": false,
     "input": [],
     "language": "python",
     "metadata": {},
     "outputs": [],
     "prompt_number": 121
    },
    {
     "cell_type": "code",
     "collapsed": false,
     "input": [],
     "language": "python",
     "metadata": {},
     "outputs": [],
     "prompt_number": 10
    },
    {
     "cell_type": "code",
     "collapsed": false,
     "input": [],
     "language": "python",
     "metadata": {},
     "outputs": [],
     "prompt_number": 10
    }
   ],
   "metadata": {}
  }
 ]
}