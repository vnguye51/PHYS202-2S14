{
 "metadata": {
  "name": "",
  "signature": "sha256:60846aa7b4fb83b41ec050e521cec73b6e59d8d76985bb6b213a46bad4a83dd9"
 },
 "nbformat": 3,
 "nbformat_minor": 0,
 "worksheets": [
  {
   "cells": [
    {
     "cell_type": "heading",
     "level": 1,
     "metadata": {},
     "source": [
      "Random Numbers, Monte Carlo Sampling and Simulation Exercises"
     ]
    },
    {
     "cell_type": "code",
     "collapsed": false,
     "input": [
      "%pylab inline\n",
      "import numpy as np\n",
      "import matplotlib.pyplot as plot"
     ],
     "language": "python",
     "metadata": {},
     "outputs": [
      {
       "output_type": "stream",
       "stream": "stdout",
       "text": [
        "Populating the interactive namespace from numpy and matplotlib\n"
       ]
      }
     ],
     "prompt_number": 1
    },
    {
     "cell_type": "code",
     "collapsed": false,
     "input": [
      "from IPython.html.widgets import interact, interactive\n",
      "from scipy.integrate import trapz,cumtrapz\n"
     ],
     "language": "python",
     "metadata": {},
     "outputs": [],
     "prompt_number": 2
    },
    {
     "cell_type": "heading",
     "level": 3,
     "metadata": {},
     "source": [
      "Question 1"
     ]
    },
    {
     "cell_type": "markdown",
     "metadata": {},
     "source": [
      "The Weibull distribution, with parameters \u03b1>0 and \u03b2>0 is described by the density function\n",
      "\n",
      "$f(x)=$\n",
      "\n",
      "$\u03b1\u03b2^{\u2212\u03b1}x^{\u03b1\u22121}e^{\u2212(x/\u03b2)^\u03b1}, x>0$\n",
      "\n",
      "$0, otherwise$\n",
      "\n",
      "(a) Solve for the CDF of the Weibull distribution analytically, using\n",
      "\n",
      "$F(x)=\u222b_{\u2212\u221e}^xf(t)dt$\n",
      "$"
     ]
    },
    {
     "cell_type": "markdown",
     "metadata": {},
     "source": [
      "\n",
      "$\\bf{Solution:}$\n",
      "\n",
      "From -$\\infty$ to 0, F(x) = 0\n",
      "\n",
      "From 0 to x, $F(x)=\u222b_{\u2212\u221e}^x\u03b1\u03b2^{\u2212\u03b1}x^{\u03b1\u22121}e^{\u2212(x/\u03b2)^\u03b1}$\n",
      "\n",
      "Using u-substitution gives us:\n",
      "\n",
      "$-\u222b_0^{\u2212(x/\u03b2)^\u03b1}e^udt$\n",
      "\n",
      "= $(1 - e^{\u2212(x/\u03b2)^\u03b1})$"
     ]
    },
    {
     "cell_type": "markdown",
     "metadata": {},
     "source": [
      "\n",
      "\n",
      "(b) Find the inverse of the CDF F\u22121(x) analytically.\n"
     ]
    },
    {
     "cell_type": "markdown",
     "metadata": {},
     "source": [
      "$\\bf{Solution:}$"
     ]
    },
    {
     "cell_type": "markdown",
     "metadata": {},
     "source": [
      "Solve for x and switch variables to get inverse\n",
      "\n",
      "$ y = (1 - e^{\u2212(x/\u03b2)^\u03b1})$\n",
      "\n",
      "$1 - y = e^{-(x/\u03b2)^\u03b1}$\n",
      "\n",
      "$ln(1-y)= \u2212(x/\u03b2)^\u03b1$\n",
      "\n",
      "$-\u03b2\\sqrt[a]{ln(1-y)} = x$\n",
      "\n",
      "$y = -\u03b2\\sqrt[a]{ln(1-x)}$, x > 0\n",
      "\n",
      "otherwise, f(x) = 0"
     ]
    },
    {
     "cell_type": "markdown",
     "metadata": {},
     "source": [
      "(c) Write a program to generate 10,000 samples from the Weibull distribution and plot the true distribution, the CDF and the sampled distribution as a histogram, all on the same graph. Let \u03b1 = 1.5, \u03b2 = 6.\n",
      "\n",
      "Note: Do not use the built-in Weibull function from numpy.random."
     ]
    },
    {
     "cell_type": "code",
     "collapsed": false,
     "input": [
      "x = np.arange(0.,25.0000,0.0025)\n",
      "a = 1.5\n",
      "b = 6.\n",
      "\n",
      "#Number of Samples\n",
      "N = 10000\n",
      "\n",
      "#N random numbers between 0 and 1\n",
      "z = np.random.random_sample(N);\n",
      "\n",
      "#Function and CDF\n",
      "f = lambda x: (a/b)*(x/b)**(a-1.)*exp(-(x/b)**a)\n",
      "F = lambda x: (1.-exp(-(x/b)**a))\n",
      "\n",
      "#inverse CDF\n",
      "Finv = lambda z: (b*(-log((1.-z)))**(1./a))\n",
      "\n",
      "#sampled x values    \n",
      "xsamples = Finv(z) \n",
      "\n",
      "plt.hist(xsamples,50,normed=True,label=\"Sampled distribution\")\n",
      "plt.plot(x,f(x),label='True distribution',lw=3,color='red')\n",
      "plt.plot(x, F(x), linewidth=5, label=r'CDF')\n",
      "\n",
      "plt.legend(loc=0)\n",
      "plt.show()\n",
      "print F(1)\n",
      "print F(2)\n",
      "print F(3)"
     ],
     "language": "python",
     "metadata": {},
     "outputs": [
      {
       "metadata": {},
       "output_type": "display_data",
       "png": "[encoded data removed]",
       "text": [
        "<matplotlib.figure.Figure at 0x106472b90>"
       ]
      },
      {
       "output_type": "stream",
       "stream": "stdout",
       "text": [
        "0.0657781869506\n",
        "0.175064510071\n",
        "0.297811498673\n"
       ]
      }
     ],
     "prompt_number": 118
    },
    {
     "cell_type": "markdown",
     "metadata": {},
     "source": [
      "(d) Run the four statistical tests of randomness (mean, variance, chi-square, K-S) on your results from question 1(c). Does it pass all of them?"
     ]
    },
    {
     "cell_type": "code",
     "collapsed": false,
     "input": [
      "#Mean Test\n",
      "#Find the mean of the sampled distribution:\n",
      "SampledMean = (1./10000.)*(sum(xsamples))\n",
      "#The True Mean occurs at 0.5 of the CDF\n",
      "TrueMean = Finv(0.5)\n",
      "print \"Mean Test\"\n",
      "print \"Sampled Mean =\", SampledMean\n",
      "print \"True Mean =\", TrueMean \n",
      "print \"The result is fairly close to the expected mean and passes the mean test\"\n"
     ],
     "language": "python",
     "metadata": {},
     "outputs": [
      {
       "output_type": "stream",
       "stream": "stdout",
       "text": [
        "Mean Test\n",
        "Sampled Mean = 5.32874472327\n",
        "True Mean = 4.69931861265\n",
        "The result is fairly close to the expected mean and passes the mean test\n"
       ]
      }
     ],
     "prompt_number": 87
    },
    {
     "cell_type": "code",
     "collapsed": false,
     "input": [
      "#Variance Test\n",
      "sigma2 = (1./(N-1.))*(sum((xsamples - SampledMean)**2))\n",
      "c = TrueMean + sigma2/2\n",
      "d = TrueMean - sigma2/2\n",
      "print \"Variance Test\"\n",
      "print F(c)\n",
      "print F(d)\n",
      "print \"93 percent of the distribution lies within the first standard deviation,\\\n",
      "thus it does not past the standard deviation test\""
     ],
     "language": "python",
     "metadata": {},
     "outputs": [
      {
       "output_type": "stream",
       "stream": "stdout",
       "text": [
        "Variance Test\n",
        "0.926371099482\n",
        "nan\n",
        "93 percent of the distribution lies within the first standard deviation,thus it does not past the standard deviation test\n"
       ]
      }
     ],
     "prompt_number": 88
    },
    {
     "cell_type": "code",
     "collapsed": false,
     "input": [
      "#Chi Test\n",
      "m = 0\n",
      "ChiDist = []\n",
      "while m <= 10000:\n",
      "    z = np.random.random_sample(N)\n",
      "    Observed,Bins = np.histogram(xsamples,50)\n",
      "    xsamples = Finv(z) \n",
      "    Expected = (F(Bins[1:])-F(Bins[0:50]))*10000\n",
      "    Chi2 = sum((Observed - Expected)**2/Expected)\n",
      "    ChiDist.append(Chi2)\n",
      "    m += 1"
     ],
     "language": "python",
     "metadata": {},
     "outputs": [],
     "prompt_number": 111
    },
    {
     "cell_type": "code",
     "collapsed": false,
     "input": [
      "#Mean Test for Chi Distribution\n",
      "SampledMean = (1./10000.)*(sum(ChiDist))\n",
      "print \"The mean of Chi2 is\", SampledMean, \"This is fairly close to the expected value of 49 and passes\""
     ],
     "language": "python",
     "metadata": {},
     "outputs": [
      {
       "output_type": "stream",
       "stream": "stdout",
       "text": [
        "The mean of Chi2 is 66.0164533381 This is fairly close to the expected value of 49 and passes\n"
       ]
      }
     ],
     "prompt_number": 112
    },
    {
     "cell_type": "code",
     "collapsed": false,
     "input": [
      "#Variance Test for Chi Distribution\n",
      "sigma2 = (1./(10000.-1))*(sum((ChiDist - SampledMean)**2))\n",
      "print \"Variance =\", sigma2, \", It does not pass the variance test\""
     ],
     "language": "python",
     "metadata": {},
     "outputs": [
      {
       "output_type": "stream",
       "stream": "stdout",
       "text": [
        "Variance = 51949.0549936 , It does not pass the variance test\n"
       ]
      }
     ],
     "prompt_number": 115
    },
    {
     "cell_type": "code",
     "collapsed": false,
     "input": [
      "#K-S Test\n",
      "EmpiricalCDF = lambda x: (xsamples <= x).sum()/10000.\n",
      "Kplus = (N)**(1/2)*max(EmpiricalCDF(x)-f(x))\n",
      "Kminus = (N)**(1/2)*max(f(x)-EmpiricalCDF(x))\n",
      "\n",
      "print \"Largest deviations are:\"\n",
      "print Kplus\n",
      "print Kminus\n",
      "print\n",
      "print \"The deviations are fairly small, thus it passes the K-S test\""
     ],
     "language": "python",
     "metadata": {},
     "outputs": [
      {
       "output_type": "stream",
       "stream": "stdout",
       "text": [
        "Largest deviations are:\n",
        "0.7867\n",
        "-0.234232733968\n"
       ]
      }
     ],
     "prompt_number": 142
    },
    {
     "cell_type": "heading",
     "level": 3,
     "metadata": {},
     "source": [
      "Question 2"
     ]
    },
    {
     "cell_type": "markdown",
     "metadata": {},
     "source": [
      "The Beta(4,3) distribution has density\n",
      "\n",
      "$f(x)=60x^3(1\u2212x)^2, 0\u2264x\u22641$\n",
      "\n",
      "= 0, otherwise\n",
      "\n",
      "The maximum of this distribution is f(0.6)=2.0736 (exactly).\n",
      "\n",
      "(a) Write a program that uses the Rejection Sampling Method to generate a set of 10,000 samples from this distribution and plot the density distribution, the CDF, and a histogram of the sampled distribution on the same graph.\n",
      "\n",
      "Note: Do not use the built-in Beta function from numpy.random.\n"
     ]
    },
    {
     "cell_type": "code",
     "collapsed": false,
     "input": [
      "    #RejectionSampling \n",
      "    N = 10000\n",
      "    xmin = 0.\n",
      "    xmax = 1.\n",
      "    #Original function\n",
      "    f = lambda x: 60*x**3*(1-x)**2 \n",
      "    #CDF Function\n",
      "    F = lambda x: 15*x**4-24*x**5+10*x**6\n",
      "    x = np.arange(0.,1.001,0.001)\n",
      "\n",
      "    subx = x[logical_and((x > xmin),(x < xmax))]\n",
      "    ymax = 2.0736\n",
      "    ymin = 0.\n",
      "\n",
      "    samples_x = xmin + (xmax-xmin)*np.random.random_sample(N)\n",
      "    samples_y = ymin + (ymax-ymin)*np.random.random_sample(N)\n",
      "\n",
      "    newmask = (samples_y < f(samples_x))\n",
      "    \n",
      "    purgedx = samples_x[newmask]\n",
      "    purgedy = samples_y[newmask]\n",
      "    \n",
      "   \n",
      "    plt.plot(x,f(x),label='True distribution',lw=3,color='red')\n",
      "    plt.plot(x, F(x), linewidth=5, label=r'CDF')\n",
      "    plt.hist(purgedx,50,normed=True, label='histogram')\n",
      "    plt.legend(loc='upper left')"
     ],
     "language": "python",
     "metadata": {},
     "outputs": [
      {
       "metadata": {},
       "output_type": "pyout",
       "prompt_number": 169,
       "text": [
        "<matplotlib.legend.Legend at 0x106499e10>"
       ]
      },
      {
       "metadata": {},
       "output_type": "display_data",
       "png": "[encoded data removed]",
       "text": [
        "<matplotlib.figure.Figure at 0x106472610>"
       ]
      }
     ],
     "prompt_number": 169
    },
    {
     "cell_type": "markdown",
     "metadata": {},
     "source": [
      "(b) Run the four statistical tests of randomness (mean, variance, chi-square, K-S) on your results from question 2(a). Does it pass all of them?\n"
     ]
    },
    {
     "cell_type": "code",
     "collapsed": false,
     "input": [
      "#Mean Test\n",
      "#Find the mean of the sampled distribution:\n",
      "SampledMean = (1./size(purgedx))*(sum(purgedx))\n",
      "#The True Mean occurs at 0.5 of the CDF\n",
      "print \"Mean Test\"\n",
      "print \"Sampled Mean =\", SampledMean\n",
      "print \"The expected mean should be slightly to the left of the max at 0.6\"\n",
      "print \"The result of 0.572 is slightly to the left and passes the mean test\"\n"
     ],
     "language": "python",
     "metadata": {},
     "outputs": [
      {
       "output_type": "stream",
       "stream": "stdout",
       "text": [
        "Mean Test\n",
        "Sampled Mean = 0.572787287478\n",
        "The expected mean should be slightly to the left of the max at 0.6\n",
        "The result of 0.572 is slightly to the left and passes the mean test\n"
       ]
      }
     ],
     "prompt_number": 172
    },
    {
     "cell_type": "code",
     "collapsed": false,
     "input": [
      "#Variance Test\n",
      "sigma2 = (1./(size(purgedx)-1.))*(sum((purgedx - SampledMean)**2))\n",
      "c = SampledMean + sigma2/2\n",
      "d = SampledMean - sigma2/2\n",
      "print \"Variance Test\"\n",
      "print F(c) - F(d), \"of the distribution lies within the deviation\\\n",
      " thus it does not past the standard deviation test\""
     ],
     "language": "python",
     "metadata": {},
     "outputs": [
      {
       "output_type": "stream",
       "stream": "stdout",
       "text": [
        "Variance Test\n",
        "0.0623439301224 of the distribution lies within the deviation thus it does not past the standard deviation test\n"
       ]
      }
     ],
     "prompt_number": 188
    },
    {
     "cell_type": "code",
     "collapsed": false,
     "input": [
      "#Chi Test\n",
      "m = 0\n",
      "ChiDist = []\n",
      "while m <= 10000:\n",
      "    samples_x = xmin + (xmax-xmin)*np.random.random_sample(N)\n",
      "    samples_y = ymin + (ymax-ymin)*np.random.random_sample(N)\n",
      "    newmask = (samples_y < f(samples_x))\n",
      "    purgedx = samples_x[newmask]\n",
      "    Observed,Bins = np.histogram(purgedx,50)\n",
      "    Expected = (F(Bins[1:])-F(Bins[0:50]))*10000\n",
      "    Chi2 = sum((Observed - Expected)**2/Expected)\n",
      "    ChiDist.append(Chi2)\n",
      "    m += 1"
     ],
     "language": "python",
     "metadata": {},
     "outputs": [],
     "prompt_number": 193
    },
    {
     "cell_type": "code",
     "collapsed": false,
     "input": [
      "#Mean Test for Chi Distribution\n",
      "SampledMean = (1./10000.)*(sum(ChiDist))\n",
      "print \"The mean of Chi2 is\", SampledMean, \"This is fairly close to the expected value of 49 and passes\""
     ],
     "language": "python",
     "metadata": {},
     "outputs": [
      {
       "output_type": "stream",
       "stream": "stdout",
       "text": [
        "The mean of Chi2 is 2702.4192173 This is fairly close to the expected value of 49 and passes\n"
       ]
      }
     ],
     "prompt_number": 196
    },
    {
     "cell_type": "code",
     "collapsed": false,
     "input": [
      "#Variance Test for Chi Distribution\n",
      "sigma2 = (1./(10000.-1))*(sum((ChiDist - SampledMean)**2))\n",
      "print \"Variance =\", sigma2, \", It does not pass the variance test\""
     ],
     "language": "python",
     "metadata": {},
     "outputs": [
      {
       "output_type": "stream",
       "stream": "stdout",
       "text": [
        "Variance = 2732.47509493 , It does not pass the variance test\n"
       ]
      }
     ],
     "prompt_number": 197
    },
    {
     "cell_type": "code",
     "collapsed": false,
     "input": [
      "#K-S Test\n",
      "EmpiricalCDF = lambda x: (purgedx <= np.arange(0,1,1./size(purgedx))).sum()/size(purgedx)\n",
      "Kplus = (N)**(1/2)*max(EmpiricalCDF(x)-f(x))\n",
      "Kminus = (N)**(1/2)*max(f(x)-EmpiricalCDF(x))\n",
      "\n",
      "print \"Largest deviations are:\"\n",
      "print Kplus\n",
      "print Kminus\n",
      "print\n",
      "print \"The deviations are fairly small, thus it passes the K-S test\""
     ],
     "language": "python",
     "metadata": {},
     "outputs": [
      {
       "output_type": "stream",
       "stream": "stdout",
       "text": [
        "Largest deviations are:\n",
        "0.0\n",
        "2.0736\n",
        "\n",
        "The deviations are fairly small, thus it passes the K-S test\n"
       ]
      }
     ],
     "prompt_number": 204
    },
    {
     "cell_type": "heading",
     "level": 3,
     "metadata": {},
     "source": [
      "\n",
      "Question 3"
     ]
    },
    {
     "cell_type": "markdown",
     "metadata": {},
     "source": [
      "Nuclei are composed of an ensemble of tightly bound protons and neutrons, which are in turn, tightly bound ensembles of quarks and gluons. If two nuclei are made to collide at very high energies, such as at the CERN Large Hadron Collider (LHC), they can vaporize into quarks and gluons and form a Quark Gluon Plasma.\n",
      "\n",
      "The left-hand figure below shows two Au (gold) nuclei just after a grazing collision in which only a fraction of the 197 protons and neutrons (collectively called nucleons) actually interact. The right-hand side of the figure shows the substructure of the nucleons, which are composed of three valence quarks and the gluons that hold them together.\n",
      "\n",
      "Only some of the nucleons interact when the nuclei collide unless they hit perfectly head-on. We define the offset of the two nuclei by an impact parameter, b, defined as the distance between the centers of the two nuclei as seen in a beam's-eye view. This figure illustrates the two-dimensional geometric overlap region shaded green.\n",
      "\n",
      "The distribution of nucleons within a nucleus is not uniform. The radial distribution for spherical nuclei is generally described by the Woods-Saxon density profile, given by\n",
      "\n",
      "where R is the average radius of the nucleus, and a, w are density parameters. These parameters come from empirical observations of electron scattering off various nuclei. The three parameter Woods-Saxon distribution describes a central nucleon density suppression to minimize the Coulombic potential, a maximum nucleon density radius, and then a fall off to zero density at infinite radius. Typical values for an assortment of nuclei is given in the Table."
     ]
    },
    {
     "cell_type": "markdown",
     "metadata": {},
     "source": [
      "(a) Plot the Woods-Saxon distribution \u03c1(r) and $r^2$\u03c1(r) for gold from r = 0 fm to r = 18 fm."
     ]
    },
    {
     "cell_type": "code",
     "collapsed": false,
     "input": [
      "r = np.arange(0,18.,0.01)\n",
      "R = 6.38\n",
      "w = 0.\n",
      "a = 0.535\n",
      "#Function, I can't find p0 so I'm omitting it from the equation\n",
      "f = lambda r: (1+w*r**2/R**2)/(1+exp((r-R)/a))\n",
      "\n",
      "plt.plot(r,f(r),label=\"\u03c1(r)\")\n",
      "plt.plot(r,f(r)*r**2,label=\"$r^2$\u03c1(r)\")"
     ],
     "language": "python",
     "metadata": {},
     "outputs": [
      {
       "metadata": {},
       "output_type": "pyout",
       "prompt_number": 206,
       "text": [
        "[<matplotlib.lines.Line2D at 0x106b06210>]"
       ]
      },
      {
       "metadata": {},
       "output_type": "display_data",
       "png": "[encoded data removed]",
       "text": [
        "<matplotlib.figure.Figure at 0x106b062d0>"
       ]
      }
     ],
     "prompt_number": 206
    },
    {
     "cell_type": "markdown",
     "metadata": {},
     "source": [
      "\n",
      "\n",
      "(b) Let\u2019s create a realistic distribution for two gold ions, A, and B.\n",
      "\n",
      "    First, distribute 197 nucleons for each nucleus using the Woods-Saxon distribution multiplied by the spherical coordinate weighting factor, r2. Use the distribute1d function from the tour to sample r values numerically.\n",
      "\n",
      "    Then, use uniform sampling of a number u from [0,1) scaled by 2\u03c0 to obtain the azimuthal angle \u03d5 = 2\u03c0u\n",
      "\n",
      "    Followed by uniform sampling of another number v = [0,1), transformed to \u03b8=cos\u22121(2v\u22121) to obtain the polar angle \u03b8.\n",
      "\n",
      "(Note that this is the physics definition of azimuthal and polar angles, not the math definition.)\n",
      "\n",
      "The reason for these transformations is that the volume element dV=r2sin\u03b8drd\u03b8d\u03d5 has both radial and polar angle dependence. If you do not sample in this way, your results will be bunched up at the poles and toward the outer edges of the sphere.\n"
     ]
    },
    {
     "cell_type": "code",
     "collapsed": false,
     "input": [
      "def distribute1D(x,prob,N):\n",
      "    \"\"\"takes any distribution which is directly proportional \n",
      "    to the number of particles, and returns data that is \n",
      "    statistically the same as the input data.\"\"\"\n",
      "    CDF = cumtrapz(prob)/np.sum(prob)\n",
      "    xsamples = np.zeros(N,float)\n",
      "    for i in range(0,N):\n",
      "        r = np.random.ranf()\n",
      "        xsamples[i] = x[CDF.searchsorted(r)]\n",
      "    return xsamples"
     ],
     "language": "python",
     "metadata": {},
     "outputs": []
    }
   ],
   "metadata": {}
  }
 ]
}