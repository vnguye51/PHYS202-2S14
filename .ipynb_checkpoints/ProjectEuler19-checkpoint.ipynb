{
 "metadata": {
  "name": "",
  "signature": "sha256:6b521e638bc697658657bc1b57509fffe169bdbb4ca36fc75da1d89f1566a1ea"
 },
 "nbformat": 3,
 "nbformat_minor": 0,
 "worksheets": [
  {
   "cells": [
    {
     "cell_type": "heading",
     "level": 1,
     "metadata": {},
     "source": [
      "Problem 19"
     ]
    },
    {
     "cell_type": "heading",
     "level": 3,
     "metadata": {},
     "source": [
      "Counting Sundays"
     ]
    },
    {
     "cell_type": "markdown",
     "metadata": {},
     "source": [
      "You are given the following information, but you may prefer to do some research for yourself.\n",
      "\n",
      "1 Jan 1900 was a Monday.\n",
      "1 Jan 1901 was a Tuesday.\n",
      "\n",
      "Thirty days has September,\n",
      "April, June and November.\n",
      "All the rest have thirty-one,\n",
      "Saving February alone,\n",
      "Which has twenty-eight, rain or shine.\n",
      "And on leap years, twenty-nine.\n",
      "A leap year occurs on any year evenly divisible by 4, but not on a century unless it is divisible by 400.\n",
      "\n",
      "Every year the days of the week get shifted to the right by 1 day. So monday becomes tuesday, etc.\n",
      "Except on leap years where it is shifted twice.\n",
      "\n",
      "How many Sundays fell on the first of the month during the twentieth century (1 Jan 1901 to 31 Dec 2000)?"
     ]
    },
    {
     "cell_type": "code",
     "collapsed": false,
     "input": [
      "def SundaysJanFeb(Year):\n",
      "    a = 0\n",
      "    count = 1\n",
      "    #Gives out sundays for january or february when given the \n",
      "    #year of the first sunday that falls on a first\n",
      "    for n in range((Year + 1), 101):\n",
      "        if (n+3)%4 == 0:\n",
      "            a += 2\n",
      "        else:\n",
      "            a += 1\n",
      "        if a%7 == 0:\n",
      "            count += 1\n",
      "    return count\n",
      "            \n",
      "def Sundays(Year):\n",
      "    a = 0\n",
      "    count = 1\n",
      "    #Gives out number of sundays for months when given the\n",
      "    #year of the first sunday that falls on a first\n",
      "    #except for months January and February\n",
      "    for n in range((Year + 1), 101):\n",
      "        if n%4 == 0:\n",
      "            a += 2\n",
      "        else:\n",
      "            a += 1\n",
      "        if a%7 == 0:\n",
      "            count += 1\n",
      "    return count\n",
      "\n",
      "print SundaysJanFeb(6)"
     ],
     "language": "python",
     "metadata": {},
     "outputs": [
      {
       "output_type": "stream",
       "stream": "stdout",
       "text": [
        "14\n"
       ]
      }
     ],
     "prompt_number": 142
    },
    {
     "cell_type": "code",
     "collapsed": false,
     "input": [
      "#Manually finding the first sundays I have:\n",
      "January = 5\n",
      "February = 3\n",
      "March = 3\n",
      "April = 6\n",
      "May = 4\n",
      "June = 2\n",
      "July = 6\n",
      "August = 9\n",
      "September = 1\n",
      "October = 5\n",
      "November = 3\n",
      "December = 1\n",
      "\n",
      "Months = [January,February,March,April,May,\n",
      "          June,July,August,September,October,November,December]"
     ],
     "language": "python",
     "metadata": {},
     "outputs": [],
     "prompt_number": 147
    },
    {
     "cell_type": "code",
     "collapsed": false,
     "input": [
      "a = 0\n",
      "Days = []\n",
      "\n",
      "for n in Months:\n",
      "    if a < 2:\n",
      "        Days.append(SundaysJanFeb(n))\n",
      "        a += 1\n",
      "    else:\n",
      "        Days.append(Sundays(n))\n",
      "\n",
      "print sum(Days)"
     ],
     "language": "python",
     "metadata": {},
     "outputs": [
      {
       "output_type": "stream",
       "stream": "stdout",
       "text": [
        "171\n"
       ]
      }
     ],
     "prompt_number": 146
    },
    {
     "cell_type": "heading",
     "level": 3,
     "metadata": {},
     "source": [
      "There are 171 sundays that fell on the first of the month during the twentieth century."
     ]
    },
    {
     "cell_type": "code",
     "collapsed": false,
     "input": [],
     "language": "python",
     "metadata": {},
     "outputs": []
    }
   ],
   "metadata": {}
  }
 ]
}