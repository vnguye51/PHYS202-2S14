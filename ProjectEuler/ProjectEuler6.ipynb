{
 "metadata": {
  "name": ""
 },
 "nbformat": 3,
 "nbformat_minor": 0,
 "worksheets": [
  {
   "cells": [
    {
     "cell_type": "heading",
     "level": 1,
     "metadata": {},
     "source": [
      "Problem 6: Sum Square Difference"
     ]
    },
    {
     "cell_type": "markdown",
     "metadata": {},
     "source": [
      "The sum of the squares of the first ten natural numbers is,\n",
      "1^2 + 2^2 + ... + 10^2 = 385\n",
      "\n",
      "The square of the sum of the first ten natural numbers is,\n",
      "(1 + 2 + ... + 10)^2 = 55^2 = 3025\n",
      "\n",
      "Hence the difference between the sum of the squares of the first ten natural numbers and the square of the sum is 3025 \u2212 385 = 2640.\n",
      "\n",
      "Find the difference between the sum of the squares of the first one hundred natural numbers and the square of the sum.\n"
     ]
    },
    {
     "cell_type": "code",
     "collapsed": false,
     "input": [
      "#Set x equal to the desired number\n",
      "x = 100\n",
      "\n",
      "numbers = range(1,x+1)    \n",
      "\n",
      "def sumsquares(number):\n",
      "    for n in range(0,len(number)):\n",
      "        number[n] = number[n]**2\n",
      "        a = sum(number)\n",
      "    return a\n",
      "\n",
      "def squaresum(number):\n",
      "    b = sum(number)\n",
      "    return b**2\n",
      "\n",
      "print squaresum(numbers) - sumsquares(numbers)\n"
     ],
     "language": "python",
     "metadata": {},
     "outputs": [
      {
       "output_type": "stream",
       "stream": "stdout",
       "text": [
        "25164150\n"
       ]
      }
     ],
     "prompt_number": 60
    },
    {
     "cell_type": "code",
     "collapsed": false,
     "input": [],
     "language": "python",
     "metadata": {},
     "outputs": []
    }
   ],
   "metadata": {}
  }
 ]
}