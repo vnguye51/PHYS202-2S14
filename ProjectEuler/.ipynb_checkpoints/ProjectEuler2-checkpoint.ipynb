{
 "metadata": {
  "name": "",
  "signature": "sha256:0c45ddc70a487d6a9f0d9152f4665982d83db41ddb0e66795910a234a5796a97"
 },
 "nbformat": 3,
 "nbformat_minor": 0,
 "worksheets": [
  {
   "cells": [
    {
     "cell_type": "heading",
     "level": 2,
     "metadata": {},
     "source": [
      "Project Euler 2"
     ]
    },
    {
     "cell_type": "code",
     "collapsed": false,
     "input": [
      "#Creates the fibonacci sequence up to Highestnumber\n",
      "def Fibonacci(Highestnumber):\n",
      "    sequence = [1,2]\n",
      "    x = 1\n",
      "    y = 2\n",
      "    z = 3\n",
      "    while y <= Highestnumber:\n",
      "        sequence.append(x+y)\n",
      "        z = x + y\n",
      "        x = y\n",
      "        y = z\n",
      "    return sequence[0:-1]\n",
      "\n",
      "#Set fibonacci to desired number\n",
      "sequence = Fibonacci(4000000)\n",
      "\n",
      "#Remove odd numbers\n",
      "Purified = [x for x in sequence if x%2 == 0]\n",
      "        \n",
      "print sum(Purified)"
     ],
     "language": "python",
     "metadata": {},
     "outputs": [
      {
       "output_type": "stream",
       "stream": "stdout",
       "text": [
        "4613732\n"
       ]
      }
     ],
     "prompt_number": 59
    },
    {
     "cell_type": "code",
     "collapsed": false,
     "input": [],
     "language": "python",
     "metadata": {},
     "outputs": []
    }
   ],
   "metadata": {}
  }
 ]
}