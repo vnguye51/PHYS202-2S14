{
 "metadata": {
  "name": ""
 },
 "nbformat": 3,
 "nbformat_minor": 0,
 "worksheets": [
  {
   "cells": [
    {
     "cell_type": "heading",
     "level": 1,
     "metadata": {},
     "source": [
      "Problem 36:Double-Base Palindromes"
     ]
    },
    {
     "cell_type": "markdown",
     "metadata": {},
     "source": [
      "The decimal number, 585 = 1001001001_2 (binary), is palindromic in both bases.\n",
      "\n",
      "Find the sum of all numbers, less than one million, which are palindromic in base 10 and base 2.\n",
      "\n",
      "(Please note that the palindromic number, in either base, may not include leading zeros.)"
     ]
    },
    {
     "cell_type": "code",
     "collapsed": false,
     "input": [
      "Numbers = []\n",
      "n = 0\n",
      "\n",
      "#Enter desired number\n",
      "while n <= 1000000:\n",
      "    if (str(bin(n)))[2::1] == (str(bin(n)))[:1:-1] and str(n) == str(n)[::-1]:\n",
      "        Numbers.append(n)\n",
      "    n += 1\n",
      "\n",
      "print sum(Numbers)\n"
     ],
     "language": "python",
     "metadata": {},
     "outputs": [
      {
       "output_type": "stream",
       "stream": "stdout",
       "text": [
        "872187\n"
       ]
      }
     ],
     "prompt_number": 64
    },
    {
     "cell_type": "code",
     "collapsed": false,
     "input": [],
     "language": "python",
     "metadata": {},
     "outputs": [],
     "prompt_number": 64
    },
    {
     "cell_type": "code",
     "collapsed": false,
     "input": [],
     "language": "python",
     "metadata": {},
     "outputs": [],
     "prompt_number": 64
    },
    {
     "cell_type": "code",
     "collapsed": false,
     "input": [],
     "language": "python",
     "metadata": {},
     "outputs": []
    }
   ],
   "metadata": {}
  }
 ]
}