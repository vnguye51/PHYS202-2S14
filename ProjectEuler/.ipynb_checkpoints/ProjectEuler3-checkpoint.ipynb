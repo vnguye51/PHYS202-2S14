{
 "metadata": {
  "name": ""
 },
 "nbformat": 3,
 "nbformat_minor": 0,
 "worksheets": [
  {
   "cells": [
    {
     "cell_type": "heading",
     "level": 1,
     "metadata": {},
     "source": [
      "Largest prime factor"
     ]
    },
    {
     "cell_type": "heading",
     "level": 3,
     "metadata": {},
     "source": [
      "Problem 3"
     ]
    },
    {
     "cell_type": "markdown",
     "metadata": {},
     "source": [
      "The prime factors of 13195 are 5, 7, 13 and 29.\n",
      "\n",
      "What is the largest prime factor of the number 600851475143?"
     ]
    },
    {
     "cell_type": "code",
     "collapsed": false,
     "input": [
      "%pylab inline"
     ],
     "language": "python",
     "metadata": {},
     "outputs": [
      {
       "output_type": "stream",
       "stream": "stdout",
       "text": [
        "Populating the interactive namespace from numpy and matplotlib\n"
       ]
      }
     ],
     "prompt_number": 19
    },
    {
     "cell_type": "code",
     "collapsed": false,
     "input": [
      "#Eratosthene's Sieve from NumPyExercises\n",
      "def eratosthenes_sieve(maximum):\n",
      "    is_prime = np.ones((maximum,), dtype=bool)\n",
      "    is_prime[0] = False\n",
      "    is_prime[1] = False\n",
      "    N_max = int(np.sqrt(len(is_prime)))\n",
      "    for j in range (2, N_max):\n",
      "        is_prime[2*j::j] = False\n",
      "    return np.nonzero(is_prime)\n",
      "\n",
      "#Enter desired number to find prime factors from\n",
      "primes = np.array(eratosthenes_sieve(600851475143)).tolist()\n",
      "factors = []\n",
      "\n",
      "for x in primes[0]:\n",
      "    if 13195%x == 0:\n",
      "        factors.append(x)\n",
      "\n",
      "print factors\n",
      "\n",
      "print factors[-1]\n"
     ],
     "language": "python",
     "metadata": {},
     "outputs": [],
     "prompt_number": "*"
    },
    {
     "cell_type": "code",
     "collapsed": false,
     "input": [
      "print 5+3"
     ],
     "language": "python",
     "metadata": {},
     "outputs": [],
     "prompt_number": "*"
    },
    {
     "cell_type": "code",
     "collapsed": false,
     "input": [],
     "language": "python",
     "metadata": {},
     "outputs": []
    }
   ],
   "metadata": {}
  }
 ]
}