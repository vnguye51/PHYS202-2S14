{
 "metadata": {
  "name": "",
  "signature": "sha256:ee8fa22ebf32260093e1bbd0dde51e34b5b6960fd0226b6c57b372f5a28bf6e2"
 },
 "nbformat": 3,
 "nbformat_minor": 0,
 "worksheets": [
  {
   "cells": [
    {
     "cell_type": "heading",
     "level": 1,
     "metadata": {},
     "source": [
      "1000-digit Fibonacci number"
     ]
    },
    {
     "cell_type": "heading",
     "level": 3,
     "metadata": {},
     "source": [
      "Problem 25"
     ]
    },
    {
     "cell_type": "markdown",
     "metadata": {},
     "source": [
      "The Fibonacci sequence is defined by the recurrence relation:\n",
      "\n",
      "Fn = Fn\u22121 + Fn\u22122, where F1 = 1 and F2 = 1.\n",
      "Hence the first 12 terms will be:\n",
      "\n",
      "F1 = 1,\n",
      "F2 = 1,\n",
      "F3 = 2,\n",
      "F4 = 3,\n",
      "F5 = 5,\n",
      "F6 = 8,\n",
      "F7 = 13,\n",
      "F8 = 21,\n",
      "F9 = 34,\n",
      "F10 = 55,\n",
      "F11 = 89,\n",
      "F12 = 144\n",
      "\n",
      "The 12th term, F12, is the first term to contain three digits.\n",
      "\n",
      "What is the first term in the Fibonacci sequence to contain 1000 digits?"
     ]
    },
    {
     "cell_type": "code",
     "collapsed": false,
     "input": [
      "def Fibonacci(Highestnumber):\n",
      "    #Modified function from Euler 2\n",
      "    sequence = [1,1]\n",
      "    x = 1\n",
      "    y = 1\n",
      "    z = 2\n",
      "    while y <= Highestnumber:\n",
      "        sequence.append(x+y)\n",
      "        z = x + y\n",
      "        x = y\n",
      "        y = z\n",
      "        #Returns the (index + 1) because the Fibonacci Sequence begins on term 1 not term 0\n",
      "    return (sequence.index(sequence[-1])) + 1\n",
      "\n"
     ],
     "language": "python",
     "metadata": {},
     "outputs": [
      {
       "output_type": "stream",
       "stream": "stdout",
       "text": [
        "\n"
       ]
      }
     ],
     "prompt_number": 2
    },
    {
     "cell_type": "code",
     "collapsed": false,
     "input": [
      "#Test case\n",
      "print \"The first term to contain three digits is\", Fibonacci(100)"
     ],
     "language": "python",
     "metadata": {},
     "outputs": [
      {
       "output_type": "stream",
       "stream": "stdout",
       "text": [
        "The first term to contain three digits is 12\n"
       ]
      }
     ],
     "prompt_number": 5
    },
    {
     "cell_type": "code",
     "collapsed": false,
     "input": [
      "#Solution\n",
      "print \"The first term to contain 1000 digits is\", Fibonacci(10**999)"
     ],
     "language": "python",
     "metadata": {},
     "outputs": [
      {
       "output_type": "stream",
       "stream": "stdout",
       "text": [
        "The first term to contain 1000 digits is 4782\n"
       ]
      }
     ],
     "prompt_number": 6
    },
    {
     "cell_type": "code",
     "collapsed": false,
     "input": [],
     "language": "python",
     "metadata": {},
     "outputs": []
    }
   ],
   "metadata": {}
  }
 ]
}