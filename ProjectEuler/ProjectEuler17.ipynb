{
 "metadata": {
  "name": "",
  "signature": "sha256:ac29fef9b10c8d557c07efb85dd2c8419a7829c8282d4411f9d552003fabf7a4"
 },
 "nbformat": 3,
 "nbformat_minor": 0,
 "worksheets": [
  {
   "cells": [
    {
     "cell_type": "heading",
     "level": 1,
     "metadata": {},
     "source": [
      "Number Letter Counts"
     ]
    },
    {
     "cell_type": "heading",
     "level": 3,
     "metadata": {},
     "source": [
      "Problem 17"
     ]
    },
    {
     "cell_type": "markdown",
     "metadata": {},
     "source": [
      "\n",
      "\n",
      "If the numbers 1 to 5 are written out in words: one, two, three, four, five, then there are 3 + 3 + 5 + 4 + 4 = 19 letters used in total.\n",
      "\n",
      "If all the numbers from 1 to 1000 (one thousand) inclusive were written out in words, how many letters would be used?\n",
      "\n",
      "NOTE: Do not count spaces or hyphens. For example, 342 (three hundred and forty-two) contains 23 letters and 115 (one hundred and fifteen) contains 20 letters. The use of \"and\" when writing out numbers is in compliance with British usage.\n"
     ]
    },
    {
     "cell_type": "code",
     "collapsed": false,
     "input": [
      "#Assigning the number of letters to numbers\n",
      "one = 3\n",
      "two = 3\n",
      "three = 5\n",
      "four = 4\n",
      "five = 4\n",
      "six = 3\n",
      "seven = 5\n",
      "eight = 5\n",
      "nine = 4\n",
      "ten = 3\n",
      "eleven = 6\n",
      "twelve = 6\n",
      "thirteen = 8\n",
      "fourteen = 8\n",
      "fifteen = 7\n",
      "sixteen = 7\n",
      "seventeen = 9\n",
      "eighteen = 8\n",
      "nineteen = 8\n",
      "twenty = 6\n",
      "thirty = 6\n",
      "forty = 5\n",
      "fifty = 5\n",
      "sixty = 5\n",
      "seventy = 7\n",
      "eighty = 6\n",
      "ninety = 6\n",
      "hundred = 7\n",
      "And = 3\n",
      "thousand = 8\n"
     ],
     "language": "python",
     "metadata": {},
     "outputs": [],
     "prompt_number": 37
    },
    {
     "cell_type": "code",
     "collapsed": false,
     "input": [
      "#Test Case\n",
      "print sum([one,two,three,four,five])"
     ],
     "language": "python",
     "metadata": {},
     "outputs": [
      {
       "output_type": "stream",
       "stream": "stdout",
       "text": [
        "19\n"
       ]
      }
     ],
     "prompt_number": 38
    },
    {
     "cell_type": "code",
     "collapsed": false,
     "input": [
      "\n",
      "NumbersOnetoNine = [one,two,three,four,five,six,seven,eight,nine]    \n",
      "NumbersTentoNineteen = [ten,eleven,twelve,thirteen,fourteen,fifteen,sixteen,seventeen,eighteen,nineteen]\n"
     ],
     "language": "python",
     "metadata": {},
     "outputs": [],
     "prompt_number": 39
    },
    {
     "cell_type": "code",
     "collapsed": false,
     "input": [
      "TwentyToNinetyNine = ((twenty * 10) + (thirty * 10) + (forty * 10) + (fifty * 10) + (sixty * 10)\n",
      "                    + (seventy * 10) + (eighty * 10) + (ninety * 10) + (sum(NumbersOnetoNine) * 8))\n",
      "\n",
      "OnetoNinetyNine = sum(NumbersOnetoNine) + sum (NumbersTentoNineteen) + TwentyToNinetyNine"
     ],
     "language": "python",
     "metadata": {},
     "outputs": [],
     "prompt_number": 43
    },
    {
     "cell_type": "code",
     "collapsed": false,
     "input": [
      "OneHundredtoNineHundredNinetyNine = (hundred * 900 + one * 100 + two * 100 + three * 100 +\n",
      "                                    four * 100 + five * 100 + six * 100 + seven * 100 + eight\n",
      "                                    * 100 + nine * 100 + And * 99 * 9 + OnetoNinetyNine * 9)"
     ],
     "language": "python",
     "metadata": {},
     "outputs": [],
     "prompt_number": 49
    },
    {
     "cell_type": "code",
     "collapsed": false,
     "input": [
      "OnetoThousand = OnetoNinetyNine + OneHundredtoNineHundredNinetyNine + one + thousand\n",
      "print OnetoThousand"
     ],
     "language": "python",
     "metadata": {},
     "outputs": [
      {
       "output_type": "stream",
       "stream": "stdout",
       "text": [
        "21124\n"
       ]
      }
     ],
     "prompt_number": 52
    },
    {
     "cell_type": "code",
     "collapsed": false,
     "input": [],
     "language": "python",
     "metadata": {},
     "outputs": [],
     "prompt_number": 51
    },
    {
     "cell_type": "code",
     "collapsed": false,
     "input": [],
     "language": "python",
     "metadata": {},
     "outputs": [],
     "prompt_number": 51
    },
    {
     "cell_type": "code",
     "collapsed": false,
     "input": [],
     "language": "python",
     "metadata": {},
     "outputs": []
    }
   ],
   "metadata": {}
  }
 ]
}