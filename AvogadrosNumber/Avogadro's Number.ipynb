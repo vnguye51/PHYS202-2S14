{
 "metadata": {
  "name": "",
  "signature": "sha256:4afd813316b89c566605b13bb49146af9177aa0fe0d603e7b5eb4ff92a025323"
 },
 "nbformat": 3,
 "nbformat_minor": 0,
 "worksheets": [
  {
   "cells": [
    {
     "cell_type": "heading",
     "level": 1,
     "metadata": {},
     "source": [
      "\n",
      "Brownian Motion and Avogadro's Number\n"
     ]
    },
    {
     "cell_type": "code",
     "collapsed": false,
     "input": [
      "%pylab inline\n",
      "import numpy as np\n",
      "import matplotlib.pyplot as plt"
     ],
     "language": "python",
     "metadata": {},
     "outputs": [
      {
       "output_type": "stream",
       "stream": "stdout",
       "text": [
        "Populating the interactive namespace from numpy and matplotlib\n"
       ]
      }
     ],
     "prompt_number": 3
    },
    {
     "cell_type": "code",
     "collapsed": false,
     "input": [
      "from PIL import Image\n",
      "import requests\n",
      "from StringIO import StringIO"
     ],
     "language": "python",
     "metadata": {},
     "outputs": [],
     "prompt_number": 12
    },
    {
     "cell_type": "heading",
     "level": 3,
     "metadata": {},
     "source": [
      "\n",
      "Particle identification.\n"
     ]
    },
    {
     "cell_type": "code",
     "collapsed": false,
     "input": [
      "#Defining functions used to identify bead masses and positions\n",
      "\n",
      "def BlobFinder(picture, tau):\n",
      "    '''find all blobs in the picture using the luminance threshold tau'''\n",
      "    #Reusing the monochrome function from CountingStars to find blobs\n",
      "    #This function marks the blobs\n",
      "    black = (0, 0, 0)\n",
      "    white = (255, 255, 255)\n",
      "    xsize, ysize = picture.size\n",
      "    temp = picture.load()\n",
      "    for x in range(xsize):\n",
      "        for y in range(ysize):\n",
      "            r,g,b = temp[x,y]\n",
      "            if r+g+b >= tau: \n",
      "                temp[x,y] = black\n",
      "            else:\n",
      "                temp[x,y] = white\n",
      "    \n",
      "\n",
      "def fill(picture, xsize, ysize, xstart, ystart):\n",
      "    #Modifying the fill function from CountingStars\n",
      "    #Appends the xpixels and ypixels before coloring them red.\n",
      "    #This function marks the beads and returns the blob's mass and its center of mass\n",
      "    \"\"\"keep a list of pixels that need to be looked at, \n",
      "    but haven't yet been filled in - a list of the (x,y) \n",
      "    coordinates of pixels that are neighbors of ones we have \n",
      "    already examined.  Keep looping until there's nothing \n",
      "    left in this list\"\"\"\n",
      "    BLACK = (0,0,0)\n",
      "    RED = (255,0,0)\n",
      "    queue = [(xstart,ystart)]\n",
      "    xpixels = []\n",
      "    ypixels = []\n",
      "    while queue:\n",
      "        x,y,queue = queue[0][0], queue[0][1], queue[1:]\n",
      "        if picture[x,y] == BLACK:\n",
      "            picture[x,y] = RED\n",
      "            xpixels.append(x)\n",
      "            ypixels.append(y)\n",
      "            if x > 0:\n",
      "                queue.append((x-1,y))\n",
      "            if x < (xsize-1):\n",
      "                queue.append((x+1,y))\n",
      "            if y > 0:\n",
      "                queue.append((x, y-1))\n",
      "            if y < (ysize-1):\n",
      "                queue.append((x, y+1)) \n",
      "            mass = size(xpixels)\n",
      "            MassCenter = (sum(xpixels)/mass),(sum(ypixels)/mass)\n",
      "    return mass, MassCenter\n",
      "            \n",
      "def countBeads(picture,P):\n",
      "    #Reusing the count function from CountingStars to find the number of beads.\n",
      "    #This function counts the number of beads and return each bead's center of mass, and mass.\n",
      "    \"\"\"scan the image top to bottom and left to right using a nested loop.\n",
      "    when black pixel is found, increment the count, then call the fill\n",
      "    function to fill in all the pixels connected to that one.\"\"\"\n",
      "    BLACK = (0,0,0)\n",
      "    xsize, ysize = picture.size\n",
      "    temp = picture.load()\n",
      "    BeadMasses = []\n",
      "    BeadMassCenters = []\n",
      "    BlobMasses = []\n",
      "    BlobMassCenters = []\n",
      "    for x in range(xsize):\n",
      "        for y in range(ysize):\n",
      "            if temp[x,y] == BLACK:\n",
      "                mass, MassCenter = fill(temp,xsize,ysize,x,y)\n",
      "                BlobMasses.append(mass)\n",
      "                BlobMassCenters.append(MassCenter)\n",
      "                if mass >= P:\n",
      "                    BeadMasses.append(mass)\n",
      "                    BeadMassCenters.append(MassCenter)\n",
      "    return size(BeadMasses),BlobMasses,BlobMassCenters,BeadMasses,BeadMassCenters\n",
      "\n",
      "def getBeads(picture,P,tau):\n",
      "    '''return all beads with >= P pixels'''\n",
      "    BLACK = (0,0,0)\n",
      "    RED = (255,0,0)\n",
      "    xstart = 0\n",
      "    ystart = 0\n",
      "    BlobFinder(picture, tau)\n",
      "    count,BlobMasses,BlobMassCenters,BeadMasses,BeadMassCenters = countBeads(picture,P)\n",
      "    return count,BlobMasses,BlobMassCenters,BeadMasses,BeadMassCenters\n",
      "    "
     ],
     "language": "python",
     "metadata": {},
     "outputs": [],
     "prompt_number": 13
    },
    {
     "cell_type": "heading",
     "level": 3,
     "metadata": {},
     "source": [
      "\n",
      "Particle tracking\n"
     ]
    },
    {
     "cell_type": "code",
     "collapsed": false,
     "input": [
      "#Create a sequence of pictures to track particles through\n",
      "picturesequence = []\n",
      "for n in range (0,200):\n",
      "    if n < 10:\n",
      "        picturesequence.append(\"frame0000%s.jpg\" % n)\n",
      "    if n < 100 and n >= 10:\n",
      "        picturesequence.append(\"frame000%s.jpg\" % n)\n",
      "    if n >= 100:\n",
      "        picturesequence.append(\"frame00%s.jpg\" % n)"
     ],
     "language": "python",
     "metadata": {},
     "outputs": [],
     "prompt_number": 14
    },
    {
     "cell_type": "code",
     "collapsed": false,
     "input": [
      "#Defining functions to track particles with\n",
      "def NearestBead(P,tau,dp,picture1,picture2):\n",
      "    \"\"\"Takes two pictures and returns the displacements between beads\"\"\"\n",
      "    a,b,c,d,centers1 = getBeads(picture1,P,tau)\n",
      "    a,b,c,d,centers2 = getBeads(picture2,P,tau)\n",
      "    displacement = []\n",
      "    for beads1 in centers1:\n",
      "        r = []\n",
      "        x1,y1 = beads1\n",
      "        x1 = float(x1)\n",
      "        y1 = float(y1)\n",
      "        for beads2 in centers2:\n",
      "            x2,y2 = beads2\n",
      "            x2 = float(x2)\n",
      "            y2 = float(y2)\n",
      "            r.append(((x2-x1)**2. + (y2-y1)**2.)**(1./2.))\n",
      "        if min(r) <= dp:\n",
      "            displacement.append(min(r))\n",
      "    return displacement\n",
      "\n",
      "def Tracking(P,tau,dp,picturesequence):\n",
      "    #Takes around five mins to run, added counts to see progress\n",
      "    \"\"\"Takes an integer P, a floating point value \u03c4, a floating point value \u0394p, and a sequence of images\n",
      "    and writes the displacements of the beads to a file\n",
      "    P is the mass(pixel) threshold, \u03c4 is the luminance threshold, \u0394p is the max distance a bead can move\"\"\"\n",
      "    Displacements = []\n",
      "    for x in range(0,199,1):\n",
      "        if x%10 == 0:\n",
      "            print x\n",
      "        picture2 = Image.open(picturesequence[x+1])\n",
      "        picture1 = Image.open(picturesequence[x])\n",
      "        Displacements = Displacements + (NearestBead(P,tau,dp,picture1,picture2))\n",
      "    Displacements = np.reshape(Displacements,(size(Displacements),1))\n",
      "    savetxt('output.dat', Displacements,'%5.4f')\n",
      "    "
     ],
     "language": "python",
     "metadata": {},
     "outputs": [],
     "prompt_number": 35
    },
    {
     "cell_type": "code",
     "collapsed": false,
     "input": [
      "#Writing data to a .dat file\n",
      "Displacements = Tracking(25,180,12,picturesequence)\n"
     ],
     "language": "python",
     "metadata": {},
     "outputs": [
      {
       "output_type": "stream",
       "stream": "stdout",
       "text": [
        "0\n",
        "10"
       ]
      },
      {
       "output_type": "stream",
       "stream": "stdout",
       "text": [
        "\n",
        "20"
       ]
      },
      {
       "output_type": "stream",
       "stream": "stdout",
       "text": [
        "\n",
        "30"
       ]
      },
      {
       "output_type": "stream",
       "stream": "stdout",
       "text": [
        "\n",
        "40"
       ]
      },
      {
       "output_type": "stream",
       "stream": "stdout",
       "text": [
        "\n",
        "50"
       ]
      },
      {
       "output_type": "stream",
       "stream": "stdout",
       "text": [
        "\n",
        "60"
       ]
      },
      {
       "output_type": "stream",
       "stream": "stdout",
       "text": [
        "\n",
        "70"
       ]
      },
      {
       "output_type": "stream",
       "stream": "stdout",
       "text": [
        "\n",
        "80"
       ]
      },
      {
       "output_type": "stream",
       "stream": "stdout",
       "text": [
        "\n",
        "90"
       ]
      },
      {
       "output_type": "stream",
       "stream": "stdout",
       "text": [
        "\n",
        "100"
       ]
      },
      {
       "output_type": "stream",
       "stream": "stdout",
       "text": [
        "\n",
        "110"
       ]
      },
      {
       "output_type": "stream",
       "stream": "stdout",
       "text": [
        "\n",
        "120"
       ]
      },
      {
       "output_type": "stream",
       "stream": "stdout",
       "text": [
        "\n",
        "130"
       ]
      },
      {
       "output_type": "stream",
       "stream": "stdout",
       "text": [
        "\n",
        "140"
       ]
      },
      {
       "output_type": "stream",
       "stream": "stdout",
       "text": [
        "\n",
        "150"
       ]
      },
      {
       "output_type": "stream",
       "stream": "stdout",
       "text": [
        "\n",
        "160"
       ]
      },
      {
       "output_type": "stream",
       "stream": "stdout",
       "text": [
        "\n",
        "170"
       ]
      },
      {
       "output_type": "stream",
       "stream": "stdout",
       "text": [
        "\n",
        "180"
       ]
      },
      {
       "output_type": "stream",
       "stream": "stdout",
       "text": [
        "\n",
        "190"
       ]
      },
      {
       "output_type": "stream",
       "stream": "stdout",
       "text": [
        "\n"
       ]
      }
     ],
     "prompt_number": 46
    },
    {
     "cell_type": "heading",
     "level": 2,
     "metadata": {},
     "source": [
      "\n",
      "Data analysis."
     ]
    },
    {
     "cell_type": "heading",
     "level": 3,
     "metadata": {},
     "source": [
      "Estimating the self-diffusion constant."
     ]
    },
    {
     "cell_type": "code",
     "collapsed": false,
     "input": [
      "#finding the variance sigma2\n",
      "def variance(File):\n",
      "    \"\"\"Reads a file of displacements and returns their variance\"\"\"\n",
      "    Data = np.loadtxt('output.dat')\n",
      "    r = Data*0.175e-6\n",
      "    r2 = r**2.\n",
      "    n = size(Data)\n",
      "    sigma2 = sum(r2) / (2.*n)\n",
      "    return sigma2"
     ],
     "language": "python",
     "metadata": {},
     "outputs": [],
     "prompt_number": 51
    },
    {
     "cell_type": "code",
     "collapsed": false,
     "input": [
      "#finding the self-diffusion constant, D\n",
      "#sigma2 = 2D(dt)\n",
      "#D = sigma2/2dt\n",
      "\n",
      "D = variance('output.dat')/(2.*0.5)\n",
      "\n",
      "print D"
     ],
     "language": "python",
     "metadata": {},
     "outputs": [
      {
       "output_type": "stream",
       "stream": "stdout",
       "text": [
        "4.76960800239e-13\n"
       ]
      }
     ],
     "prompt_number": 52
    },
    {
     "cell_type": "heading",
     "level": 3,
     "metadata": {},
     "source": [
      "Estimating the Boltzmann constant."
     ]
    },
    {
     "cell_type": "code",
     "collapsed": false,
     "input": [
      "#finding the Boltzmann constant, K\n",
      "#D = kT/(6pi*n*p)\n",
      "#k = (6pi*n*p*D)/T\n",
      "n = 9.135e-4\n",
      "T = 297.\n",
      "p = 0.5e-6\n",
      "k = 6.*pi*n*p*D/T\n",
      "print k"
     ],
     "language": "python",
     "metadata": {},
     "outputs": [
      {
       "output_type": "stream",
       "stream": "stdout",
       "text": [
        "1.38262981298e-23\n"
       ]
      }
     ],
     "prompt_number": 53
    },
    {
     "cell_type": "heading",
     "level": 3,
     "metadata": {},
     "source": [
      "Estimating Avogadro's number."
     ]
    },
    {
     "cell_type": "code",
     "collapsed": false,
     "input": [
      "#Finding Avogadro's number\n",
      "#k = R/N_a\n",
      "#N_a = R/k\n",
      "R = 8.31457\n",
      "Avogadro = R/k\n",
      "print 'Avogadro\\'s Number:', Avogadro\n",
      "print 'Relative Error:', (Avogadro - 6.0221413e23)/6.0221413e23"
     ],
     "language": "python",
     "metadata": {},
     "outputs": [
      {
       "output_type": "stream",
       "stream": "stdout",
       "text": [
        "Avogadro's Number: 6.0135908556e+23\n",
        "Relative Error: -0.00141983456872\n"
       ]
      }
     ],
     "prompt_number": 54
    },
    {
     "cell_type": "code",
     "collapsed": false,
     "input": [],
     "language": "python",
     "metadata": {},
     "outputs": [],
     "prompt_number": 165
    },
    {
     "cell_type": "code",
     "collapsed": false,
     "input": [],
     "language": "python",
     "metadata": {},
     "outputs": [],
     "prompt_number": 148
    },
    {
     "cell_type": "code",
     "collapsed": false,
     "input": [],
     "language": "python",
     "metadata": {},
     "outputs": []
    }
   ],
   "metadata": {}
  }
 ]
}