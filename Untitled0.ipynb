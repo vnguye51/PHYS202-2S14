{
 "metadata": {
  "name": "",
  "signature": "sha256:c3249f61808f48c4fd8ce0081dcc28e137394f60ad36bac1809d40516ad8e4fd"
 },
 "nbformat": 3,
 "nbformat_minor": 0,
 "worksheets": []
}