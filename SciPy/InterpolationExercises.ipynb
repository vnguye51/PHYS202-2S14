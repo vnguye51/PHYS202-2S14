{
 "metadata": {
  "name": "",
  "signature": "sha256:b78fbcbe84d0797c28b222f2c83eeda88fc46e9aa3de1a37484fdb563983e66c"
 },
 "nbformat": 3,
 "nbformat_minor": 0,
 "worksheets": [
  {
   "cells": [
    {
     "cell_type": "heading",
     "level": 1,
     "metadata": {},
     "source": [
      "Interpolation Exercises"
     ]
    },
    {
     "cell_type": "markdown",
     "metadata": {},
     "source": [
      "\n",
      "1. It is common to test functions where you know the answer they should give. Let's test the dipolePotential() function that we previously saved in Electrostatics.py to see that the function is zero along the bisector between the charges.\n",
      "First, set up a grid and evaluate the function."
     ]
    },
    {
     "cell_type": "code",
     "collapsed": false,
     "input": [
      "%pylab inline\n",
      "import numpy as np\n",
      "import matplotlib.pyplot as plt\n",
      "from scipy.interpolate import interp1d "
     ],
     "language": "python",
     "metadata": {},
     "outputs": [
      {
       "output_type": "stream",
       "stream": "stdout",
       "text": [
        "Populating the interactive namespace from numpy and matplotlib\n"
       ]
      }
     ],
     "prompt_number": 28
    },
    {
     "cell_type": "code",
     "collapsed": false,
     "input": [
      "Vdipole = 0\n",
      "from Electrostatics import *\n",
      "x,y = np.meshgrid(np.arange(-5,5.01,0.5),np.arange(-5,5.01,0.5))\n",
      "Vdipole = dipolePotential(x,y,1e-9,2.)\n",
      "plt.contour(x,y,Vdipole,cmap=cm.coolwarm)\n",
      "plt.show()"
     ],
     "language": "python",
     "metadata": {},
     "outputs": [
      {
       "metadata": {},
       "output_type": "display_data",
       "png": "[encoded data removed]",
       "text": [
        "<matplotlib.figure.Figure at 0x10624a5d0>"
       ]
      }
     ],
     "prompt_number": 22
    },
    {
     "cell_type": "markdown",
     "metadata": {},
     "source": [
      "(a) Use a boolean mask to locate the positions where y=0."
     ]
    },
    {
     "cell_type": "code",
     "collapsed": false,
     "input": [
      "data:image/png;base64,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mask = 0\n",
      "mask = (x == 0)\n",
      "print mask"
     ],
     "language": "python",
     "metadata": {},
     "outputs": [
      {
       "output_type": "stream",
       "stream": "stdout",
       "text": [
        "[[False False False False False False False False False False  True False\n",
        "  False False False False False False False False False]\n",
        " [False False False False False False False False False False  True False\n",
        "  False False False False False False False False False]\n",
        " [False False False False False False False False False False  True False\n",
        "  False False False False False False False False False]\n",
        " [False False False False False False False False False False  True False\n",
        "  False False False False False False False False False]\n",
        " [False False False False False False False False False False  True False\n",
        "  False False False False False False False False False]\n",
        " [False False False False False False False False False False  True False\n",
        "  False False False False False False False False False]\n",
        " [False False False False False False False False False False  True False\n",
        "  False False False False False False False False False]\n",
        " [False False False False False False False False False False  True False\n",
        "  False False False False False False False False False]\n",
        " [False False False False False False False False False False  True False\n",
        "  False False False False False False False False False]\n",
        " [False False False False False False False False False False  True False\n",
        "  False False False False False False False False False]\n",
        " [False False False False False False False False False False  True False\n",
        "  False False False False False False False False False]\n",
        " [False False False False False False False False False False  True False\n",
        "  False False False False False False False False False]\n",
        " [False False False False False False False False False False  True False\n",
        "  False False False False False False False False False]\n",
        " [False False False False False False False False False False  True False\n",
        "  False False False False False False False False False]\n",
        " [False False False False False False False False False False  True False\n",
        "  False False False False False False False False False]\n",
        " [False False False False False False False False False False  True False\n",
        "  False False False False False False False False False]\n",
        " [False False False False False False False False False False  True False\n",
        "  False False False False False False False False False]\n",
        " [False False False False False False False False False False  True False\n",
        "  False False False False False False False False False]\n",
        " [False False False False False False False False False False  True False\n",
        "  False False False False False False False False False]\n",
        " [False False False False False False False False False False  True False\n",
        "  False False False False False False False False False]\n",
        " [False False False False False False False False False False  True False\n",
        "  False False False False False False False False False]]\n"
       ]
      }
     ],
     "prompt_number": 23
    },
    {
     "cell_type": "markdown",
     "metadata": {},
     "source": [
      "(b) Check that $V_{dipole}$ for these locations is zero. i.e. print the value of $V_{dipole}$ for these locations using your mask from part (a)"
     ]
    },
    {
     "cell_type": "code",
     "collapsed": false,
     "input": [
      "Vdipole[mask]"
     ],
     "language": "python",
     "metadata": {},
     "outputs": [
      {
       "metadata": {},
       "output_type": "pyout",
       "prompt_number": 24,
       "text": [
        "array([ 0.,  0.,  0.,  0.,  0.,  0.,  0.,  0.,  0.,  0.,  0.,  0.,  0.,\n",
        "        0.,  0.,  0.,  0.,  0.,  0.,  0.,  0.])"
       ]
      }
     ],
     "prompt_number": 24
    },
    {
     "cell_type": "markdown",
     "metadata": {},
     "source": [
      "$2.$ Thermistors are electrical devices that measure temperature. They are made out of a material whose resistance changes very predictably with temperature. In the lab we measure the resistance of the thermistor and then compute the temperature from the engineering data that the manufacturer sends with the devices. The table below is data for a set of thermistors used in PHYS 340. The temperature values are in $^\u2218$C and the resistances in mega-Ohms, M\u03a9."
     ]
    },
    {
     "cell_type": "markdown",
     "metadata": {},
     "source": [
      "(a) Let's turn this look-up table into a continuous function. Write a reusable function Temp(Resistance) that takes any value of Resistance and returns the interpolated temperature. Be sure to include a docstring in your function."
     ]
    },
    {
     "cell_type": "code",
     "collapsed": false,
     "input": [
      "temp = np.arange(10,40,1)\n",
      "def Temp(Resistance):\n",
      "    \"\"\"Returns temperature as a function of resistance\"\"\"\n",
      "    \n",
      "    tempNew = interp1d(Resistance, temp)(resNew) \n",
      "    plt.plot(resNew,tempNew,color='blue',label=\"Interpolated\")\n",
      "    plt.legend(loc='upper left')\n",
      "    \n",
      "    plt.show()\n",
      "    \n",
      "\n",
      "    "
     ],
     "language": "python",
     "metadata": {},
     "outputs": [],
     "prompt_number": 50
    },
    {
     "cell_type": "code",
     "collapsed": false,
     "input": [
      "res = np.array([1.496,1.521,1.547,1.574,1.603,1.634,1.666,1.700,1.736,1.774,1.815,1.857,1.902,\n",
      "                          1.950,2.000,2.053,2.110,2.169,2.233,2.300,2.371,2.446,2.526,2.610,2.700,2.795,\n",
      "                          2.897,3.004,3.118,3.239])\n",
      "temp = np.arange(39,9,-1)\n",
      "\n",
      "resNew = np.arange(1.496,3.239,.0001)\n",
      "\n",
      "Temp(res)\n"
     ],
     "language": "python",
     "metadata": {},
     "outputs": [
      {
       "metadata": {},
       "output_type": "display_data",
       "png": "[encoded data removed]",
       "text": [
        "<matplotlib.figure.Figure at 0x1074723d0>"
       ]
      }
     ],
     "prompt_number": 52
    },
    {
     "cell_type": "code",
     "collapsed": false,
     "input": [],
     "language": "python",
     "metadata": {},
     "outputs": [],
     "prompt_number": 46
    },
    {
     "cell_type": "code",
     "collapsed": false,
     "input": [],
     "language": "python",
     "metadata": {},
     "outputs": []
    }
   ],
   "metadata": {}
  }
 ]
}