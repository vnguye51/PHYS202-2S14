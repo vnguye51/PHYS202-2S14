{
 "metadata": {
  "name": "",
  "signature": "sha256:9f3bc199762a34a630f65ae46678e92253dba9ac31ce417402f1efe13621fdd6"
 },
 "nbformat": 3,
 "nbformat_minor": 0,
 "worksheets": [
  {
   "cells": [
    {
     "cell_type": "heading",
     "level": 1,
     "metadata": {},
     "source": [
      "Interpolation Exercises"
     ]
    },
    {
     "cell_type": "markdown",
     "metadata": {},
     "source": [
      "\n",
      "1. It is common to test functions where you know the answer they should give. Let's test the dipolePotential() function that we previously saved in Electrostatics.py to see that the function is zero along the bisector between the charges.\n",
      "First, set up a grid and evaluate the function."
     ]
    },
    {
     "cell_type": "code",
     "collapsed": false,
     "input": [
      "%pylab inline\n",
      "import numpy as np\n",
      "import matplotlib.pyplot as plt\n",
      "from scipy.interpolate import interp1d "
     ],
     "language": "python",
     "metadata": {},
     "outputs": [
      {
       "output_type": "stream",
       "stream": "stdout",
       "text": [
        "Populating the interactive namespace from numpy and matplotlib\n"
       ]
      }
     ],
     "prompt_number": 28
    },
    {
     "cell_type": "code",
     "collapsed": false,
     "input": [
      "Vdipole = 0\n",
      "from Electrostatics import *\n",
      "x,y = np.meshgrid(np.arange(-5,5.01,0.5),np.arange(-5,5.01,0.5))\n",
      "Vdipole = dipolePotential(x,y,1e-9,2.)\n",
      "plt.contour(x,y,Vdipole,cmap=cm.coolwarm)\n",
      "plt.show()"
     ],
     "language": "python",
     "metadata": {},
     "outputs": [
      {
       "metadata": {},
       "output_type": "display_data",
       "png": "[encoded data removed]",
       "text": [
        "<matplotlib.figure.Figure at 0x10624a5d0>"
       ]
      }
     ],
     "prompt_number": 22
    },
    {
     "cell_type": "markdown",
     "metadata": {},
     "source": [
      "(a) Use a boolean mask to locate the positions where y=0."
     ]
    },
    {
     "cell_type": "code",
     "collapsed": false,
     "input": [
      "mask = (x == 0)\n",
      "print mask"
     ],
     "language": "python",
     "metadata": {},
     "outputs": [
      {
       "output_type": "stream",
       "stream": "stdout",
       "text": [
        "[[False False False False False False False False False False  True False\n",
        "  False False False False False False False False False]\n",
        " [False False False False False False False False False False  True False\n",
        "  False False False False False False False False False]\n",
        " [False False False False False False False False False False  True False\n",
        "  False False False False False False False False False]\n",
        " [False False False False False False False False False False  True False\n",
        "  False False False False False False False False False]\n",
        " [False False False False False False False False False False  True False\n",
        "  False False False False False False False False False]\n",
        " [False False False False False False False False False False  True False\n",
        "  False False False False False False False False False]\n",
        " [False False False False False False False False False False  True False\n",
        "  False False False False False False False False False]\n",
        " [False False False False False False False False False False  True False\n",
        "  False False False False False False False False False]\n",
        " [False False False False False False False False False False  True False\n",
        "  False False False False False False False False False]\n",
        " [False False False False False False False False False False  True False\n",
        "  False False False False False False False False False]\n",
        " [False False False False False False False False False False  True False\n",
        "  False False False False False False False False False]\n",
        " [False False False False False False False False False False  True False\n",
        "  False False False False False False False False False]\n",
        " [False False False False False False False False False False  True False\n",
        "  False False False False False False False False False]\n",
        " [False False False False False False False False False False  True False\n",
        "  False False False False False False False False False]\n",
        " [False False False False False False False False False False  True False\n",
        "  False False False False False False False False False]\n",
        " [False False False False False False False False False False  True False\n",
        "  False False False False False False False False False]\n",
        " [False False False False False False False False False False  True False\n",
        "  False False False False False False False False False]\n",
        " [False False False False False False False False False False  True False\n",
        "  False False False False False False False False False]\n",
        " [False False False False False False False False False False  True False\n",
        "  False False False False False False False False False]\n",
        " [False False False False False False False False False False  True False\n",
        "  False False False False False False False False False]\n",
        " [False False False False False False False False False False  True False\n",
        "  False False False False False False False False False]]\n"
       ]
      }
     ],
     "prompt_number": 10
    },
    {
     "cell_type": "markdown",
     "metadata": {},
     "source": [
      "(b) Check that $V_{dipole}$ for these locations is zero. i.e. print the value of $V_{dipole}$ for these locations using your mask from part (a)"
     ]
    },
    {
     "cell_type": "code",
     "collapsed": false,
     "input": [
      "Vdipole[mask]"
     ],
     "language": "python",
     "metadata": {},
     "outputs": [
      {
       "metadata": {},
       "output_type": "pyout",
       "prompt_number": 24,
       "text": [
        "array([ 0.,  0.,  0.,  0.,  0.,  0.,  0.,  0.,  0.,  0.,  0.,  0.,  0.,\n",
        "        0.,  0.,  0.,  0.,  0.,  0.,  0.,  0.])"
       ]
      }
     ],
     "prompt_number": 24
    },
    {
     "cell_type": "markdown",
     "metadata": {},
     "source": [
      "$2.$ Thermistors are electrical devices that measure temperature. They are made out of a material whose resistance changes very predictably with temperature. In the lab we measure the resistance of the thermistor and then compute the temperature from the engineering data that the manufacturer sends with the devices. The table below is data for a set of thermistors used in PHYS 340. The temperature values are in $^\u2218$C and the resistances in mega-Ohms, M\u03a9."
     ]
    },
    {
     "cell_type": "markdown",
     "metadata": {},
     "source": [
      "(a) Let's turn this look-up table into a continuous function. Write a reusable function Temp(Resistance) that takes any value of Resistance and returns the interpolated temperature. Be sure to include a docstring in your function."
     ]
    },
    {
     "cell_type": "code",
     "collapsed": false,
     "input": [
      "def Temp(Resistance):\n",
      "    \"\"\"Returns temperature as a function of resistance. Resistance must be between\n",
      "    1.496 and 3.239.\n",
      "    Will interpolate if values do not exist. Resistance values need to be\n",
      "    inputted from low to high.\"\"\"\n",
      "    \n",
      "    res = np.array([1.496,1.521,1.547,1.574,1.603,1.634,1.666,1.700,1.736,1.774,1.815,1.857,1.902,\n",
      "                          1.950,2.000,2.053,2.110,2.169,2.233,2.300,2.371,2.446,2.526,2.610,2.700,2.795,\n",
      "                          2.897,3.004,3.118,3.239])\n",
      "    temp = np.arange(39,9,-1)\n",
      "\n",
      "    resNew = np.arange(1.496,3.2391,.001)\n",
      "    tempNew = interp1d(res, temp)(resNew)\n",
      "    return tempNew[(Resistance - 1.4959)*1000]\n",
      "\n"
     ],
     "language": "python",
     "metadata": {},
     "outputs": [],
     "prompt_number": 163
    },
    {
     "cell_type": "markdown",
     "metadata": {},
     "source": [
      "\n",
      "\n",
      "(b) Show that the function returns expected values, including some from the table for a few specific input resistances.\n"
     ]
    },
    {
     "cell_type": "code",
     "collapsed": false,
     "input": [
      "print Temp(3.239)\n",
      "print Temp(3.118)\n",
      "print Temp(3.004)\n",
      "print Temp(2.897)\n",
      "print Temp(2.896)\n",
      "print Temp(2.012)\n",
      "print Temp(1.496)\n",
      "print Temp(1.75)\n",
      "print 'The function returns expected values'"
     ],
     "language": "python",
     "metadata": {},
     "outputs": [
      {
       "output_type": "stream",
       "stream": "stdout",
       "text": [
        "10.0\n",
        "11.0\n",
        "12.0\n",
        "13.0\n",
        "13.0098039216\n",
        "24.7735849057\n",
        "39.0\n",
        "30.6315789474\n",
        "The function returns expected values\n"
       ]
      }
     ],
     "prompt_number": 164
    },
    {
     "cell_type": "markdown",
     "metadata": {},
     "source": [
      "\n",
      "\n",
      "(c) Create a new array Resistance that spans the full range covered by the thermistor data and has reasonably fine sampling (number of elements). Plot the interpolated temperatures Temp(Resistance) as a function of Resistance. Include as an annotation on the plot the value of the temperature for a resistance of 1.75 M\u03a9.\n"
     ]
    },
    {
     "cell_type": "code",
     "collapsed": false,
     "input": [
      "def Temp(Resistance):    \n",
      "    res = np.array([1.496,1.521,1.547,1.574,1.603,1.634,1.666,1.700,1.736,1.774,1.815,1.857,1.902,\n",
      "                          1.950,2.000,2.053,2.110,2.169,2.233,2.300,2.371,2.446,2.526,2.610,2.700,2.795,\n",
      "                          2.897,3.004,3.118,3.239])\n",
      "    temp = np.arange(39,9,-1)\n",
      "    tempNew = interp1d(res, temp)(Resistance)\n",
      "    return tempNew\n"
     ],
     "language": "python",
     "metadata": {},
     "outputs": [],
     "prompt_number": 166
    },
    {
     "cell_type": "code",
     "collapsed": false,
     "input": [
      "Resistance = np.arange(1.496,3.2391,.001)\n",
      "Temperature = Temp(Resistance)\n",
      "\n",
      "plt.plot(Resistance,Temperature)\n",
      "plt.xlabel('Resistance',size=18)\n",
      "plt.ylabel('Temperature',size=18)\n",
      "plt.annotate('(1.75 M$\\Omega$,30.6$\\,^{\\circ}\\mathrm{C}$)',xy=(1.75,30.6),size = 13)\n",
      "plt.plot(1.75,30.6,'ro',ms = 10)\n",
      "print Temperature"
     ],
     "language": "python",
     "metadata": {},
     "outputs": [
      {
       "output_type": "stream",
       "stream": "stdout",
       "text": [
        "[ 39.          38.96        38.92       ...,  10.01652893  10.00826446  10.        ]\n"
       ]
      },
      {
       "metadata": {},
       "output_type": "display_data",
       "png": "[encoded data removed]",
       "text": [
        "<matplotlib.figure.Figure at 0x1037cd350>"
       ]
      }
     ],
     "prompt_number": 183
    },
    {
     "cell_type": "code",
     "collapsed": false,
     "input": [],
     "language": "python",
     "metadata": {},
     "outputs": []
    }
   ],
   "metadata": {}
  }
 ]
}