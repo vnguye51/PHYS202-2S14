{
 "metadata": {
  "name": "",
  "signature": "sha256:80571dccf80aa4b1ada75d5151416978a3fb6329e332058ce83872c82311fb2f"
 },
 "nbformat": 3,
 "nbformat_minor": 0,
 "worksheets": [
  {
   "cells": [
    {
     "cell_type": "heading",
     "level": 1,
     "metadata": {},
     "source": [
      "Monte Carlo Integration Exercises"
     ]
    },
    {
     "cell_type": "code",
     "collapsed": false,
     "input": [
      "%pylab inline\n",
      "import numpy as np\n",
      "import matplotlib.pyplot as plt\n",
      "from IPython.html.widgets import interact, interactive"
     ],
     "language": "python",
     "metadata": {},
     "outputs": [
      {
       "output_type": "stream",
       "stream": "stdout",
       "text": [
        "Populating the interactive namespace from numpy and matplotlib\n"
       ]
      }
     ],
     "prompt_number": 1
    },
    {
     "cell_type": "heading",
     "level": 3,
     "metadata": {},
     "source": [
      "Question 1"
     ]
    },
    {
     "cell_type": "markdown",
     "metadata": {},
     "source": [
      "\n",
      "\n",
      "Let\u2019s compute the electric potential from a plane of charge as shown in the figure using Monte Carlo integration.\n",
      "\n",
      "The integral comes from summing all the potentials from the chunks of \u201cpoint\u201d charges. Just as we summed two charges for a dipole, now we\u2019ll sum many charges. The important part is to understand how dQ, modeled as a point charge, is related to \u03c3dA, where \u03c3 is the surface charge density = charge/area (\u03c3=Q/A ) Review your notes from PHYS 133 if you need a refresher.\n",
      "\n",
      "We want to use our previously defined pointPotential() function from Electrostatics.py, so we have to import it.\n"
     ]
    },
    {
     "cell_type": "code",
     "collapsed": false,
     "input": [
      "#import our point potential function\n",
      "from Electrostatics import *"
     ],
     "language": "python",
     "metadata": {},
     "outputs": [],
     "prompt_number": 2
    },
    {
     "cell_type": "markdown",
     "metadata": {},
     "source": [
      "(a) Use the sample mean method to compute the potential at point P(2,3) due to the disk of charge for different numbers of samples $N=(10^1,10^2,10^3,10^4,10^5,10^6)$. Report the value and its statistical uncertainty for each sample size. How does the result depend on N?"
     ]
    },
    {
     "cell_type": "code",
     "collapsed": false,
     "input": [
      "help(pointPotential)"
     ],
     "language": "python",
     "metadata": {},
     "outputs": [
      {
       "output_type": "stream",
       "stream": "stdout",
       "text": [
        "Help on function pointPotential in module Electrostatics:\n",
        "\n",
        "pointPotential(x, y, q, Xc, Yc)\n",
        "    Return the electric potential for a \n",
        "    point charge q at (Xc,Yc)\n",
        "    \n",
        "    Units returend are [Volts] if input\n",
        "    units are [meters] and [Coulombs]\n",
        "\n"
       ]
      }
     ],
     "prompt_number": 3
    },
    {
     "cell_type": "code",
     "collapsed": false,
     "input": [
      "#Summing up all the point potentials:\n",
      "k = 9.e9\n",
      "sigma = 1.e-6\n",
      "def sampleMean(N,xmin=-1.,xmax=1.,ymin=0.,ymax=2.):\n",
      "    f = lambda x,y: pointPotential(2,3,sigma,x,y)\n",
      "    x = xmin+(xmax-xmin)*np.random.random_sample(N)\n",
      "    y = (ymax-ymin)*np.random.random_sample(N)\n",
      "    \n",
      "    approx = f(x,y)\n",
      "    I = (xmax-xmin)*(ymax-ymin)*approx.mean()\n",
      "    Iunc = (xmax-xmin)*(ymax-ymin)*np.sqrt(((approx**2.).mean()-(approx.mean())**2.)/N)\n",
      "    return I, Iunc"
     ],
     "language": "python",
     "metadata": {},
     "outputs": [],
     "prompt_number": 4
    },
    {
     "cell_type": "code",
     "collapsed": false,
     "input": [
      "for i in range (1,7,1):\n",
      "    print \"Number of Samples: %s\" % 10**i\n",
      "    print \"Electric Potential: %s V, Uncertainty: +/- %s\" % (sampleMean(10.**i))\n",
      "    print\n",
      "\n",
      "print 'The result becomes more accurate with higher N'\n",
      "                                                             "
     ],
     "language": "python",
     "metadata": {},
     "outputs": [
      {
       "output_type": "stream",
       "stream": "stdout",
       "text": [
        "Number of Samples: 10\n",
        "Electric Potential: 13018.6374685 V, Uncertainty: +/- 719.972829226\n",
        "\n",
        "Number of Samples: 100\n",
        "Electric Potential: 13376.5459515 V, Uncertainty: +/- 298.824806484\n",
        "\n",
        "Number of Samples: 1000\n",
        "Electric Potential: 12991.0987542 V, Uncertainty: +/- 93.4622473306\n",
        "\n",
        "Number of Samples: 10000\n",
        "Electric Potential: 13040.5928999 V, Uncertainty: +/- 29.5676667262\n",
        "\n",
        "Number of Samples: 100000\n",
        "Electric Potential: 13038.8582736 V, Uncertainty: +/- 9.42178571711\n",
        "\n",
        "Number of Samples: 1000000\n",
        "Electric Potential: 13028.1150058 V, Uncertainty: +/- 2.97334305868"
       ]
      },
      {
       "output_type": "stream",
       "stream": "stdout",
       "text": [
        "\n",
        "\n",
        "The result becomes more accurate with higher N\n"
       ]
      }
     ],
     "prompt_number": 5
    },
    {
     "cell_type": "markdown",
     "metadata": {},
     "source": [
      "(b) Now use the same method to compute the electric potential, V, at point P(2,3), from a disk centered on the origin with radius, R=1.2 m, and charge density, \u03c3 = 2 nC/m2 .\n",
      "\n",
      "The integral is\n",
      "\n",
      "$V=\\int_0^{2\\pi}\\int_0^{1.2}\\frac{K\\sigma}{|r\u2212r0|}rd\\theta dr$"
     ]
    },
    {
     "cell_type": "code",
     "collapsed": false,
     "input": [
      "sigma = 2.e-9\n",
      "def sampleMean(N,thetamin=0.,thetamax=2.*pi,rmin=0.,rmax=1.2):\n",
      "    f = lambda theta,r: (k*sigma)*r/abs(r-(13.**(1./2.)))\n",
      "    theta = (thetamax-thetamin)*np.random.random_sample(N)\n",
      "    r = (rmax-rmin)*np.random.random_sample(N)\n",
      "    \n",
      "    approx = f(theta,r)\n",
      "    I = (thetamax-thetamin)*(rmax-rmin)*approx.mean()\n",
      "    Iunc = (thetamax-thetamin)*(rmax-rmin)*np.sqrt(((approx**2.).mean()-(approx.mean())**2.)/N)\n",
      "    return I, Iunc"
     ],
     "language": "python",
     "metadata": {},
     "outputs": [],
     "prompt_number": 6
    },
    {
     "cell_type": "code",
     "collapsed": false,
     "input": [
      "for i in range (1,7,1):\n",
      "    print \"Number of Samples: %s\" % 10**i\n",
      "    print \"Electric Potential: %s V, Uncertainty: +/- %s\" % (sampleMean(10.**i))\n",
      "    print\n",
      "\n",
      "print 'The result becomes more accurate with higher N'\n",
      "                                                          "
     ],
     "language": "python",
     "metadata": {},
     "outputs": [
      {
       "output_type": "stream",
       "stream": "stdout",
       "text": [
        "Number of Samples: 10\n",
        "Electric Potential: 37.1294634402 V, Uncertainty: +/- 7.27957593145\n",
        "\n",
        "Number of Samples: 100\n",
        "Electric Potential: 28.4940185446 V, Uncertainty: +/- 1.94654932298\n",
        "\n",
        "Number of Samples: 1000\n",
        "Electric Potential: 29.324619372 V, Uncertainty: +/- 0.609434391882\n",
        "\n",
        "Number of Samples: 10000\n",
        "Electric Potential: 29.2779161895 V, Uncertainty: +/- 0.192712808735\n",
        "\n",
        "Number of Samples: 100000\n",
        "Electric Potential: 29.2562487224 V, Uncertainty: +/- 0.0610582204492\n",
        "\n",
        "Number of Samples: 1000000\n",
        "Electric Potential: 29.3085999258 V, Uncertainty: +/- 0.0193348196054"
       ]
      },
      {
       "output_type": "stream",
       "stream": "stdout",
       "text": [
        "\n",
        "\n",
        "The result becomes more accurate with higher N\n"
       ]
      }
     ],
     "prompt_number": 7
    },
    {
     "cell_type": "heading",
     "level": 3,
     "metadata": {},
     "source": [
      "Question 2\n"
     ]
    },
    {
     "cell_type": "markdown",
     "metadata": {},
     "source": [
      "Use the sample mean method to compute the volume of a sphere with radius 1 using spherical coordinates:\n",
      "\n",
      "$V=\\int_0^1\\int_0^\u03c0\\int_0^{2\u03c0}r^2sin(\u03b8)drd\u03b8d\u03d5$\n",
      "\n",
      "for $N = (10^1,10^2,10^3,10^4,10^5,10^6)$. Report the value and statistical uncertainty for each sample size. How does the result depend on N?"
     ]
    },
    {
     "cell_type": "code",
     "collapsed": false,
     "input": [
      "def sampleMean(N,thetamin=0.,thetamax=pi,rmin=0.,rmax=1.,phimin = 0.,phimax = 2.*pi):\n",
      "    f = lambda theta,r,phi: r**2 * sin(theta) \n",
      "    theta = (thetamax-thetamin)*np.random.random_sample(N)\n",
      "    r = (rmax-rmin)*np.random.random_sample(N)\n",
      "    phi = (phimax-phimin)*np.random.random_sample(N)\n",
      "    \n",
      "    approx = f(theta,r,phi)\n",
      "    I = (thetamax-thetamin)*(rmax-rmin)*(phimax-phimin)*approx.mean()\n",
      "    Iunc = (thetamax-thetamin)*(rmax-rmin)*(phimax-phimin)*np.sqrt(((approx**2.).mean()-(approx.mean())**2.)/N)\n",
      "    return I, Iunc"
     ],
     "language": "python",
     "metadata": {},
     "outputs": [],
     "prompt_number": 8
    },
    {
     "cell_type": "code",
     "collapsed": false,
     "input": [
      "for i in range (1,7,1):\n",
      "    print \"Number of Samples: %s\" % 10**i\n",
      "    print \"Volume: %s , Uncertainty: +/- %s\" % (sampleMean(10.**i))\n",
      "    print\n",
      "\n",
      "print 'The result becomes more accurate with higher N'\n",
      "                                                          "
     ],
     "language": "python",
     "metadata": {},
     "outputs": [
      {
       "output_type": "stream",
       "stream": "stdout",
       "text": [
        "Number of Samples: 10\n",
        "Volume: 3.70143187548 , Uncertainty: +/- 1.28173874505\n",
        "\n",
        "Number of Samples: 100\n",
        "Volume: 4.7596106533 , Uncertainty: +/- 0.490958221597\n",
        "\n",
        "Number of Samples: 1000\n",
        "Volume: 4.19908726564 , Uncertainty: +/- 0.150779359189\n",
        "\n",
        "Number of Samples: 10000\n",
        "Volume: 4.13824079028 , Uncertainty: +/- 0.0462707742811\n",
        "\n",
        "Number of Samples: 100000\n",
        "Volume: 4.18221709843 , Uncertainty: +/- 0.0146455500842\n",
        "\n",
        "Number of Samples: 1000000\n",
        "Volume: 4.19400989584 , Uncertainty: +/- 0.00462755236369"
       ]
      },
      {
       "output_type": "stream",
       "stream": "stdout",
       "text": [
        "\n",
        "\n",
        "The result becomes more accurate with higher N\n"
       ]
      }
     ],
     "prompt_number": 9
    },
    {
     "cell_type": "heading",
     "level": 3,
     "metadata": {},
     "source": [
      "Question 3"
     ]
    },
    {
     "cell_type": "markdown",
     "metadata": {},
     "source": [
      "(a) Use the hit or miss Monte Carlo method to estimate the integral of $f(x)=4(1\u2212x^2)^{1/2}$ in the interval 0\u2264x\u22641 as a function of N, the number of samples. Let N range from $10^1$ to $10^6$ and use at least 100 different values for N.\n",
      "\n",
      "(np.logspace might be useful here to get evenly spaced values for N.)\n"
     ]
    },
    {
     "cell_type": "code",
     "collapsed": false,
     "input": [
      "def hitOrMiss(N,xmin=0.,xmax=1.):\n",
      "    f = lambda x: 4.*((1.-x**2.)**(1./2.)) \n",
      "\n",
      "    x = np.arange(0.,1.5,0.001)\n",
      "\n",
      "    subx = x[logical_and((x > xmin),(x < xmax))]\n",
      "    ymax = f(subx).max()*1.05\n",
      "    ymin = 0.\n",
      "\n",
      "    samples_x = xmin + (xmax-xmin)*np.random.random_sample(N)\n",
      "    samples_y = ymin + (ymax-ymin)*np.random.random_sample(N)\n",
      "\n",
      "    newmask = (samples_y < f(samples_x))\n",
      "    I = (xmax-xmin)*(ymax-ymin)*newmask.sum()/newmask.size\n",
      "    return I\n"
     ],
     "language": "python",
     "metadata": {},
     "outputs": [],
     "prompt_number": 10
    },
    {
     "cell_type": "code",
     "collapsed": false,
     "input": [
      "print \"Number of Samples: 10\", \"Result: %s\" % (hitOrMiss(10))\n",
      "for i in range (10000,10**6,10**4):\n",
      "    print \"Number of Samples: %s\" % i, \"Result: %s\" % (hitOrMiss(i))\n",
      "                                      "
     ],
     "language": "python",
     "metadata": {},
     "outputs": [
      {
       "output_type": "stream",
       "stream": "stdout",
       "text": [
        "Number of Samples: 10 Result: 2.09999895\n",
        "Number of Samples: 10000 Result: 3.12185843907\n",
        "Number of Samples: 20000 Result: 3.15755842122\n",
        "Number of Samples: 30000 Result: 3.13809843095\n",
        "Number of Samples: 40000 Result: 3.15335842332\n",
        "Number of Samples: 50000 Result: 3.13798643101\n",
        "Number of Samples: 60000 Result: 3.14943842528\n",
        "Number of Samples: 70000 Result: 3.14471842764\n",
        "Number of Samples: 80000 Result: 3.14375092812\n",
        "Number of Samples: 90000 Result: 3.13898509717\n",
        "Number of Samples: 100000 Result: 3.13382843308\n",
        "Number of Samples: 110000 Result: 3.14377479175\n",
        "Number of Samples: 120000 "
       ]
      },
      {
       "output_type": "stream",
       "stream": "stdout",
       "text": [
        "Result: 3.14621842689\n",
        "Number of Samples: 130000 Result: 3.13872304602\n",
        "Number of Samples: 140000 Result: 3.14336842831\n",
        "Number of Samples: 150000 Result: 3.1426064287\n",
        "Number of Samples: 160000 Result: 3.13752968123\n",
        "Number of Samples: 170000 Result: 3.14182078203\n",
        "Number of Samples: 180000 "
       ]
      },
      {
       "output_type": "stream",
       "stream": "stdout",
       "text": [
        "Result: 3.14474842762\n",
        "Number of Samples: 190000 Result: 3.14091316638\n",
        "Number of Samples: 200000 Result: 3.13706243147\n",
        "Number of Samples: 210000 Result: 3.13915843042\n",
        "Number of Samples: 220000 "
       ]
      },
      {
       "output_type": "stream",
       "stream": "stdout",
       "text": [
        "Result: 3.14196115629\n",
        "Number of Samples: 230000 Result: 3.13869495239\n",
        "Number of Samples: 240000 Result: 3.14072342964\n",
        "Number of Samples: 250000 "
       ]
      },
      {
       "output_type": "stream",
       "stream": "stdout",
       "text": [
        "Result: 3.1457984271\n",
        "Number of Samples: 260000 Result: 3.14214765969\n",
        "Number of Samples: 270000 Result: 3.1437139837\n",
        "Number of Samples: 280000 "
       ]
      },
      {
       "output_type": "stream",
       "stream": "stdout",
       "text": [
        "Result: 3.14386342807\n",
        "Number of Samples: 290000 Result: 3.14006325755\n",
        "Number of Samples: 300000 Result: 3.1448044276\n",
        "Number of Samples: 310000 "
       ]
      },
      {
       "output_type": "stream",
       "stream": "stdout",
       "text": [
        "Result: 3.14486358886\n",
        "Number of Samples: 320000 Result: 3.14056155472\n",
        "Number of Samples: 330000 Result: 3.1486366075\n",
        "Number of Samples: 340000 "
       ]
      },
      {
       "output_type": "stream",
       "stream": "stdout",
       "text": [
        "Result: 3.13910313633\n",
        "Number of Samples: 350000 Result: 3.13946243027\n",
        "Number of Samples: 360000 "
       ]
      },
      {
       "output_type": "stream",
       "stream": "stdout",
       "text": [
        "Result: 3.13842509745\n",
        "Number of Samples: 370000 Result: 3.1469903184\n",
        "Number of Samples: 380000 "
       ]
      },
      {
       "output_type": "stream",
       "stream": "stdout",
       "text": [
        "Result: 3.1373542208\n",
        "Number of Samples: 390000 Result: 3.13691381616\n",
        "Number of Samples: 400000 "
       ]
      },
      {
       "output_type": "stream",
       "stream": "stdout",
       "text": [
        "Result: 3.14090542955\n",
        "Number of Samples: 410000 Result: 3.13986721055\n",
        "Number of Samples: 420000 "
       ]
      },
      {
       "output_type": "stream",
       "stream": "stdout",
       "text": [
        "Result: 3.14771842614\n",
        "Number of Samples: 430000 Result: 3.14038726701\n",
        "Number of Samples: 440000 "
       ]
      },
      {
       "output_type": "stream",
       "stream": "stdout",
       "text": [
        "Result: 3.13992797549\n",
        "Number of Samples: 450000 Result: 3.14118776274\n",
        "Number of Samples: 460000 "
       ]
      },
      {
       "output_type": "stream",
       "stream": "stdout",
       "text": [
        "Result: 3.14246582007\n",
        "Number of Samples: 470000 Result: 3.14450268307\n",
        "Number of Samples: 480000 "
       ]
      },
      {
       "output_type": "stream",
       "stream": "stdout",
       "text": [
        "Result: 3.14025092987\n",
        "Number of Samples: 490000 Result: 3.14218128605\n",
        "Number of Samples: 500000 "
       ]
      },
      {
       "output_type": "stream",
       "stream": "stdout",
       "text": [
        "Result: 3.14331202834\n",
        "Number of Samples: 510000 Result: 3.14188666435\n",
        "Number of Samples: 520000 "
       ]
      },
      {
       "output_type": "stream",
       "stream": "stdout",
       "text": [
        "Result: 3.13722073908\n",
        "Number of Samples: 530000 Result: 3.14469691822\n",
        "Number of Samples: 540000 "
       ]
      },
      {
       "output_type": "stream",
       "stream": "stdout",
       "text": [
        "Result: 3.14466287211\n",
        "Number of Samples: 550000 Result: 3.14119370213\n",
        "Number of Samples: 560000 "
       ]
      },
      {
       "output_type": "stream",
       "stream": "stdout",
       "text": [
        "Result: 3.13922093039\n",
        "Number of Samples: 570000 Result: 3.14145106085\n",
        "Number of Samples: 580000 "
       ]
      },
      {
       "output_type": "stream",
       "stream": "stdout",
       "text": [
        "Result: 3.1416273947\n",
        "Number of Samples: 590000 Result: 3.14370554679\n",
        "Number of Samples: 600000 "
       ]
      },
      {
       "output_type": "stream",
       "stream": "stdout",
       "text": [
        "Result: 3.1455884272\n",
        "Number of Samples: 610000 Result: 3.14434564094\n",
        "Number of Samples: 620000 "
       ]
      },
      {
       "output_type": "stream",
       "stream": "stdout",
       "text": [
        "Result: 3.14337326702\n",
        "Number of Samples: 630000 Result: 3.13921843039\n",
        "Number of Samples: 640000 "
       ]
      },
      {
       "output_type": "stream",
       "stream": "stdout",
       "text": [
        "Result: 3.13903905548\n",
        "Number of Samples: 650000 Result: 3.13741781591\n",
        "Number of Samples: 660000 "
       ]
      },
      {
       "output_type": "stream",
       "stream": "stdout",
       "text": [
        "Result: 3.14349479189\n",
        "Number of Samples: 670000 "
       ]
      },
      {
       "output_type": "stream",
       "stream": "stdout",
       "text": [
        "Result: 3.14330350297\n",
        "Number of Samples: 680000 "
       ]
      },
      {
       "output_type": "stream",
       "stream": "stdout",
       "text": [
        "Result: 3.14487813344\n",
        "Number of Samples: 690000 "
       ]
      },
      {
       "output_type": "stream",
       "stream": "stdout",
       "text": [
        "Result: 3.14373494987\n",
        "Number of Samples: 700000 Result: 3.14247442876\n",
        "Number of Samples: 710000 "
       ]
      },
      {
       "output_type": "stream",
       "stream": "stdout",
       "text": [
        "Result: 3.14078800707\n",
        "Number of Samples: 720000 "
       ]
      },
      {
       "output_type": "stream",
       "stream": "stdout",
       "text": [
        "Result: 3.1421350956\n",
        "Number of Samples: 730000 Result: 3.14036719694\n",
        "Number of Samples: 740000 "
       ]
      },
      {
       "output_type": "stream",
       "stream": "stdout",
       "text": [
        "Result: 3.14317626625\n",
        "Number of Samples: 750000 "
       ]
      },
      {
       "output_type": "stream",
       "stream": "stdout",
       "text": [
        "Result: 3.1381992309\n",
        "Number of Samples: 760000 "
       ]
      },
      {
       "output_type": "stream",
       "stream": "stdout",
       "text": [
        "Result: 3.14264290236\n",
        "Number of Samples: 770000 "
       ]
      },
      {
       "output_type": "stream",
       "stream": "stdout",
       "text": [
        "Result: 3.13899661232\n",
        "Number of Samples: 780000 "
       ]
      },
      {
       "output_type": "stream",
       "stream": "stdout",
       "text": [
        "Result: 3.14252458258\n",
        "Number of Samples: 790000 "
       ]
      },
      {
       "output_type": "stream",
       "stream": "stdout",
       "text": [
        "Result: 3.14322526383\n",
        "Number of Samples: 800000 "
       ]
      },
      {
       "output_type": "stream",
       "stream": "stdout",
       "text": [
        "Result: 3.1393934303\n",
        "Number of Samples: 810000 "
       ]
      },
      {
       "output_type": "stream",
       "stream": "stdout",
       "text": [
        "Result: 3.14239694732\n",
        "Number of Samples: 820000 "
       ]
      },
      {
       "output_type": "stream",
       "stream": "stdout",
       "text": [
        "Result: 3.14148574633\n",
        "Number of Samples: 830000 "
       ]
      },
      {
       "output_type": "stream",
       "stream": "stdout",
       "text": [
        "Result: 3.14273192261\n",
        "Number of Samples: 840000 "
       ]
      },
      {
       "output_type": "stream",
       "stream": "stdout",
       "text": [
        "Result: 3.14212842893\n",
        "Number of Samples: 850000 "
       ]
      },
      {
       "output_type": "stream",
       "stream": "stdout",
       "text": [
        "Result: 3.14282878153\n",
        "Number of Samples: 860000 "
       ]
      },
      {
       "output_type": "stream",
       "stream": "stdout",
       "text": [
        "Result: 3.1390881979\n",
        "Number of Samples: 870000 "
       ]
      },
      {
       "output_type": "stream",
       "stream": "stdout",
       "text": [
        "Result: 3.14147291202\n",
        "Number of Samples: 880000 "
       ]
      },
      {
       "output_type": "stream",
       "stream": "stdout",
       "text": [
        "Result: 3.14165092917\n",
        "Number of Samples: 890000 "
       ]
      },
      {
       "output_type": "stream",
       "stream": "stdout",
       "text": [
        "Result: 3.14182966504\n",
        "Number of Samples: 900000 "
       ]
      },
      {
       "output_type": "stream",
       "stream": "stdout",
       "text": [
        "Result: 3.14300309516\n",
        "Number of Samples: 910000 "
       ]
      },
      {
       "output_type": "stream",
       "stream": "stdout",
       "text": [
        "Result: 3.14054150665\n",
        "Number of Samples: 920000 "
       ]
      },
      {
       "output_type": "stream",
       "stream": "stdout",
       "text": [
        "Result: 3.13936603901\n",
        "Number of Samples: 930000 "
       ]
      },
      {
       "output_type": "stream",
       "stream": "stdout",
       "text": [
        "Result: 3.14143584864\n",
        "Number of Samples: 940000 "
       ]
      },
      {
       "output_type": "stream",
       "stream": "stdout",
       "text": [
        "Result: 3.14223736505\n",
        "Number of Samples: 950000 "
       ]
      },
      {
       "output_type": "stream",
       "stream": "stdout",
       "text": [
        "Result: 3.14072306122\n",
        "Number of Samples: 960000 "
       ]
      },
      {
       "output_type": "stream",
       "stream": "stdout",
       "text": [
        "Result: 3.14487092756\n",
        "Number of Samples: 970000 "
       ]
      },
      {
       "output_type": "stream",
       "stream": "stdout",
       "text": [
        "Result: 3.14462069573\n",
        "Number of Samples: 980000 "
       ]
      },
      {
       "output_type": "stream",
       "stream": "stdout",
       "text": [
        "Result: 3.14400699942\n",
        "Number of Samples: 990000 "
       ]
      },
      {
       "output_type": "stream",
       "stream": "stdout",
       "text": [
        "Result: 3.14110206581\n"
       ]
      }
     ],
     "prompt_number": 11
    },
    {
     "cell_type": "markdown",
     "metadata": {},
     "source": [
      "(b) Calculate the percent error for the N values from part (a) using the exact result \u03c0. Make a log-log plot of the error as a function of N.\n",
      "\n",
      "What is the approximate functional dependence of the error on N for large N, for example $N\u226510^4$?\n"
     ]
    },
    {
     "cell_type": "code",
     "collapsed": false,
     "input": [
      "N = []\n",
      "Error = []\n",
      "print \"Number of Samples: 10\", \"Percent Error: %s\" % (hitOrMiss(10))\n",
      "for i in range (10000,10**6,10**4):\n",
      "    print \"Number of Samples: %s\" % i, \"Percent Error: %s\" % ((abs((hitOrMiss(i) - pi)/pi))*100)\n",
      "    N.append(i)\n",
      "    Error.append(abs((hitOrMiss(i) - pi)/pi))"
     ],
     "language": "python",
     "metadata": {},
     "outputs": [
      {
       "output_type": "stream",
       "stream": "stdout",
       "text": [
        "Number of Samples: 10 Percent Error: 2.93999853\n",
        "Number of Samples: 10000 Percent Error: 0.28093302261\n",
        "Number of Samples: 20000 Percent Error: 0.340725874278\n",
        "Number of Samples: 30000 Percent Error: 0.561682201849\n",
        "Number of Samples: 40000 Percent Error: 0.0402908689759\n",
        "Number of Samples: 50000 Percent Error: 0.138853845396\n",
        "Number of Samples: 60000 Percent Error: 0.00909651572708\n",
        "Number of Samples: 70000 Percent Error: 0.0250120020785\n",
        "Number of Samples: 80000"
       ]
      },
      {
       "output_type": "stream",
       "stream": "stdout",
       "text": [
        " Percent Error: 0.168599889387\n",
        "Number of Samples: 90000 Percent Error: 0.0473504091994\n",
        "Number of Samples: 100000 Percent Error: 0.162918060759\n",
        "Number of Samples: 110000 Percent Error: 0.205212742307\n",
        "Number of Samples: 120000 Percent Error: 0.506724396923\n",
        "Number of Samples: 130000"
       ]
      },
      {
       "output_type": "stream",
       "stream": "stdout",
       "text": [
        " Percent Error: 0.146875250517\n",
        "Number of Samples: 140000 Percent Error: 0.0771654202977\n",
        "Number of Samples: 150000 Percent Error: 0.00694629451517\n",
        "Number of Samples: 160000 "
       ]
      },
      {
       "output_type": "stream",
       "stream": "stdout",
       "text": [
        "Percent Error: 0.0382520561685\n",
        "Number of Samples: 170000 Percent Error: 0.210942330867\n",
        "Number of Samples: 180000 Percent Error: 0.218176629371\n",
        "Number of Samples: 190000"
       ]
      },
      {
       "output_type": "stream",
       "stream": "stdout",
       "text": [
        " Percent Error: 0.158501049708\n",
        "Number of Samples: 200000 Percent Error: 0.0198696694325\n",
        "Number of Samples: 210000 Percent Error: 0.109951322182\n",
        "Number of Samples: 220000"
       ]
      },
      {
       "output_type": "stream",
       "stream": "stdout",
       "text": [
        " Percent Error: 0.221987848614\n",
        "Number of Samples: 230000 Percent Error: 0.0858428202476\n",
        "Number of Samples: 240000 "
       ]
      },
      {
       "output_type": "stream",
       "stream": "stdout",
       "text": [
        "Percent Error: 0.0837401467153\n",
        "Number of Samples: 250000 Percent Error: 0.193232326619\n",
        "Number of Samples: 260000 "
       ]
      },
      {
       "output_type": "stream",
       "stream": "stdout",
       "text": [
        "Percent Error: 0.0471218791389\n",
        "Number of Samples: 270000 Percent Error: 0.00179675048679\n",
        "Number of Samples: 280000 "
       ]
      },
      {
       "output_type": "stream",
       "stream": "stdout",
       "text": [
        "Percent Error: 0.108200618683\n",
        "Number of Samples: 290000 Percent Error: 0.0997599069429\n",
        "Number of Samples: 300000"
       ]
      },
      {
       "output_type": "stream",
       "stream": "stdout",
       "text": [
        " Percent Error: 0.239934729768\n",
        "Number of Samples: 310000 Percent Error: 0.185257242763\n",
        "Number of Samples: 320000"
       ]
      },
      {
       "output_type": "stream",
       "stream": "stdout",
       "text": [
        " Percent Error: 0.085829054299\n",
        "Number of Samples: 330000 Percent Error: 0.0321884395606\n",
        "Number of Samples: 340000"
       ]
      },
      {
       "output_type": "stream",
       "stream": "stdout",
       "text": [
        " Percent Error: 0.0289134105005\n",
        "Number of Samples: 350000 Percent Error: 0.00172601499189\n",
        "Number of Samples: 360000"
       ]
      },
      {
       "output_type": "stream",
       "stream": "stdout",
       "text": [
        " Percent Error: 0.0206123921289\n",
        "Number of Samples: 370000 Percent Error: 0.078946234176\n",
        "Number of Samples: 380000"
       ]
      },
      {
       "output_type": "stream",
       "stream": "stdout",
       "text": [
        " Percent Error: 0.135984824807\n",
        "Number of Samples: 390000 "
       ]
      },
      {
       "output_type": "stream",
       "stream": "stdout",
       "text": [
        "Percent Error: 0.0320388951505\n",
        "Number of Samples: 400000 "
       ]
      },
      {
       "output_type": "stream",
       "stream": "stdout",
       "text": [
        "Percent Error: 0.159575808625\n",
        "Number of Samples: 410000 "
       ]
      },
      {
       "output_type": "stream",
       "stream": "stdout",
       "text": [
        "Percent Error: 0.0989424638176\n",
        "Number of Samples: 420000 "
       ]
      },
      {
       "output_type": "stream",
       "stream": "stdout",
       "text": [
        "Percent Error: 0.115411964555\n",
        "Number of Samples: 430000 "
       ]
      },
      {
       "output_type": "stream",
       "stream": "stdout",
       "text": [
        "Percent Error: 0.00578017252455\n",
        "Number of Samples: 440000 "
       ]
      },
      {
       "output_type": "stream",
       "stream": "stdout",
       "text": [
        "Percent Error: 0.0217565616885\n",
        "Number of Samples: 450000 "
       ]
      },
      {
       "output_type": "stream",
       "stream": "stdout",
       "text": [
        "Percent Error: 0.0135528519055\n",
        "Number of Samples: 460000 "
       ]
      },
      {
       "output_type": "stream",
       "stream": "stdout",
       "text": [
        "Percent Error: 0.0152195795073\n",
        "Number of Samples: 470000 "
       ]
      },
      {
       "output_type": "stream",
       "stream": "stdout",
       "text": [
        "Percent Error: 0.0283440953913\n",
        "Number of Samples: 480000 "
       ]
      },
      {
       "output_type": "stream",
       "stream": "stdout",
       "text": [
        "Percent Error: 0.023858129318\n",
        "Number of Samples: 490000 "
       ]
      },
      {
       "output_type": "stream",
       "stream": "stdout",
       "text": [
        "Percent Error: 0.0012751910058\n",
        "Number of Samples: 500000 "
       ]
      },
      {
       "output_type": "stream",
       "stream": "stdout",
       "text": [
        "Percent Error: 0.0110461237993\n",
        "Number of Samples: 510000 "
       ]
      },
      {
       "output_type": "stream",
       "stream": "stdout",
       "text": [
        "Percent Error: 0.108184461341\n",
        "Number of Samples: 520000 "
       ]
      },
      {
       "output_type": "stream",
       "stream": "stdout",
       "text": [
        "Percent Error: 0.0319531963778\n",
        "Number of Samples: 530000 "
       ]
      },
      {
       "output_type": "stream",
       "stream": "stdout",
       "text": [
        "Percent Error: 0.0539121229552\n",
        "Number of Samples: 540000 "
       ]
      },
      {
       "output_type": "stream",
       "stream": "stdout",
       "text": [
        "Percent Error: 0.01145214554\n",
        "Number of Samples: 550000 "
       ]
      },
      {
       "output_type": "stream",
       "stream": "stdout",
       "text": [
        "Percent Error: 0.0258249550528\n",
        "Number of Samples: 560000 "
       ]
      },
      {
       "output_type": "stream",
       "stream": "stdout",
       "text": [
        "Percent Error: 0.153559754785\n",
        "Number of Samples: 570000 "
       ]
      },
      {
       "output_type": "stream",
       "stream": "stdout",
       "text": [
        "Percent Error: 0.0776847677471\n",
        "Number of Samples: 580000 "
       ]
      },
      {
       "output_type": "stream",
       "stream": "stdout",
       "text": [
        "Percent Error: 0.0353131792922\n",
        "Number of Samples: 590000 "
       ]
      },
      {
       "output_type": "stream",
       "stream": "stdout",
       "text": [
        "Percent Error: 0.0927194362812\n",
        "Number of Samples: 600000 "
       ]
      },
      {
       "output_type": "stream",
       "stream": "stdout",
       "text": [
        "Percent Error: 0.124593569625\n",
        "Number of Samples: 610000 "
       ]
      },
      {
       "output_type": "stream",
       "stream": "stdout",
       "text": [
        "Percent Error: 0.142272804956\n",
        "Number of Samples: 620000 "
       ]
      },
      {
       "output_type": "stream",
       "stream": "stdout",
       "text": [
        "Percent Error: 0.112374583329\n",
        "Number of Samples: 630000 "
       ]
      },
      {
       "output_type": "stream",
       "stream": "stdout",
       "text": [
        "Percent Error: 0.0231021437163\n",
        "Number of Samples: 640000 "
       ]
      },
      {
       "output_type": "stream",
       "stream": "stdout",
       "text": [
        "Percent Error: 0.0206551376898\n",
        "Number of Samples: 650000 "
       ]
      },
      {
       "output_type": "stream",
       "stream": "stdout",
       "text": [
        "Percent Error: 0.0258934751688\n",
        "Number of Samples: 660000 "
       ]
      },
      {
       "output_type": "stream",
       "stream": "stdout",
       "text": [
        "Percent Error: 0.113250168444\n",
        "Number of Samples: 670000 "
       ]
      },
      {
       "output_type": "stream",
       "stream": "stdout",
       "text": [
        "Percent Error: 0.0251260234733\n",
        "Number of Samples: 680000 "
       ]
      },
      {
       "output_type": "stream",
       "stream": "stdout",
       "text": [
        "Percent Error: 0.101827628851\n",
        "Number of Samples: 690000"
       ]
      },
      {
       "output_type": "stream",
       "stream": "stdout",
       "text": [
        " Percent Error: 0.0523234220361\n",
        "Number of Samples: 700000 "
       ]
      },
      {
       "output_type": "stream",
       "stream": "stdout",
       "text": [
        "Percent Error: 0.0456527573219\n",
        "Number of Samples: 710000 "
       ]
      },
      {
       "output_type": "stream",
       "stream": "stdout",
       "text": [
        "Percent Error: 0.0273073572796\n",
        "Number of Samples: 720000 "
       ]
      },
      {
       "output_type": "stream",
       "stream": "stdout",
       "text": [
        "Percent Error: 0.0488321799845\n",
        "Number of Samples: 730000 "
       ]
      },
      {
       "output_type": "stream",
       "stream": "stdout",
       "text": [
        "Percent Error: 0.0117200683392\n",
        "Number of Samples: 740000 "
       ]
      },
      {
       "output_type": "stream",
       "stream": "stdout",
       "text": [
        "Percent Error: 0.00361006445727\n",
        "Number of Samples: 750000 "
       ]
      },
      {
       "output_type": "stream",
       "stream": "stdout",
       "text": [
        "Percent Error: 0.113363602455\n",
        "Number of Samples: 760000 "
       ]
      },
      {
       "output_type": "stream",
       "stream": "stdout",
       "text": [
        "Percent Error: 0.0207650801942\n",
        "Number of Samples: 770000 "
       ]
      },
      {
       "output_type": "stream",
       "stream": "stdout",
       "text": [
        "Percent Error: 0.0841971715403\n",
        "Number of Samples: 780000"
       ]
      },
      {
       "output_type": "stream",
       "stream": "stdout",
       "text": [
        " Percent Error: 0.0157561283448\n",
        "Number of Samples: 790000 "
       ]
      },
      {
       "output_type": "stream",
       "stream": "stdout",
       "text": [
        "Percent Error: 0.0468907592654\n",
        "Number of Samples: 800000"
       ]
      },
      {
       "output_type": "stream",
       "stream": "stdout",
       "text": [
        " Percent Error: 0.0924300022632\n",
        "Number of Samples: 810000 "
       ]
      },
      {
       "output_type": "stream",
       "stream": "stdout",
       "text": [
        "Percent Error: 0.0270493221644\n",
        "Number of Samples: 820000"
       ]
      },
      {
       "output_type": "stream",
       "stream": "stdout",
       "text": [
        " Percent Error: 0.011065688202\n",
        "Number of Samples: 830000 "
       ]
      },
      {
       "output_type": "stream",
       "stream": "stdout",
       "text": [
        "Percent Error: 0.148485974437\n",
        "Number of Samples: 840000"
       ]
      },
      {
       "output_type": "stream",
       "stream": "stdout",
       "text": [
        " Percent Error: 0.0203965110366\n",
        "Number of Samples: 850000"
       ]
      },
      {
       "output_type": "stream",
       "stream": "stdout",
       "text": [
        " Percent Error: 0.0578533819179\n",
        "Number of Samples: 860000"
       ]
      },
      {
       "output_type": "stream",
       "stream": "stdout",
       "text": [
        " Percent Error: 0.075734286953\n",
        "Number of Samples: 870000"
       ]
      },
      {
       "output_type": "stream",
       "stream": "stdout",
       "text": [
        " Percent Error: 0.075326891344\n",
        "Number of Samples: 880000"
       ]
      },
      {
       "output_type": "stream",
       "stream": "stdout",
       "text": [
        " Percent Error: 0.057090204559\n",
        "Number of Samples: 890000"
       ]
      },
      {
       "output_type": "stream",
       "stream": "stdout",
       "text": [
        " Percent Error: 0.0381878788692\n",
        "Number of Samples: 900000 "
       ]
      },
      {
       "output_type": "stream",
       "stream": "stdout",
       "text": [
        "Percent Error: 0.040814449471\n",
        "Number of Samples: 910000"
       ]
      },
      {
       "output_type": "stream",
       "stream": "stdout",
       "text": [
        " Percent Error: 0.0272156848041\n",
        "Number of Samples: 920000"
       ]
      },
      {
       "output_type": "stream",
       "stream": "stdout",
       "text": [
        " Percent Error: 0.0843896671459\n",
        "Number of Samples: 930000"
       ]
      },
      {
       "output_type": "stream",
       "stream": "stdout",
       "text": [
        " Percent Error: 0.0195102874827\n",
        "Number of Samples: 940000"
       ]
      },
      {
       "output_type": "stream",
       "stream": "stdout",
       "text": [
        " Percent Error: 0.0554255431964\n",
        "Number of Samples: 950000"
       ]
      },
      {
       "output_type": "stream",
       "stream": "stdout",
       "text": [
        " Percent Error: 0.105220234449\n",
        "Number of Samples: 960000"
       ]
      },
      {
       "output_type": "stream",
       "stream": "stdout",
       "text": [
        " Percent Error: 0.0176415013433\n",
        "Number of Samples: 970000"
       ]
      },
      {
       "output_type": "stream",
       "stream": "stdout",
       "text": [
        " Percent Error: 0.0523274169587\n",
        "Number of Samples: 980000"
       ]
      },
      {
       "output_type": "stream",
       "stream": "stdout",
       "text": [
        " Percent Error: 0.0160083840854\n",
        "Number of Samples: 990000"
       ]
      },
      {
       "output_type": "stream",
       "stream": "stdout",
       "text": [
        " Percent Error: 0.0240860101453\n"
       ]
      }
     ],
     "prompt_number": 34
    },
    {
     "cell_type": "code",
     "collapsed": false,
     "input": [
      "plt.plot(log(N),log(Error))\n",
      "plt.xlabel(\"$log(N)$\",size=20)\n",
      "plt.ylabel(\"$log(Error)$\",size=20)\n",
      "print \"There appears to be a weak inverse exponential relationship between N and Error\""
     ],
     "language": "python",
     "metadata": {},
     "outputs": [
      {
       "output_type": "stream",
       "stream": "stdout",
       "text": [
        "There appears to be a weak exponential relationship between the two functions\n"
       ]
      },
      {
       "metadata": {},
       "output_type": "display_data",
       "png": "[encoded data removed]",
       "text": [
        "<matplotlib.figure.Figure at 0x105d039d0>"
       ]
      }
     ],
     "prompt_number": 13
    },
    {
     "cell_type": "markdown",
     "metadata": {},
     "source": [
      "(c) Estimate the same integral using the sample mean method and compute the statistical uncertainty and error as a function of the number of samples N for $N\u226510^4$. Use at least 100 different values for N.\n",
      "\n",
      "Make a log-log plot of both the statistical uncertainty and the error as a function of N.\n",
      "\n",
      "How many samples are needed to determine the result to two decimal places? What is the approximate functional dependence of the error on N for large N?\n"
     ]
    },
    {
     "cell_type": "code",
     "collapsed": false,
     "input": [
      "def sampleMean(N,xmin=0.,xmax=1.):\n",
      "    f = lambda x: 4.*((1.-x**2.)**(1./2.)) \n",
      "    x = (xmax-xmin)*np.random.random_sample(N)\n",
      "    \n",
      "    approx = f(x)\n",
      "    I = (xmax-xmin)*approx.mean()\n",
      "    Iunc = (xmax-xmin)*np.sqrt(((approx**2.).mean()-(approx.mean())**2.)/N)\n",
      "    return I, Iunc\n"
     ],
     "language": "python",
     "metadata": {},
     "outputs": [],
     "prompt_number": 31
    },
    {
     "cell_type": "code",
     "collapsed": false,
     "input": [
      "Uncertainty = []\n",
      "N = []\n",
      "Error = []\n",
      "for i in range (10000,10**6+10000,10**4):\n",
      "    I,a = sampleMean(i)\n",
      "    print \"Number of Samples: %s\" % i, \"       Result: %s\" % I\n",
      "    print \"Uncertainity: %s\" % a, \" Percent Error: %s\" % abs((((I - pi)/pi))*100)\n",
      "    print \n",
      "    N.append(i)\n",
      "    Error.append(abs((I - pi)/pi))\n",
      "    Uncertainty.append(a)\n",
      "    "
     ],
     "language": "python",
     "metadata": {},
     "outputs": [
      {
       "output_type": "stream",
       "stream": "stdout",
       "text": [
        "Number of Samples: 10000        Result: 3.14546281312\n",
        "Uncertainity: 0.00888403145103  Percent Error: 0.123191003896\n",
        "\n",
        "Number of Samples: 20000        Result: 3.14037074371\n",
        "Uncertainity: 0.00632390676326  Percent Error: 0.0388945994161\n",
        "\n",
        "Number of Samples: 30000        Result: 3.13543193873\n",
        "Uncertainity: 0.00518625274548  Percent Error: 0.196101644525\n",
        "\n",
        "Number of Samples: 40000        Result: 3.14759360177\n",
        "Uncertainity: 0.00444429850021  Percent Error: 0.191016113241\n",
        "\n",
        "Number of Samples: 50000        Result: 3.13800960667\n",
        "Uncertainity: 0.00401146909734  Percent Error: 0.114051925715\n",
        "\n",
        "Number of Samples: 60000        Result: 3.1425961408\n",
        "Uncertainity: 0.00363697305326  Percent Error: 0.0319419899297\n",
        "\n",
        "Number of Samples: 70000        Result: 3.14761452861\n",
        "Uncertainity: 0.00335235520859  Percent Error: 0.191682235336\n",
        "\n",
        "Number of Samples: 80000        Result: 3.14356262893\n",
        "Uncertainity: 0.00314538449551  Percent Error: 0.0627062626178\n",
        "\n",
        "Number of Samples: 90000        Result: 3.13562307927\n",
        "Uncertainity: 0.00299469468869  Percent Error: 0.190017452278\n",
        "\n",
        "Number of Samples: 100000        Result: 3.14104558271\n",
        "Uncertainity: 0.00282349861137  Percent Error: 0.0174138069708\n",
        "\n",
        "Number of Samples: 110000        Result: 3.14139071825\n",
        "Uncertainity: 0.00269390303159  Percent Error: 0.00642780158045\n",
        "\n",
        "Number of Samples: 120000        Result: 3.13890296812\n",
        "Uncertainity: 0.00258249324157  Percent Error: 0.0856153476459\n",
        "\n",
        "Number of Samples: 130000"
       ]
      },
      {
       "output_type": "stream",
       "stream": "stdout",
       "text": [
        "        Result: 3.14524433534\n",
        "Uncertainity: 0.00247545360094  Percent Error: 0.116236640148\n",
        "\n",
        "Number of Samples: 140000        Result: 3.14047303618\n",
        "Uncertainity: 0.00238809207602  Percent Error: 0.0356385290036\n",
        "\n",
        "Number of Samples: 150000        Result: 3.13681178076\n",
        "Uncertainity: 0.00231247647119  Percent Error: 0.152179908538\n",
        "\n",
        "Number of Samples: 160000        Result: 3.14160118427\n",
        "Uncertainity: 0.00223632745949  Percent Error: 0.000271539863987\n",
        "\n",
        "Number of Samples: 170000        Result: 3.14011507657\n",
        "Uncertainity: 0.00217080011239  Percent Error: 0.047032737234\n",
        "\n",
        "Number of Samples: 180000        Result: 3.13845688255\n",
        "Uncertainity: 0.00210697201071  Percent Error: 0.0998146923331\n",
        "\n",
        "Number of Samples: 190000"
       ]
      },
      {
       "output_type": "stream",
       "stream": "stdout",
       "text": [
        "        Result: 3.14069591693\n",
        "Uncertainity: 0.00204864157583  Percent Error: 0.0285440145081\n",
        "\n",
        "Number of Samples: 200000        Result: 3.13983664209\n",
        "Uncertainity: 0.0019990170572  Percent Error: 0.0558955821303\n",
        "\n",
        "Number of Samples: 210000        Result: 3.13742225251\n",
        "Uncertainity: 0.00195639724936  Percent Error: 0.132747989302\n",
        "\n",
        "Number of Samples: 220000        Result: 3.14289159645\n",
        "Uncertainity: 0.00190179859307  Percent Error: 0.0413466354458\n",
        "\n",
        "Number of Samples: 230000        Result: 3.14213525641\n",
        "Uncertainity: 0.00186051513065  Percent Error: 0.0172715842293\n",
        "\n",
        "Number of Samples: 240000"
       ]
      },
      {
       "output_type": "stream",
       "stream": "stdout",
       "text": [
        "        Result: 3.14488592874\n",
        "Uncertainity: 0.00181942711814  Percent Error: 0.104828203912\n",
        "\n",
        "Number of Samples: 250000        Result: 3.13971362363\n",
        "Uncertainity: 0.00179200571048  Percent Error: 0.0598113812623\n",
        "\n",
        "Number of Samples: 260000        Result: 3.14180378173\n",
        "Uncertainity: 0.00175021471217  Percent Error: 0.00672041727895\n",
        "\n",
        "Number of Samples: 270000        Result: 3.14123184702\n",
        "Uncertainity: 0.00172005303982  Percent Error: 0.0114848298665\n",
        "\n",
        "Number of Samples: 280000"
       ]
      },
      {
       "output_type": "stream",
       "stream": "stdout",
       "text": [
        "        Result: 3.14207745708\n",
        "Uncertainity: 0.00168706040076  Percent Error: 0.0154317745083\n",
        "\n",
        "Number of Samples: 290000        Result: 3.14174438939\n",
        "Uncertainity: 0.00165572704753  Percent Error: 0.00482990057199\n",
        "\n",
        "Number of Samples: 300000        Result: 3.14423344817\n",
        "Uncertainity: 0.0016273484477  Percent Error: 0.0840591022725\n",
        "\n",
        "Number of Samples: 310000        Result: 3.13980965754\n",
        "Uncertainity: 0.00160913330733  Percent Error: 0.0567545270577\n",
        "\n",
        "Number of Samples: 320000"
       ]
      },
      {
       "output_type": "stream",
       "stream": "stdout",
       "text": [
        "        Result: 3.14355466154\n",
        "Uncertainity: 0.00157530224818  Percent Error: 0.0624526527635\n",
        "\n",
        "Number of Samples: 330000        Result: 3.14328088921\n",
        "Uncertainity: 0.00155359784323  Percent Error: 0.053738208716\n",
        "\n",
        "Number of Samples: 340000        Result: 3.14344277454\n",
        "Uncertainity: 0.00153056251614  Percent Error: 0.058891178968\n",
        "\n",
        "Number of Samples: 350000        Result: 3.14398021183\n",
        "Uncertainity: 0.00150785496265  Percent Error: 0.0759983392645\n",
        "\n",
        "Number of Samples: 360000"
       ]
      },
      {
       "output_type": "stream",
       "stream": "stdout",
       "text": [
        "        Result: 3.14179686054\n",
        "Uncertainity: 0.00148704438706  Percent Error: 0.00650010921773\n",
        "\n",
        "Number of Samples: 370000        Result: 3.14037169636\n",
        "Uncertainity: 0.00146875321735  Percent Error: 0.0388642757583\n",
        "\n",
        "Number of Samples: 380000        Result: 3.14405916784\n",
        "Uncertainity: 0.00144598963926  Percent Error: 0.0785115869005\n",
        "\n",
        "Number of Samples: 390000"
       ]
      },
      {
       "output_type": "stream",
       "stream": "stdout",
       "text": [
        "        Result: 3.14251927143\n",
        "Uncertainity: 0.00142877998121  Percent Error: 0.0294951619255\n",
        "\n",
        "Number of Samples: 400000        Result: 3.14334272957\n",
        "Uncertainity: 0.00141155681933  Percent Error: 0.0557066486736\n",
        "\n",
        "Number of Samples: 410000        Result: 3.14233948553\n",
        "Uncertainity: 0.00139364779181  Percent Error: 0.0237723989887\n",
        "\n",
        "Number of Samples: 420000"
       ]
      },
      {
       "output_type": "stream",
       "stream": "stdout",
       "text": [
        "        Result: 3.14352572885\n",
        "Uncertainity: 0.00137417108521  Percent Error: 0.0615316966081\n",
        "\n",
        "Number of Samples: 430000        Result: 3.14051019508\n",
        "Uncertainity: 0.00136022187867  Percent Error: 0.0344557246312\n",
        "\n",
        "Number of Samples: 440000        Result: 3.14273255515\n",
        "Uncertainity: 0.00134472161713  Percent Error: 0.036284193633\n",
        "\n",
        "Number of Samples: 450000"
       ]
      },
      {
       "output_type": "stream",
       "stream": "stdout",
       "text": [
        "        Result: 3.14088352139\n",
        "Uncertainity: 0.00133136578943  Percent Error: 0.0225723790335\n",
        "\n",
        "Number of Samples: 460000        Result: 3.14163015639\n",
        "Uncertainity: 0.00131793222414  Percent Error: 0.00119375111967\n",
        "\n",
        "Number of Samples: 470000        Result: 3.14120539914\n",
        "Uncertainity: 0.00130413846725  Percent Error: 0.0123266918471\n",
        "\n",
        "Number of Samples: 480000"
       ]
      },
      {
       "output_type": "stream",
       "stream": "stdout",
       "text": [
        "        Result: 3.14101161909\n",
        "Uncertainity: 0.00129123058624  Percent Error: 0.0184949026106\n",
        "\n",
        "Number of Samples: 490000        Result: 3.14228368885\n",
        "Uncertainity: 0.00127596188308  Percent Error: 0.0219963354412\n",
        "\n",
        "Number of Samples: 500000"
       ]
      },
      {
       "output_type": "stream",
       "stream": "stdout",
       "text": [
        "        Result: 3.14171986035\n",
        "Uncertainity: 0.00126268180934  Percent Error: 0.00404911687538\n",
        "\n",
        "Number of Samples: 510000        Result: 3.14035257777\n",
        "Uncertainity: 0.00125052720173  Percent Error: 0.0394728393191\n",
        "\n",
        "Number of Samples: 520000"
       ]
      },
      {
       "output_type": "stream",
       "stream": "stdout",
       "text": [
        "        Result: 3.14248437009\n",
        "Uncertainity: 0.00123797376571  Percent Error: 0.0283842177359\n",
        "\n",
        "Number of Samples: 530000        Result: 3.14119289519\n",
        "Uncertainity: 0.00122665350188  Percent Error: 0.0127247050554\n",
        "\n",
        "Number of Samples: 540000"
       ]
      },
      {
       "output_type": "stream",
       "stream": "stdout",
       "text": [
        "        Result: 3.14131525597\n",
        "Uncertainity: 0.00121310362031  Percent Error: 0.00882984054902\n",
        "\n",
        "Number of Samples: 550000        Result: 3.1435637913\n",
        "Uncertainity: 0.00120181828043  Percent Error: 0.0627432621084\n",
        "\n",
        "Number of Samples: 560000        Result: 3.14086157503\n",
        "Uncertainity: 0.00119216856874  Percent Error: 0.0232709531675\n",
        "\n",
        "Number of Samples: 570000"
       ]
      },
      {
       "output_type": "stream",
       "stream": "stdout",
       "text": [
        "        Result: 3.14176187906\n",
        "Uncertainity: 0.00118270455857  Percent Error: 0.00538661389132\n",
        "\n",
        "Number of Samples: 580000        Result: 3.13885074223\n",
        "Uncertainity: 0.00117362943454  Percent Error: 0.0872777491333\n",
        "\n",
        "Number of Samples: 590000"
       ]
      },
      {
       "output_type": "stream",
       "stream": "stdout",
       "text": [
        "        Result: 3.14143949353\n",
        "Uncertainity: 0.00116275175232  Percent Error: 0.00487523623418\n",
        "\n",
        "Number of Samples: 600000        Result: 3.14124127927\n",
        "Uncertainity: 0.00115308692807  Percent Error: 0.0111845920445\n",
        "\n",
        "Number of Samples: 610000"
       ]
      },
      {
       "output_type": "stream",
       "stream": "stdout",
       "text": [
        "        Result: 3.13871810822\n",
        "Uncertainity: 0.00114517860388  Percent Error: 0.0914996209475\n",
        "\n",
        "Number of Samples: 620000        Result: 3.14127171613\n",
        "Uncertainity: 0.00113415570745  Percent Error: 0.0102157567722\n",
        "\n",
        "Number of Samples: 630000"
       ]
      },
      {
       "output_type": "stream",
       "stream": "stdout",
       "text": [
        "        Result: 3.1434331946\n",
        "Uncertainity: 0.00112385594823  Percent Error: 0.0585862398466\n",
        "\n",
        "Number of Samples: 640000        Result: 3.14212023635\n",
        "Uncertainity: 0.0011146442575  Percent Error: 0.0167934807971\n",
        "\n",
        "Number of Samples: 650000"
       ]
      },
      {
       "output_type": "stream",
       "stream": "stdout",
       "text": [
        "        Result: 3.14318553473\n",
        "Uncertainity: 0.00110621451256  Percent Error: 0.0507029814821\n",
        "\n",
        "Number of Samples: 660000        Result: 3.13965948042\n",
        "Uncertainity: 0.00109965479012  Percent Error: 0.0615348130151\n",
        "\n",
        "Number of Samples: 670000"
       ]
      },
      {
       "output_type": "stream",
       "stream": "stdout",
       "text": [
        "        Result: 3.14356202249\n",
        "Uncertainity: 0.00108855467066  Percent Error: 0.0626869591697\n",
        "\n",
        "Number of Samples: 680000        Result: 3.14108976759\n",
        "Uncertainity: 0.00108262131057  Percent Error: 0.016007358607\n",
        "\n",
        "Number of Samples: 690000"
       ]
      },
      {
       "output_type": "stream",
       "stream": "stdout",
       "text": [
        "        Result: 3.14145891006\n",
        "Uncertainity: 0.00107519819816  Percent Error: 0.00425718869513\n",
        "\n",
        "Number of Samples: 700000        Result: 3.14193356413\n",
        "Uncertainity: 0.00106793121798  Percent Error: 0.0108515196756\n",
        "\n",
        "Number of Samples: 710000"
       ]
      },
      {
       "output_type": "stream",
       "stream": "stdout",
       "text": [
        "        Result: 3.14136109342\n",
        "Uncertainity: 0.00105887952509  Percent Error: 0.00737078911612\n",
        "\n",
        "Number of Samples: 720000        Result: 3.1417190462\n",
        "Uncertainity: 0.00105230606429  Percent Error: 0.00402320158189\n",
        "\n",
        "Number of Samples: 730000"
       ]
      },
      {
       "output_type": "stream",
       "stream": "stdout",
       "text": [
        "        Result: 3.1428218666\n",
        "Uncertainity: 0.00104445351191  Percent Error: 0.0391270654717\n",
        "\n",
        "Number of Samples: 740000        Result: 3.14306778351\n",
        "Uncertainity: 0.00103692530072  Percent Error: 0.0469548437056\n",
        "\n",
        "Number of Samples: 750000"
       ]
      },
      {
       "output_type": "stream",
       "stream": "stdout",
       "text": [
        "        Result: 3.14056832818\n",
        "Uncertainity: 0.00103297740315  Percent Error: 0.0326052904486\n",
        "\n",
        "Number of Samples: 760000        Result: 3.14107425424\n",
        "Uncertainity: 0.0010228370359  Percent Error: 0.0165011636779\n",
        "\n",
        "Number of Samples: 770000"
       ]
      },
      {
       "output_type": "stream",
       "stream": "stdout",
       "text": [
        "        Result: 3.14292311692\n",
        "Uncertainity: 0.00101743315381  Percent Error: 0.0423499632165\n",
        "\n",
        "Number of Samples: 780000        Result: 3.14180484887\n",
        "Uncertainity: 0.00101050068204  Percent Error: 0.00675438558061\n",
        "\n",
        "Number of Samples: 790000"
       ]
      },
      {
       "output_type": "stream",
       "stream": "stdout",
       "text": [
        "        Result: 3.14223053359\n",
        "Uncertainity: 0.00100350067979  Percent Error: 0.0203043509846\n",
        "\n",
        "Number of Samples: 800000        Result: 3.1415775219\n",
        "Uncertainity: 0.000997968402686  Percent Error: 0.000481656514247\n",
        "\n",
        "Number of Samples: 810000"
       ]
      },
      {
       "output_type": "stream",
       "stream": "stdout",
       "text": [
        "        Result: 3.14122835496\n",
        "Uncertainity: 0.000990933468744  Percent Error: 0.0115959855703\n",
        "\n",
        "Number of Samples: 820000        Result: 3.14063489073\n",
        "Uncertainity: 0.000986418566629  Percent Error: 0.0304865385871\n",
        "\n",
        "Number of Samples: 830000"
       ]
      },
      {
       "output_type": "stream",
       "stream": "stdout",
       "text": [
        "        Result: 3.14181945852\n",
        "Uncertainity: 0.00097954768388  Percent Error: 0.00721942518139\n",
        "\n",
        "Number of Samples: 840000        Result: 3.14091208492\n",
        "Uncertainity: 0.000975349810901  Percent Error: 0.0216631735811\n",
        "\n",
        "Number of Samples: 850000"
       ]
      },
      {
       "output_type": "stream",
       "stream": "stdout",
       "text": [
        "        Result: 3.14199465094\n",
        "Uncertainity: 0.000967621891621  Percent Error: 0.0127959731809\n",
        "\n",
        "Number of Samples: 860000        Result: 3.14102059711\n",
        "Uncertainity: 0.000963059853663  Percent Error: 0.0182091233171\n",
        "\n",
        "Number of Samples: 870000"
       ]
      },
      {
       "output_type": "stream",
       "stream": "stdout",
       "text": [
        "        Result: 3.14221838444\n",
        "Uncertainity: 0.000956652484184  Percent Error: 0.0199176315643\n",
        "\n",
        "Number of Samples: 880000"
       ]
      },
      {
       "output_type": "stream",
       "stream": "stdout",
       "text": [
        "        Result: 3.14185511181\n",
        "Uncertainity: 0.000951922695978  Percent Error: 0.00835430455891\n",
        "\n",
        "Number of Samples: 890000        Result: 3.13974940662\n",
        "Uncertainity: 0.000947964387538  Percent Error: 0.0586723733634\n",
        "\n",
        "Number of Samples: 900000"
       ]
      },
      {
       "output_type": "stream",
       "stream": "stdout",
       "text": [
        "        Result: 3.14172193782\n",
        "Uncertainity: 0.000941006046904  Percent Error: 0.00411524501174\n",
        "\n",
        "Number of Samples: 910000"
       ]
      },
      {
       "output_type": "stream",
       "stream": "stdout",
       "text": [
        "        Result: 3.14282559806\n",
        "Uncertainity: 0.000935051392881  Percent Error: 0.0392458413077\n",
        "\n",
        "Number of Samples: 920000        Result: 3.14106490738\n",
        "Uncertainity: 0.000931178633537  Percent Error: 0.0167986834997"
       ]
      },
      {
       "output_type": "stream",
       "stream": "stdout",
       "text": [
        "\n",
        "\n",
        "Number of Samples: 930000        Result: 3.1413490133\n",
        "Uncertainity: 0.000925991009832  Percent Error: 0.0077553112385\n",
        "\n",
        "Number of Samples: 940000"
       ]
      },
      {
       "output_type": "stream",
       "stream": "stdout",
       "text": [
        "        Result: 3.1406139946\n",
        "Uncertainity: 0.000921737046153  Percent Error: 0.0311516832829\n",
        "\n",
        "Number of Samples: 950000"
       ]
      },
      {
       "output_type": "stream",
       "stream": "stdout",
       "text": [
        "        Result: 3.14230405804\n",
        "Uncertainity: 0.000915437638922  Percent Error: 0.0226447069858\n",
        "\n",
        "Number of Samples: 960000"
       ]
      },
      {
       "output_type": "stream",
       "stream": "stdout",
       "text": [
        "        Result: 3.14228639738\n",
        "Uncertainity: 0.000909911001284  Percent Error: 0.0220825506843\n",
        "\n",
        "Number of Samples: 970000"
       ]
      },
      {
       "output_type": "stream",
       "stream": "stdout",
       "text": [
        "        Result: 3.14271624427\n",
        "Uncertainity: 0.00090642434703  Percent Error: 0.0357650021693\n",
        "\n",
        "Number of Samples: 980000"
       ]
      },
      {
       "output_type": "stream",
       "stream": "stdout",
       "text": [
        "        Result: 3.14296756403\n",
        "Uncertainity: 0.000901838819158  Percent Error: 0.043764758447\n",
        "\n",
        "Number of Samples: 990000"
       ]
      },
      {
       "output_type": "stream",
       "stream": "stdout",
       "text": [
        "        Result: 3.13975099245\n",
        "Uncertainity: 0.000898309652734  Percent Error: 0.0586218948132\n",
        "\n",
        "Number of Samples: 1000000"
       ]
      },
      {
       "output_type": "stream",
       "stream": "stdout",
       "text": [
        "        Result: 3.14258469113\n",
        "Uncertainity: 0.000892016276302  Percent Error: 0.0315775355885\n",
        "\n"
       ]
      }
     ],
     "prompt_number": 46
    },
    {
     "cell_type": "code",
     "collapsed": false,
     "input": [
      "plt.plot(log(N),log(Error))\n",
      "plt.xlabel(\"$log(N)$\",size=20)\n",
      "plt.ylabel(\"$log(Error)$\",size=20)\n"
     ],
     "language": "python",
     "metadata": {},
     "outputs": [
      {
       "metadata": {},
       "output_type": "pyout",
       "prompt_number": 47,
       "text": [
        "<matplotlib.text.Text at 0x106f83c90>"
       ]
      },
      {
       "metadata": {},
       "output_type": "display_data",
       "png": "[encoded data removed]",
       "text": [
        "<matplotlib.figure.Figure at 0x106f92190>"
       ]
      }
     ],
     "prompt_number": 47
    },
    {
     "cell_type": "code",
     "collapsed": false,
     "input": [
      "plt.plot(log(N),log(Uncertainty))\n",
      "plt.xlabel(\"$log(N)$\",size=20)\n",
      "plt.ylabel(\"$log(Error)$\",size=20)\n",
      "print \"From the graphs the error is inversely proportional to N and\\\n",
      "requires around 350,000 samples to be almost always accurate to two decimals\""
     ],
     "language": "python",
     "metadata": {},
     "outputs": [
      {
       "output_type": "stream",
       "stream": "stdout",
       "text": [
        "From the graphs the error is inversely proportional to N andrequires around 350,000 samples to be almost always accurate to two decimals\n"
       ]
      },
      {
       "metadata": {},
       "output_type": "display_data",
       "png": "[encoded data removed]",
       "text": [
        "<matplotlib.figure.Figure at 0x106f7cf10>"
       ]
      }
     ],
     "prompt_number": 52
    },
    {
     "cell_type": "code",
     "collapsed": false,
     "input": [],
     "language": "python",
     "metadata": {},
     "outputs": [],
     "prompt_number": 0
    },
    {
     "cell_type": "code",
     "collapsed": false,
     "input": [],
     "language": "python",
     "metadata": {},
     "outputs": []
    }
   ],
   "metadata": {}
  }
 ]
}