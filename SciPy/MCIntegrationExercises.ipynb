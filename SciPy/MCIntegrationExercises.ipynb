{
 "metadata": {
  "name": "",
  "signature": "sha256:91b863732fa695bef37c49ecea9128128cf28184fd096fa487365ad605b56abe"
 },
 "nbformat": 3,
 "nbformat_minor": 0,
 "worksheets": [
  {
   "cells": [
    {
     "cell_type": "heading",
     "level": 1,
     "metadata": {},
     "source": [
      "Monte Carlo Integration Exercises"
     ]
    },
    {
     "cell_type": "code",
     "collapsed": false,
     "input": [
      "%pylab inline\n",
      "import numpy as np\n",
      "import matplotlib.pyplot as plt\n",
      "from IPython.html.widgets import interact, interactive"
     ],
     "language": "python",
     "metadata": {},
     "outputs": [
      {
       "output_type": "stream",
       "stream": "stdout",
       "text": [
        "Populating the interactive namespace from numpy and matplotlib\n"
       ]
      }
     ],
     "prompt_number": 2
    },
    {
     "cell_type": "heading",
     "level": 3,
     "metadata": {},
     "source": [
      "Question 1"
     ]
    },
    {
     "cell_type": "markdown",
     "metadata": {},
     "source": [
      "\n",
      "\n",
      "Let\u2019s compute the electric potential from a plane of charge as shown in the figure using Monte Carlo integration.\n",
      "\n",
      "The integral comes from summing all the potentials from the chunks of \u201cpoint\u201d charges. Just as we summed two charges for a dipole, now we\u2019ll sum many charges. The important part is to understand how dQ, modeled as a point charge, is related to \u03c3dA, where \u03c3 is the surface charge density = charge/area (\u03c3=Q/A ) Review your notes from PHYS 133 if you need a refresher.\n",
      "\n",
      "We want to use our previously defined pointPotential() function from Electrostatics.py, so we have to import it.\n"
     ]
    },
    {
     "cell_type": "code",
     "collapsed": false,
     "input": [
      "#import our point potential function\n",
      "from Electrostatics import *"
     ],
     "language": "python",
     "metadata": {},
     "outputs": [],
     "prompt_number": 3
    },
    {
     "cell_type": "markdown",
     "metadata": {},
     "source": [
      "(a) Use the sample mean method to compute the potential at point P(2,3) due to the disk of charge for different numbers of samples $N=(10^1,10^2,10^3,10^4,10^5,10^6)$. Report the value and its statistical uncertainty for each sample size. How does the result depend on N?"
     ]
    },
    {
     "cell_type": "code",
     "collapsed": false,
     "input": [
      "help(pointPotential)"
     ],
     "language": "python",
     "metadata": {},
     "outputs": [
      {
       "output_type": "stream",
       "stream": "stdout",
       "text": [
        "Help on function pointPotential in module Electrostatics:\n",
        "\n",
        "pointPotential(x, y, q, Xc, Yc)\n",
        "    Return the electric potential for a \n",
        "    point charge q at (Xc,Yc)\n",
        "    \n",
        "    Units returend are [Volts] if input\n",
        "    units are [meters] and [Coulombs]\n",
        "\n"
       ]
      }
     ],
     "prompt_number": 4
    },
    {
     "cell_type": "code",
     "collapsed": false,
     "input": [
      "\n",
      "k = 9.e9\n",
      "sigma = 1.e-6\n",
      "def sampleMean(N,xmin=-1.,xmax=1.,ymin=0.,ymax=2.):\n",
      "    f = lambda x,y: pointPotential(2,3,sigma,x,y)\n",
      "    x = xmin+(xmax-xmin)*np.random.random_sample(N)\n",
      "    y = (ymax-ymin)*np.random.random_sample(N)\n",
      "    \n",
      "    approx = f(x,y)\n",
      "    I = (xmax-xmin)*(ymax-ymin)*approx.mean()\n",
      "    Iunc = (xmax-xmin)*(ymax-ymin)*np.sqrt(((approx**2.).mean()-(approx.mean())**2.)/N)\n",
      "    return I, Iunc"
     ],
     "language": "python",
     "metadata": {},
     "outputs": [],
     "prompt_number": 28
    },
    {
     "cell_type": "code",
     "collapsed": false,
     "input": [
      "for i in range (1,7,1):\n",
      "    print \"Number of Samples: %s\" % 10**i\n",
      "    print \"Electric Potential: %s V, Uncertainty: +/- %s\" % (sampleMean(10.**i))\n",
      "    print\n",
      "\n",
      "print 'The result becomes more accurate with higher N'\n",
      "                                                             "
     ],
     "language": "python",
     "metadata": {},
     "outputs": [
      {
       "output_type": "stream",
       "stream": "stdout",
       "text": [
        "Number of Samples: 10\n",
        "Electric Potential: 11557.2626152 V, Uncertainty: +/- 533.156959379\n",
        "\n",
        "Number of Samples: 100\n",
        "Electric Potential: 12701.7763348 V, Uncertainty: +/- 295.46245961\n",
        "\n",
        "Number of Samples: 1000\n",
        "Electric Potential: 12988.6681901 V, Uncertainty: +/- 92.8436289357\n",
        "\n",
        "Number of Samples: 10000\n",
        "Electric Potential: 12993.7912854 V, Uncertainty: +/- 29.7737580602\n",
        "\n",
        "Number of Samples: 100000\n",
        "Electric Potential: 13048.6541344 V, Uncertainty: +/- 9.44272754575\n",
        "\n",
        "Number of Samples: 1000000\n",
        "Electric Potential: 13026.3499865 V, Uncertainty: +/- 2.97391709417"
       ]
      },
      {
       "output_type": "stream",
       "stream": "stdout",
       "text": [
        "\n",
        "\n",
        "The result becomes more accurate with higher N\n"
       ]
      }
     ],
     "prompt_number": 29
    },
    {
     "cell_type": "markdown",
     "metadata": {},
     "source": [
      "(b) Now use the same method to compute the electric potential, V, at point P(2,3), from a disk centered on the origin with radius, R=1.2 m, and charge density, \u03c3 = 2 nC/m2 .\n",
      "\n",
      "The integral is\n",
      "\n",
      "$V=\\int_0^{2\\pi}\\int_0^{1.2}\\frac{K\\sigma}{|r\u2212r0|}rd\\theta dr$"
     ]
    },
    {
     "cell_type": "code",
     "collapsed": false,
     "input": [
      "sigma = 2.e-9\n",
      "def sampleMean(N,thetamin=0.,thetamax=2.*pi,rmin=0.,rmax=1.2):\n",
      "    f = lambda theta,r: (k*sigma)*r/abs(r-(13.**(1./2.)))\n",
      "    theta = (thetamax-thetamin)*np.random.random_sample(N)\n",
      "    r = (rmax-rmin)*np.random.random_sample(N)\n",
      "    \n",
      "    approx = f(theta,r)\n",
      "    I = (thetamax-thetamin)*(rmax-rmin)*approx.mean()\n",
      "    Iunc = (thetamax-thetamin)*(rmax-rmin)*np.sqrt(((approx**2.).mean()-(approx.mean())**2.)/N)\n",
      "    return I, Iunc"
     ],
     "language": "python",
     "metadata": {},
     "outputs": [],
     "prompt_number": 32
    },
    {
     "cell_type": "code",
     "collapsed": false,
     "input": [
      "for i in range (1,7,1):\n",
      "    print \"Number of Samples: %s\" % 10**i\n",
      "    print \"Electric Potential: %s V, Uncertainty: +/- %s\" % (sampleMean(10.**i))\n",
      "    print\n",
      "\n",
      "print 'The result becomes more accurate with higher N'\n",
      "                                                          "
     ],
     "language": "python",
     "metadata": {},
     "outputs": [
      {
       "output_type": "stream",
       "stream": "stdout",
       "text": [
        "Number of Samples: 10\n",
        "Electric Potential: 22.8253175654 V, Uncertainty: +/- 4.65256929406\n",
        "\n",
        "Number of Samples: 100\n",
        "Electric Potential: 29.5090656313 V, Uncertainty: +/- 1.99116821383\n",
        "\n",
        "Number of Samples: 1000\n",
        "Electric Potential: 28.9639461691 V, Uncertainty: +/- 0.626073450693\n",
        "\n",
        "Number of Samples: 10000\n",
        "Electric Potential: 29.5175983104 V, Uncertainty: +/- 0.19425671842\n",
        "\n",
        "Number of Samples: 100000\n",
        "Electric Potential: 29.2921322615 V, Uncertainty: +/- 0.061426783743\n",
        "\n",
        "Number of Samples: 1000000\n",
        "Electric Potential: 29.3370677603 V, Uncertainty: +/- 0.01933881656"
       ]
      },
      {
       "output_type": "stream",
       "stream": "stdout",
       "text": [
        "\n",
        "\n",
        "The result becomes more accurate with higher N\n"
       ]
      }
     ],
     "prompt_number": 33
    },
    {
     "cell_type": "heading",
     "level": 3,
     "metadata": {},
     "source": [
      "Question 2\n"
     ]
    },
    {
     "cell_type": "markdown",
     "metadata": {},
     "source": [
      "Use the sample mean method to compute the volume of a sphere with radius 1 using spherical coordinates:\n",
      "\n",
      "$V=\\int_0^1\\int_0^\u03c0\\int_0^{2\u03c0}r^2sin(\u03b8)drd\u03b8d\u03d5$\n",
      "\n",
      "for $N = (10^1,10^2,10^3,10^4,10^5,10^6)$. Report the value and statistical uncertainty for each sample size. How does the result depend on N?"
     ]
    },
    {
     "cell_type": "code",
     "collapsed": false,
     "input": [
      "def sampleMean(N,thetamin=0.,thetamax=pi,rmin=0.,rmax=1.,phimin = 0.,phimax = 2.*pi):\n",
      "    f = lambda theta,r,phi: r**2 * sin(theta) \n",
      "    theta = (thetamax-thetamin)*np.random.random_sample(N)\n",
      "    r = (rmax-rmin)*np.random.random_sample(N)\n",
      "    phi = (phimax-phimin)*np.random.random_sample(N)\n",
      "    \n",
      "    approx = f(theta,r,phi)\n",
      "    I = (thetamax-thetamin)*(rmax-rmin)*(phimax-phimin)*approx.mean()\n",
      "    Iunc = (thetamax-thetamin)*(rmax-rmin)*np.sqrt(((approx**2.).mean()-(approx.mean())**2.)/N)\n",
      "    return I, Iunc"
     ],
     "language": "python",
     "metadata": {},
     "outputs": [],
     "prompt_number": 40
    },
    {
     "cell_type": "code",
     "collapsed": false,
     "input": [
      "for i in range (1,7,1):\n",
      "    print \"Number of Samples: %s\" % 10**i\n",
      "    print \"Electric Potential: %s V, Uncertainty: +/- %s\" % (sampleMean(10.**i))\n",
      "    print\n",
      "\n",
      "print 'The result becomes more accurate with higher N'\n",
      "                                                          "
     ],
     "language": "python",
     "metadata": {},
     "outputs": [
      {
       "output_type": "stream",
       "stream": "stdout",
       "text": [
        "Number of Samples: 10\n",
        "Electric Potential: 6.52353903246 V, Uncertainty: +/- 0.230965764524\n",
        "\n",
        "Number of Samples: 100\n",
        "Electric Potential: 4.19456333879 V, Uncertainty: +/- 0.0786553242133\n",
        "\n",
        "Number of Samples: 1000\n",
        "Electric Potential: 4.122736091 V, Uncertainty: +/- 0.022963315855\n",
        "\n",
        "Number of Samples: 10000\n",
        "Electric Potential: 4.16473627716 V, Uncertainty: +/- 0.00733527427956\n",
        "\n",
        "Number of Samples: 100000\n",
        "Electric Potential: 4.18550805472 V, Uncertainty: +/- 0.0023242316218\n",
        "\n",
        "Number of Samples: 1000000\n",
        "Electric Potential: 4.19296115798 V, Uncertainty: +/- 0.000736596538522"
       ]
      },
      {
       "output_type": "stream",
       "stream": "stdout",
       "text": [
        "\n",
        "\n",
        "The result becomes more accurate with higher N\n"
       ]
      }
     ],
     "prompt_number": 41
    },
    {
     "cell_type": "code",
     "collapsed": false,
     "input": [
      "print (4./3.)*pi*1"
     ],
     "language": "python",
     "metadata": {},
     "outputs": [
      {
       "output_type": "stream",
       "stream": "stdout",
       "text": [
        "4.18879020479\n"
       ]
      }
     ],
     "prompt_number": 39
    },
    {
     "cell_type": "code",
     "collapsed": false,
     "input": [],
     "language": "python",
     "metadata": {},
     "outputs": []
    }
   ],
   "metadata": {}
  }
 ]
}